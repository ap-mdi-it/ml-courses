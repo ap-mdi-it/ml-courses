{
    "cells": [
        {
            "cell_type": "markdown",
            "id": "185ec471",
            "metadata": {},
            "source": [
                "# Introductie\n",
                "(target-linear-regression)=\n",
                "**Lineaire regressie** is een centraal **model** binnen Machine Learning. Om de wiskunde van ML te begrijpen is het een absolute _must_ om dit model - en vooral ook de geassocieerde leeralgoritmes - ten volle te doorgronden. Het model komt uit de statistiek en veronderstelt dat **bepaalde target data (\"_responsvariabele(n)_\" genoemd in de statistiek) in lineair verband staan met één of meerdere features (ook wel \"_predictoren_\" genoemd in de de statistiek**).  \n",
                "  \n",
                "(target-coffee-simulation)=\n",
                "## Data simulatie\n",
                "We beginnen met de simulatie van een simpele situatie. Stel dat er in een ideale wereld (voor koffiehuizen) een lineaire relatie bestaat tussen de grootte van een bestelling en de fooi die klanten erbovenop betalen:\n",
                "$$\n",
                "y = b_1 + b_2x\n",
                "$$\n",
                "waarbij $y$ de grootte van de fooi is, $b_1$ een basis fooi en $b_2$ een multiplicatie factor voor de prijs van de aankoop.  \n",
                "Het _probleem_ dat we willen oplossen is het achterhalen van $b_1$ en $b_2$.  \n",
                "We verzamelen daarvoor data van $50$ aankopen en houden er rekening mee dat er een meetfout zal zijn: de lineaire relatie zal niet altijd perfect zijn.  \n",
                "Ons model voor de data is het volgende:\n",
                "\n",
                "$$\n",
                "\\begin{align}\n",
                "\\pmb{y} &= b_1 + b_2\\pmb{x} + \\pmb{e} \\cr\n",
                "\\pmb{y} &= \\pmb{X}\\pmb{b} + \\pmb{e}\n",
                "\\end{align}\n",
                "$$\n",
                "\n",
                "met\n",
                "\n",
                "$$\n",
                "\\pmb{X} = \\begin{bmatrix}\n",
                "1 & x_1 \\cr\n",
                "1 & x_2 \\cr\n",
                "\\vdots & \\vdots \\cr\n",
                "1 & x_{50} \\cr\n",
                "\\end{bmatrix}\n",
                "$$\n",
                "\n",
                "$$\n",
                "\\pmb{b} = \\begin{bmatrix}\n",
                "b_1 \\cr\n",
                "b_2\n",
                "\\end{bmatrix}\n",
                "$$\n",
                "\n",
                "We gaan ervan uit dat ieder data punt een additieve ruis component heeft:\n",
                "\n",
                "$$\n",
                "e_i = y_i - b_1 - b_2*x_i\n",
                "$$\n",
                "\n",
                "met als verwachtte waarde $0$ bij een oneindig aantal observaties:\n",
                "\n",
                "$$\n",
                "E(\\pmb{e}) = \\pmb{0}\n",
                "$$\n",
                "\n",
                "Wat impliceert:\n",
                "\n",
                "$$\n",
                "E(\\pmb{y}) = \\pmb{X}\\pmb{b}\n",
                "$$\n",
                "\n",
                "::: {tip}\n",
                "Merk terloops op dat we in dit model ervan uitgaan dat de aankoopprijzen $\\pmb{x}$ zijn wat ze zijn, dus verkregen zijn _zonder_ meetfout.\n",
                ":::\n",
                "\n",
                "Om data te simuleren gebruikten we de volgende waarden voor de modelparameters:\n",
                "\n",
                "$$\n",
                "\\begin{align}\n",
                "b_1 &= 0.50 \\cr\n",
                "b_2 &= 0.15\n",
                "\\end{align}\n",
                "$$\n",
                "\n",
                "De ruis simuleren we door steekproeven te nemen uit een normale (_Gauss_) verdeling met gemiddelde 0 en standaardafwijking $\\sigma=0.30$[^prob]:\n",
                "\n",
                "$$\n",
                "e_i \\sim N(0, 0.30)\n",
                "$$\n",
                "  \n",
                "(naming-target)=\n",
                ":::{note} $b_1$, $b_2$ benamingen\n",
                "In de geometrische voorstelling van lineaire regressie wordt $b_1$ ook het ($y$) _intercept_ genoemd aangezien het verwijst naar het snijpunt van de rechte met de $y$-as (coördinaat $(0, b_1)$). De parameter $b_2$ wordt de _slope_ genoemd omdat die de richtingscoëfficiënt van de rechte uitdrukt.  \n",
                "In machine learning wordt $b_1$ ook als _bias_ benoemd.\n",
                ":::\n",
                "  \n",
                "Voor de grootte van de orders $\\pmb{x}$ te simuleren, trekken we 50 samples uit een _uniforme verdeling_[^prob] met de volgende parameters.\n",
                "\n",
                "$$\n",
                "x_i \\sim U(3, 25)\n",
                "$$\n",
                "\n",
                "[^prob]: We komen hierop terug in de secties over probabiliteit. "
            ]
        },
        {
            "cell_type": "code",
            "execution_count": 2,
            "id": "c2b2aaa8",
            "metadata": {
                "tags": [
                    "hide-input"
                ]
            },
            "outputs": [],
            "source": [
                "import matplotlib.pyplot as plt\n",
                "import numpy as np\n",
                "import pandas as pd\n",
                "import plotly.express as px\n",
                "\n",
                "from ml_courses.sim.linear_regression_sse_viz import LinearRegressionSSEVisualizer"
            ]
        },
        {
            "cell_type": "code",
            "execution_count": 3,
            "id": "1583034d",
            "metadata": {
                "tags": [
                    "hide-input"
                ]
            },
            "outputs": [
                {
                    "name": "stdout",
                    "output_type": "stream",
                    "text": [
                        "☕ COFFEE SHOP TIPPING ANALYSIS\n",
                        "True relationship: Tip = $0.50 + 15.0% × Order Total\n",
                        "We collected data from 50 customers\n",
                        "Order range: $3.96 - $24.46\n",
                        "Tip range: $0.94 - $3.90\n"
                    ]
                },
                {
                    "name": "stderr",
                    "output_type": "stream",
                    "text": [
                        "/opt/venv/lib/python3.10/site-packages/IPython/core/pylabtools.py:170: UserWarning: Glyph 9749 (\\N{HOT BEVERAGE}) missing from font(s) Liberation Sans.\n",
                        "  fig.canvas.print_figure(bytes_io, **kw)\n"
                    ]
                },
                {
                    "data": {
                        "image/png": "[encoded data removed]",
                        "text/plain": [
                            "<Figure size 1000x600 with 1 Axes>"
                        ]
                    },
                    "metadata": {},
                    "output_type": "display_data"
                },
                {
                    "name": "stdout",
                    "output_type": "stream",
                    "text": [
                        "\n",
                        "📊 Quick stats:\n",
                        "Average tip percentage: 19.1%\n",
                        "Most generous tip: $3.90 (on $21.31 order)\n",
                        "Most modest tip: $0.94 (on $5.86 order)\n"
                    ]
                }
            ],
            "source": [
                "rng = np.random.default_rng(42)  # Create a random number generator\n",
                "\n",
                "# Set style for prettier plots\n",
                "plt.style.use(\"seaborn-v0_8\")\n",
                "\n",
                "# Simulate realistic coffee shop data\n",
                "n_customers = 50\n",
                "\n",
                "# True relationship: people generally tip ~15% plus a small base amount\n",
                "true_tip_rate = 0.15  # 15% of order total\n",
                "true_base_tip = 0.50  # $0.50 base tip regardless of order size\n",
                "tip_noise_std = 0.30  # Some randomness in tipping behavior\n",
                "\n",
                "# Generate realistic order totals ($3 to $25)\n",
                "order_totals = rng.uniform(3, 25, n_customers)\n",
                "order_totals = np.sort(order_totals)  # Sort for nicer visualization\n",
                "\n",
                "# Generate corresponding tip amounts with realistic noise\n",
                "true_tips = true_tip_rate * order_totals + true_base_tip\n",
                "tip_noise = rng.normal(0, tip_noise_std, n_customers)\n",
                "observed_tips = np.maximum(0, true_tips + tip_noise)  # Tips can't be negative\n",
                "\n",
                "print(\"☕ COFFEE SHOP TIPPING ANALYSIS\")\n",
                "print(f\"True relationship: Tip = ${true_base_tip:.2f} + {true_tip_rate:.1%} × Order Total\")\n",
                "print(f\"We collected data from {n_customers} customers\")\n",
                "print(f\"Order range: ${order_totals.min():.2f} - ${order_totals.max():.2f}\")\n",
                "print(f\"Tip range: ${observed_tips.min():.2f} - ${observed_tips.max():.2f}\")\n",
                "\n",
                "# Plot the coffee shop data\n",
                "plt.figure(figsize=(10, 6))\n",
                "plt.scatter(\n",
                "    order_totals,\n",
                "    observed_tips,\n",
                "    alpha=0.7,\n",
                "    color=\"saddlebrown\",\n",
                "    s=60,\n",
                "    edgecolor=\"white\",\n",
                "    linewidth=0.5,\n",
                "    label=\"Customer tips\",\n",
                ")\n",
                "plt.plot(\n",
                "    order_totals,\n",
                "    true_tips,\n",
                "    \"r--\",\n",
                "    linewidth=2,\n",
                "    label=f\"True relationship (${true_base_tip:.2f} + {true_tip_rate:.1%} × order)\",\n",
                ")\n",
                "plt.xlabel(\"Order Total ($)\")\n",
                "plt.ylabel(\"Tip Amount ($)\")\n",
                "plt.title(\"☕ Order Size vs Tips\")\n",
                "plt.legend()\n",
                "plt.grid(True, alpha=0.3)\n",
                "plt.show()\n",
                "\n",
                "# Quick stats for context\n",
                "avg_tip_percent = np.mean(observed_tips / order_totals) * 100\n",
                "print(\"\\n📊 Quick stats:\")\n",
                "print(f\"Average tip percentage: {avg_tip_percent:.1f}%\")\n",
                "print(\n",
                "    f\"Most generous tip: ${observed_tips.max():.2f} (on ${order_totals[np.argmax(observed_tips)]:.2f} order)\"\n",
                ")\n",
                "print(\n",
                "    f\"Most modest tip: ${observed_tips.min():.2f} (on ${order_totals[np.argmin(observed_tips)]:.2f} order)\"\n",
                ")"
            ]
        },
        {
            "cell_type": "markdown",
            "id": "18e08c2d",
            "metadata": {},
            "source": [
                ":::{important}\n",
                "Zoals te zien is in de visualisatie, is er geen oplossing voor $\\pmb{b} = [b_1, b_2]^T$ die door alle punten loopt. Dit komt door de aanwezigheid van de additieve error vector $\\pmb{e} \\neq \\pmb{0}$ in de simulatie. Mocht $\\pmb{e} = \\pmb{0}$ zijn, reduceert de lineaire regressie vergelijking tot $\\pmb{y} = \\pmb{X}\\pmb{b}$. Alle punten vallen dan op éénzelfde lijn en we kunnen alle vergelijkingen $y_i = b_1 + b_2x_i$ beschouwen als een stelsel van lineaire vergelijkingen waarvoor we de oplossing kunnen vinden aan de hand van de matrix-inverse van $\\pmb{X}$:\n",
                "\n",
                "$$\n",
                "\\pmb{b} = \\pmb{X}^{-1}\\pmb{y}\n",
                "$$\n",
                "\n",
                "Deze oplossing is hier _niet_ aan de orde omdat het lineaire regressie model veronderstelt dat $\\pmb{e} \\neq \\pmb{0}$.\n",
                ":::"
            ]
        },
        {
            "cell_type": "markdown",
            "id": "1a3b90bd",
            "metadata": {},
            "source": [
                "## _Loss_ functie: $SSE$\n",
                "\n",
                ":::{note} Definitie\n",
                ":class: dropdown\n",
                "De _Loss_ functie is de wiskundige functie die de _sub-optimaliteit_ uitdrukt van parameterschattingen in een bepaalde context. Het doel van het optimalisatie-algorithme is om de output van die functie te _minimaliseren_.[^ml_principles]\n",
                "\n",
                ":::\n",
                "\n",
                "Om het leeralgoritme sturen, kiezen we hier voor de **_Sum of Squared Errors ($SSE$)_** functie[^ml_principles]:\n",
                "\n",
                "$$\n",
                "\\mathcal{L}_{SSE}(f(\\pmb{x}); \\pmb{y}) = \\sum_{i=1}^M(y_i-f(x_i))^2\n",
                "$$\n",
                "\n",
                "waarbij\n",
                "\n",
                "$$\n",
                "f(\\pmb{x}) = \\pmb{X}\\pmb{\\hat{b}} = \\hat{\\pmb{y}}\n",
                "$$\n",
                "\n",
                "De vector $\\pmb{y}$-hoedje ($\\hat{\\pmb{y}}$) staat voor onze _voorspelde waarden_ voor de eigenlijke fooien $\\pmb{y}$ _op basis van onze schattingen_ voor de parameters $\\hat{\\pmb{b}} = \\begin{bmatrix} \\hat{b_1} & \\hat{b_2} \\end{bmatrix}^T$ (de argumenten van de _functie_ $f(\\pmb{x})$) op een bepaald moment in het leerproces.\n",
                "\n",
                ":::{note} _Squared_ $L^2$ _loss_\n",
                ":class: dropdown\n",
                "\n",
                "Merk op dat we de $SSE$ _loss_ kunnen schrijven als:\n",
                "\n",
                "$$\n",
                "\\begin{align}\n",
                "\\mathcal{L}_{SSE}(f(\\pmb{x}); \\pmb{y}) &= \\sum_{i=1}^M(y_i-\\hat{y_i})^2 \\cr\n",
                "&= \\sum_{i=1}^M(y_i-\\hat{y_i})(y_i-\\hat{y_i})\n",
                "\\end{align}\n",
                "$$\n",
                "\n",
                "als we het verschil tussen _geobserveerde_ fooi en _geschatte_ fooi $(y_i-\\hat{y_i})$ aanduiden met $\\pmb{d_i}$, krijgen we:\n",
                "\n",
                "$$\n",
                "\\begin{align}\n",
                "\\mathcal{L}_{SSE}(f(\\pmb{x}); \\pmb{y}) &= \\sum_{i=1}^Md_id_i \\cr\n",
                "&= \\pmb{d}^T\\pmb{d}\n",
                "\\end{align}\n",
                "$$\n",
                "\n",
                "(target-sse)=\n",
                "Terugkijkend naar de definitie van de Euclidische norm ($L^2$; $||\\pmb{a}||_2 = \\sqrt{\\pmb{a}^T\\pmb{a}}$), volgt dat de $SSE$ _loss_ overeenkomt met het _kwadraat_ van de $L^2$ norm van de vector van verschillen $\\pmb{d}$ tussen geobserveerde waarden $\\pmb{y}$ en geschatte waarden $\\hat{\\pmb{y}}$. \n",
                ":::\n",
                "\n",
                ":::{important} _Mean Squared Error ($MSE$) loss_  \n",
                "(target-mse)=\n",
                "In de praktijk wordt vaak met het gemiddelde van de gekwadrateerde verschillen gewerkt, de zogeheten _Mean Squared Error ($MSE$) loss_:\n",
                "\n",
                "$$\n",
                "\\mathcal{L}_{MSE}(f(\\pmb{x}); \\pmb{y}) = \\frac{\\sum_{i=1}^M(y_i-f(x_i))^2}{M}\n",
                "$$\n",
                "\n",
                "of \n",
                "\n",
                "$$\n",
                "\\mathcal{L}_{MSE}(f(\\pmb{x}); \\pmb{y}) = \\frac{\\mathcal{L}_{SSE}}{M}\n",
                "$$\n",
                "\n",
                "$\\mathcal{L}_{MSE}$ is dus identiek aan $\\mathcal{L}_{SSE}$, op de factor $\\frac{1}{M}$ na. Bij de wiskundige uiteenzettingen gebruiken we $\\mathcal{L}_{SSE}$ omwille van eenvoud in notatie. In de praktijk verkiezen we $\\mathcal{L}_{MSE}$ wegens het risico op _overflow error_ bij $\\mathcal{L}_{SSE}$.\n",
                ":::\n",
                "\n",
                "**De bedoeling van het _leeralgoritme_ is dus om op zoek te gaan naar waarden voor de model parameters $\\pmb{b}$ die $\\mathcal{L}_{SSE}$ _minimaliseren_**.\n",
                "\n",
                "[^ml_principles]: Zoals gezien in de cursus _ML Principles_"
            ]
        },
        {
            "cell_type": "code",
            "execution_count": 4,
            "id": "0afb1324",
            "metadata": {
                "tags": [
                    "hide-input"
                ]
            },
            "outputs": [],
            "source": [
                "def calculate_loss(b1, b2, x, y):\n",
                "    \"\"\"\n",
                "    Calculate how badly our guessed relationship predicts actual tips.\n",
                "\n",
                "    Parameters\n",
                "    ----------\n",
                "    b1 : float\n",
                "        The base tip amount in dollars\n",
                "    b2 : float\n",
                "        The percentage rate (e.g., 0.15 for 15%)\n",
                "    x : array\n",
                "        Customer order amounts\n",
                "    y : array\n",
                "        Actual tips customers left\n",
                "\n",
                "    Returns\n",
                "    -------\n",
                "    float : sum of squared prediction errors (lower = better)\n",
                "    \"\"\"\n",
                "    y_hat = b1 + b2 * x\n",
                "    d = y - y_hat\n",
                "    loss = np.sum(d**2)  # Sum of squared errors\n",
                "    return loss"
            ]
        },
        {
            "cell_type": "code",
            "execution_count": 5,
            "id": "38bf6bd3",
            "metadata": {
                "tags": [
                    "hide-input"
                ]
            },
            "outputs": [
                {
                    "data": {
                        "image/png": "[encoded data removed]",
                        "text/plain": [
                            "<Figure size 1000x600 with 1 Axes>"
                        ]
                    },
                    "metadata": {},
                    "output_type": "display_data"
                },
                {
                    "name": "stdout",
                    "output_type": "stream",
                    "text": [
                        "📊 SSE Loss with guessed parameters (b1=$1.50, b2=0.1): 27.65\n"
                    ]
                }
            ],
            "source": [
                "# Define the guessed parameters\n",
                "b1_guess = 1.5  # Base tip guess\n",
                "b2_guess = 0.05  # Tip rate guess\n",
                "\n",
                "# Calculate predicted values using the guessed parameters\n",
                "predicted_tips = b1_guess + b2_guess * order_totals\n",
                "\n",
                "# Calculate the SSE loss for these parameters\n",
                "guess_loss = calculate_loss(b1_guess, b2_guess, order_totals, observed_tips)\n",
                "\n",
                "# Create the visualization\n",
                "plt.figure(figsize=(10, 6))\n",
                "\n",
                "# Plot the observed data points\n",
                "plt.scatter(\n",
                "    order_totals,\n",
                "    observed_tips,\n",
                "    alpha=0.7,\n",
                "    color=\"saddlebrown\",\n",
                "    s=60,\n",
                "    edgecolor=\"white\",\n",
                "    linewidth=0.5,\n",
                "    label=\"Customer tips\",\n",
                ")\n",
                "\n",
                "# Plot true relationship\n",
                "plt.plot(\n",
                "    order_totals,\n",
                "    true_tips,\n",
                "    \"r--\",\n",
                "    linewidth=2,\n",
                "    label=f\"True relationship (${true_base_tip:.2f} + {true_tip_rate:.1%} × order)\",\n",
                ")\n",
                "\n",
                "# Plot the guessed relationship line (green)\n",
                "plt.plot(\n",
                "    order_totals,\n",
                "    predicted_tips,\n",
                "    \"g-\",\n",
                "    linewidth=2,\n",
                "    label=f\"Guessed relationship (${b1_guess:.2f} + {b2_guess:.1f} × order)\",\n",
                ")\n",
                "\n",
                "# Add error lines from each point to the green line\n",
                "for i in range(len(order_totals)):\n",
                "    plt.plot(\n",
                "        [order_totals[i], order_totals[i]],\n",
                "        [observed_tips[i], predicted_tips[i]],\n",
                "        \"r--\",\n",
                "        alpha=0.6,\n",
                "        linewidth=1,\n",
                "    )\n",
                "\n",
                "# Formatting\n",
                "plt.xlabel(\"Order Total ($)\")\n",
                "plt.ylabel(\"Tip Amount ($)\")\n",
                "plt.title(\"☕ Order Size vs Tips - Showing Prediction Errors\")\n",
                "plt.legend()\n",
                "plt.grid(True, alpha=0.3)\n",
                "plt.show()\n",
                "\n",
                "# Print the loss value\n",
                "print(\n",
                "    f\"📊 SSE Loss with guessed parameters (b1=${b1_guess:.2f}, b2={b2_guess:.1f}): {guess_loss:.2f}\"\n",
                ")"
            ]
        },
        {
            "cell_type": "markdown",
            "id": "9d940407",
            "metadata": {},
            "source": [
                "## Visualisatie van het $SSE$ oppervlak\n",
                "\n",
                "We kunnen in deze éénvoudige simulatie met 2 parameters ($b_1$ en $b_2$), de $SSE$ _loss_ functie voorstellen als een 3D oppervlak: $\\{x: b_1, y: b_2, z: SSE\\}$. We maken:\n",
                "1. een _grid_ van $(b_1, b_2)$ coördinaten $(x, y)$,\n",
                "2. berekenen de overeenkomstige $SSE$ (als $z$-coördinaat) en\n",
                "3. stellen de resulterende 3D coördinaten voor als een oppervlak."
            ]
        },
        {
            "cell_type": "code",
            "execution_count": 6,
            "id": "748b6656",
            "metadata": {
                "tags": [
                    "hide-input"
                ]
            },
            "outputs": [
                {
                    "data": {
                        "application/vnd.plotly.v1+json": {
                            "config": {
                                "plotlyServerURL": "https://plot.ly"
                            },
                            "data": [
                                {
                                    "colorbar": {
                                        "title": {
                                            "text": "SSE"
                                        },
                                        "x": -0.2
                                    },
                                    "colorscale": [
                                        [
                                            0,
                                            "rgb(5,48,97)"
                                        ],
                                        [
                                            0.1,
                                            "rgb(33,102,172)"
                                        ],
                                        [
                                            0.2,
                                            "rgb(67,147,195)"
                                        ],
                                        [
                                            0.3,
                                            "rgb(146,197,222)"
                                        ],
                                        [
                                            0.4,
                                            "rgb(209,229,240)"
                                        ],
                                        [
                                            0.5,
                                            "rgb(247,247,247)"
                                        ],
                                        [
                                            0.6,
                                            "rgb(253,219,199)"
                                        ],
                                        [
                                            0.7,
                                            "rgb(244,165,130)"
                                        ],
                                        [
                                            0.8,
                                            "rgb(214,96,77)"
                                        ],
                                        [
                                            0.9,
                                            "rgb(178,24,43)"
                                        ],
                                        [
                                            1,
                                            "rgb(103,0,31)"
                                        ]
                                    ],
                                    "contours": {
                                        "z": {
                                            "highlightcolor": "limegreen",
                                            "project": {
                                                "z": true
                                            },
                                            "show": true,
                                            "usecolormap": true
                                        }
                                    },
                                    "hovertemplate": "<b>Parameters:</b><br>bias: %{x:.3f}<br>slope: %{y:.3f}<br>SSE: %{z:.3f}<br><extra></extra>",
                                    "name": "SSE Surface",
                                    "showscale": true,
                                    "type": "surface",
                                    "x": {
                                        "bdata": "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",
                                        "dtype": "f8",
                                        "shape": "40, 40"
                                    },
                                    "y": {
                                        "bdata": "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",
                                        "dtype": "f8",
                                        "shape": "40, 40"
                                    },
                                    "z": {
                                        "bdata": "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",
                                        "dtype": "f8",
                                        "shape": "40, 40"
                                    }
                                },
                                {
                                    "hovertemplate": "<b>True Minimum:</b><br>bias: %{x:.3f}<br>slope: %{y:.3f}<br>SSE: %{z:.3f}<br><extra></extra>",
                                    "marker": {
                                        "color": "gold",
                                        "line": {
                                            "color": "black",
                                            "width": 2
                                        },
                                        "size": 10,
                                        "symbol": "diamond"
                                    },
                                    "mode": "markers",
                                    "name": "True Minimum",
                                    "type": "scatter3d",
                                    "x": [
                                        0.5
                                    ],
                                    "y": [
                                        0.15
                                    ],
                                    "z": [
                                        2.710780844546495
                                    ]
                                },
                                {
                                    "hovertemplate": "<b>Surface Minimum:</b><br>bias: %{x:.3f}<br>slope: %{y:.3f}<br>SSE: %{z:.3f}<br><extra></extra>",
                                    "marker": {
                                        "color": "limegreen",
                                        "line": {
                                            "color": "black",
                                            "width": 2
                                        },
                                        "size": 10,
                                        "symbol": "diamond"
                                    },
                                    "mode": "markers",
                                    "name": "Surface Minimum",
                                    "type": "scatter3d",
                                    "x": [
                                        1
                                    ],
                                    "y": [
                                        0.11153846153846159
                                    ],
                                    "z": [
                                        4.304898979291208
                                    ]
                                }
                            ],
                            "layout": {
                                "height": 600,
                                "margin": {
                                    "b": 0,
                                    "l": 80,
                                    "r": 0,
                                    "t": 40
                                },
                                "scene": {
                                    "camera": {
                                        "eye": {
                                            "x": 1.5,
                                            "y": 1.5,
                                            "z": 1.5
                                        }
                                    },
                                    "xaxis": {
                                        "title": {
                                            "text": "bias"
                                        }
                                    },
                                    "yaxis": {
                                        "title": {
                                            "text": "slope"
                                        }
                                    },
                                    "zaxis": {
                                        "title": {
                                            "text": "SSE"
                                        }
                                    }
                                },
                                "template": {
                                    "data": {
                                        "bar": [
                                            {
                                                "error_x": {
                                                    "color": "#2a3f5f"
                                                },
                                                "error_y": {
                                                    "color": "#2a3f5f"
                                                },
                                                "marker": {
                                                    "line": {
                                                        "color": "#E5ECF6",
                                                        "width": 0.5
                                                    },
                                                    "pattern": {
                                                        "fillmode": "overlay",
                                                        "size": 10,
                                                        "solidity": 0.2
                                                    }
                                                },
                                                "type": "bar"
                                            }
                                        ],
                                        "barpolar": [
                                            {
                                                "marker": {
                                                    "line": {
                                                        "color": "#E5ECF6",
                                                        "width": 0.5
                                                    },
                                                    "pattern": {
                                                        "fillmode": "overlay",
                                                        "size": 10,
                                                        "solidity": 0.2
                                                    }
                                                },
                                                "type": "barpolar"
                                            }
                                        ],
                                        "carpet": [
                                            {
                                                "aaxis": {
                                                    "endlinecolor": "#2a3f5f",
                                                    "gridcolor": "white",
                                                    "linecolor": "white",
                                                    "minorgridcolor": "white",
                                                    "startlinecolor": "#2a3f5f"
                                                },
                                                "baxis": {
                                                    "endlinecolor": "#2a3f5f",
                                                    "gridcolor": "white",
                                                    "linecolor": "white",
                                                    "minorgridcolor": "white",
                                                    "startlinecolor": "#2a3f5f"
                                                },
                                                "type": "carpet"
                                            }
                                        ],
                                        "choropleth": [
                                            {
                                                "colorbar": {
                                                    "outlinewidth": 0,
                                                    "ticks": ""
                                                },
                                                "type": "choropleth"
                                            }
                                        ],
                                        "contour": [
                                            {
                                                "colorbar": {
                                                    "outlinewidth": 0,
                                                    "ticks": ""
                                                },
                                                "colorscale": [
                                                    [
                                                        0,
                                                        "#0d0887"
                                                    ],
                                                    [
                                                        0.1111111111111111,
                                                        "#46039f"
                                                    ],
                                                    [
                                                        0.2222222222222222,
                                                        "#7201a8"
                                                    ],
                                                    [
                                                        0.3333333333333333,
                                                        "#9c179e"
                                                    ],
                                                    [
                                                        0.4444444444444444,
                                                        "#bd3786"
                                                    ],
                                                    [
                                                        0.5555555555555556,
                                                        "#d8576b"
                                                    ],
                                                    [
                                                        0.6666666666666666,
                                                        "#ed7953"
                                                    ],
                                                    [
                                                        0.7777777777777778,
                                                        "#fb9f3a"
                                                    ],
                                                    [
                                                        0.8888888888888888,
                                                        "#fdca26"
                                                    ],
                                                    [
                                                        1,
                                                        "#f0f921"
                                                    ]
                                                ],
                                                "type": "contour"
                                            }
                                        ],
                                        "contourcarpet": [
                                            {
                                                "colorbar": {
                                                    "outlinewidth": 0,
                                                    "ticks": ""
                                                },
                                                "type": "contourcarpet"
                                            }
                                        ],
                                        "heatmap": [
                                            {
                                                "colorbar": {
                                                    "outlinewidth": 0,
                                                    "ticks": ""
                                                },
                                                "colorscale": [
                                                    [
                                                        0,
                                                        "#0d0887"
                                                    ],
                                                    [
                                                        0.1111111111111111,
                                                        "#46039f"
                                                    ],
                                                    [
                                                        0.2222222222222222,
                                                        "#7201a8"
                                                    ],
                                                    [
                                                        0.3333333333333333,
                                                        "#9c179e"
                                                    ],
                                                    [
                                                        0.4444444444444444,
                                                        "#bd3786"
                                                    ],
                                                    [
                                                        0.5555555555555556,
                                                        "#d8576b"
                                                    ],
                                                    [
                                                        0.6666666666666666,
                                                        "#ed7953"
                                                    ],
                                                    [
                                                        0.7777777777777778,
                                                        "#fb9f3a"
                                                    ],
                                                    [
                                                        0.8888888888888888,
                                                        "#fdca26"
                                                    ],
                                                    [
                                                        1,
                                                        "#f0f921"
                                                    ]
                                                ],
                                                "type": "heatmap"
                                            }
                                        ],
                                        "histogram": [
                                            {
                                                "marker": {
                                                    "pattern": {
                                                        "fillmode": "overlay",
                                                        "size": 10,
                                                        "solidity": 0.2
                                                    }
                                                },
                                                "type": "histogram"
                                            }
                                        ],
                                        "histogram2d": [
                                            {
                                                "colorbar": {
                                                    "outlinewidth": 0,
                                                    "ticks": ""
                                                },
                                                "colorscale": [
                                                    [
                                                        0,
                                                        "#0d0887"
                                                    ],
                                                    [
                                                        0.1111111111111111,
                                                        "#46039f"
                                                    ],
                                                    [
                                                        0.2222222222222222,
                                                        "#7201a8"
                                                    ],
                                                    [
                                                        0.3333333333333333,
                                                        "#9c179e"
                                                    ],
                                                    [
                                                        0.4444444444444444,
                                                        "#bd3786"
                                                    ],
                                                    [
                                                        0.5555555555555556,
                                                        "#d8576b"
                                                    ],
                                                    [
                                                        0.6666666666666666,
                                                        "#ed7953"
                                                    ],
                                                    [
                                                        0.7777777777777778,
                                                        "#fb9f3a"
                                                    ],
                                                    [
                                                        0.8888888888888888,
                                                        "#fdca26"
                                                    ],
                                                    [
                                                        1,
                                                        "#f0f921"
                                                    ]
                                                ],
                                                "type": "histogram2d"
                                            }
                                        ],
                                        "histogram2dcontour": [
                                            {
                                                "colorbar": {
                                                    "outlinewidth": 0,
                                                    "ticks": ""
                                                },
                                                "colorscale": [
                                                    [
                                                        0,
                                                        "#0d0887"
                                                    ],
                                                    [
                                                        0.1111111111111111,
                                                        "#46039f"
                                                    ],
                                                    [
                                                        0.2222222222222222,
                                                        "#7201a8"
                                                    ],
                                                    [
                                                        0.3333333333333333,
                                                        "#9c179e"
                                                    ],
                                                    [
                                                        0.4444444444444444,
                                                        "#bd3786"
                                                    ],
                                                    [
                                                        0.5555555555555556,
                                                        "#d8576b"
                                                    ],
                                                    [
                                                        0.6666666666666666,
                                                        "#ed7953"
                                                    ],
                                                    [
                                                        0.7777777777777778,
                                                        "#fb9f3a"
                                                    ],
                                                    [
                                                        0.8888888888888888,
                                                        "#fdca26"
                                                    ],
                                                    [
                                                        1,
                                                        "#f0f921"
                                                    ]
                                                ],
                                                "type": "histogram2dcontour"
                                            }
                                        ],
                                        "mesh3d": [
                                            {
                                                "colorbar": {
                                                    "outlinewidth": 0,
                                                    "ticks": ""
                                                },
                                                "type": "mesh3d"
                                            }
                                        ],
                                        "parcoords": [
                                            {
                                                "line": {
                                                    "colorbar": {
                                                        "outlinewidth": 0,
                                                        "ticks": ""
                                                    }
                                                },
                                                "type": "parcoords"
                                            }
                                        ],
                                        "pie": [
                                            {
                                                "automargin": true,
                                                "type": "pie"
                                            }
                                        ],
                                        "scatter": [
                                            {
                                                "fillpattern": {
                                                    "fillmode": "overlay",
                                                    "size": 10,
                                                    "solidity": 0.2
                                                },
                                                "type": "scatter"
                                            }
                                        ],
                                        "scatter3d": [
                                            {
                                                "line": {
                                                    "colorbar": {
                                                        "outlinewidth": 0,
                                                        "ticks": ""
                                                    }
                                                },
                                                "marker": {
                                                    "colorbar": {
                                                        "outlinewidth": 0,
                                                        "ticks": ""
                                                    }
                                                },
                                                "type": "scatter3d"
                                            }
                                        ],
                                        "scattercarpet": [
                                            {
                                                "marker": {
                                                    "colorbar": {
                                                        "outlinewidth": 0,
                                                        "ticks": ""
                                                    }
                                                },
                                                "type": "scattercarpet"
                                            }
                                        ],
                                        "scattergeo": [
                                            {
                                                "marker": {
                                                    "colorbar": {
                                                        "outlinewidth": 0,
                                                        "ticks": ""
                                                    }
                                                },
                                                "type": "scattergeo"
                                            }
                                        ],
                                        "scattergl": [
                                            {
                                                "marker": {
                                                    "colorbar": {
                                                        "outlinewidth": 0,
                                                        "ticks": ""
                                                    }
                                                },
                                                "type": "scattergl"
                                            }
                                        ],
                                        "scattermap": [
                                            {
                                                "marker": {
                                                    "colorbar": {
                                                        "outlinewidth": 0,
                                                        "ticks": ""
                                                    }
                                                },
                                                "type": "scattermap"
                                            }
                                        ],
                                        "scattermapbox": [
                                            {
                                                "marker": {
                                                    "colorbar": {
                                                        "outlinewidth": 0,
                                                        "ticks": ""
                                                    }
                                                },
                                                "type": "scattermapbox"
                                            }
                                        ],
                                        "scatterpolar": [
                                            {
                                                "marker": {
                                                    "colorbar": {
                                                        "outlinewidth": 0,
                                                        "ticks": ""
                                                    }
                                                },
                                                "type": "scatterpolar"
                                            }
                                        ],
                                        "scatterpolargl": [
                                            {
                                                "marker": {
                                                    "colorbar": {
                                                        "outlinewidth": 0,
                                                        "ticks": ""
                                                    }
                                                },
                                                "type": "scatterpolargl"
                                            }
                                        ],
                                        "scatterternary": [
                                            {
                                                "marker": {
                                                    "colorbar": {
                                                        "outlinewidth": 0,
                                                        "ticks": ""
                                                    }
                                                },
                                                "type": "scatterternary"
                                            }
                                        ],
                                        "surface": [
                                            {
                                                "colorbar": {
                                                    "outlinewidth": 0,
                                                    "ticks": ""
                                                },
                                                "colorscale": [
                                                    [
                                                        0,
                                                        "#0d0887"
                                                    ],
                                                    [
                                                        0.1111111111111111,
                                                        "#46039f"
                                                    ],
                                                    [
                                                        0.2222222222222222,
                                                        "#7201a8"
                                                    ],
                                                    [
                                                        0.3333333333333333,
                                                        "#9c179e"
                                                    ],
                                                    [
                                                        0.4444444444444444,
                                                        "#bd3786"
                                                    ],
                                                    [
                                                        0.5555555555555556,
                                                        "#d8576b"
                                                    ],
                                                    [
                                                        0.6666666666666666,
                                                        "#ed7953"
                                                    ],
                                                    [
                                                        0.7777777777777778,
                                                        "#fb9f3a"
                                                    ],
                                                    [
                                                        0.8888888888888888,
                                                        "#fdca26"
                                                    ],
                                                    [
                                                        1,
                                                        "#f0f921"
                                                    ]
                                                ],
                                                "type": "surface"
                                            }
                                        ],
                                        "table": [
                                            {
                                                "cells": {
                                                    "fill": {
                                                        "color": "#EBF0F8"
                                                    },
                                                    "line": {
                                                        "color": "white"
                                                    }
                                                },
                                                "header": {
                                                    "fill": {
                                                        "color": "#C8D4E3"
                                                    },
                                                    "line": {
                                                        "color": "white"
                                                    }
                                                },
                                                "type": "table"
                                            }
                                        ]
                                    },
                                    "layout": {
                                        "annotationdefaults": {
                                            "arrowcolor": "#2a3f5f",
                                            "arrowhead": 0,
                                            "arrowwidth": 1
                                        },
                                        "autotypenumbers": "strict",
                                        "coloraxis": {
                                            "colorbar": {
                                                "outlinewidth": 0,
                                                "ticks": ""
                                            }
                                        },
                                        "colorscale": {
                                            "diverging": [
                                                [
                                                    0,
                                                    "#8e0152"
                                                ],
                                                [
                                                    0.1,
                                                    "#c51b7d"
                                                ],
                                                [
                                                    0.2,
                                                    "#de77ae"
                                                ],
                                                [
                                                    0.3,
                                                    "#f1b6da"
                                                ],
                                                [
                                                    0.4,
                                                    "#fde0ef"
                                                ],
                                                [
                                                    0.5,
                                                    "#f7f7f7"
                                                ],
                                                [
                                                    0.6,
                                                    "#e6f5d0"
                                                ],
                                                [
                                                    0.7,
                                                    "#b8e186"
                                                ],
                                                [
                                                    0.8,
                                                    "#7fbc41"
                                                ],
                                                [
                                                    0.9,
                                                    "#4d9221"
                                                ],
                                                [
                                                    1,
                                                    "#276419"
                                                ]
                                            ],
                                            "sequential": [
                                                [
                                                    0,
                                                    "#0d0887"
                                                ],
                                                [
                                                    0.1111111111111111,
                                                    "#46039f"
                                                ],
                                                [
                                                    0.2222222222222222,
                                                    "#7201a8"
                                                ],
                                                [
                                                    0.3333333333333333,
                                                    "#9c179e"
                                                ],
                                                [
                                                    0.4444444444444444,
                                                    "#bd3786"
                                                ],
                                                [
                                                    0.5555555555555556,
                                                    "#d8576b"
                                                ],
                                                [
                                                    0.6666666666666666,
                                                    "#ed7953"
                                                ],
                                                [
                                                    0.7777777777777778,
                                                    "#fb9f3a"
                                                ],
                                                [
                                                    0.8888888888888888,
                                                    "#fdca26"
                                                ],
                                                [
                                                    1,
                                                    "#f0f921"
                                                ]
                                            ],
                                            "sequentialminus": [
                                                [
                                                    0,
                                                    "#0d0887"
                                                ],
                                                [
                                                    0.1111111111111111,
                                                    "#46039f"
                                                ],
                                                [
                                                    0.2222222222222222,
                                                    "#7201a8"
                                                ],
                                                [
                                                    0.3333333333333333,
                                                    "#9c179e"
                                                ],
                                                [
                                                    0.4444444444444444,
                                                    "#bd3786"
                                                ],
                                                [
                                                    0.5555555555555556,
                                                    "#d8576b"
                                                ],
                                                [
                                                    0.6666666666666666,
                                                    "#ed7953"
                                                ],
                                                [
                                                    0.7777777777777778,
                                                    "#fb9f3a"
                                                ],
                                                [
                                                    0.8888888888888888,
                                                    "#fdca26"
                                                ],
                                                [
                                                    1,
                                                    "#f0f921"
                                                ]
                                            ]
                                        },
                                        "colorway": [
                                            "#636efa",
                                            "#EF553B",
                                            "#00cc96",
                                            "#ab63fa",
                                            "#FFA15A",
                                            "#19d3f3",
                                            "#FF6692",
                                            "#B6E880",
                                            "#FF97FF",
                                            "#FECB52"
                                        ],
                                        "font": {
                                            "color": "#2a3f5f"
                                        },
                                        "geo": {
                                            "bgcolor": "white",
                                            "lakecolor": "white",
                                            "landcolor": "#E5ECF6",
                                            "showlakes": true,
                                            "showland": true,
                                            "subunitcolor": "white"
                                        },
                                        "hoverlabel": {
                                            "align": "left"
                                        },
                                        "hovermode": "closest",
                                        "mapbox": {
                                            "style": "light"
                                        },
                                        "paper_bgcolor": "white",
                                        "plot_bgcolor": "#E5ECF6",
                                        "polar": {
                                            "angularaxis": {
                                                "gridcolor": "white",
                                                "linecolor": "white",
                                                "ticks": ""
                                            },
                                            "bgcolor": "#E5ECF6",
                                            "radialaxis": {
                                                "gridcolor": "white",
                                                "linecolor": "white",
                                                "ticks": ""
                                            }
                                        },
                                        "scene": {
                                            "xaxis": {
                                                "backgroundcolor": "#E5ECF6",
                                                "gridcolor": "white",
                                                "gridwidth": 2,
                                                "linecolor": "white",
                                                "showbackground": true,
                                                "ticks": "",
                                                "zerolinecolor": "white"
                                            },
                                            "yaxis": {
                                                "backgroundcolor": "#E5ECF6",
                                                "gridcolor": "white",
                                                "gridwidth": 2,
                                                "linecolor": "white",
                                                "showbackground": true,
                                                "ticks": "",
                                                "zerolinecolor": "white"
                                            },
                                            "zaxis": {
                                                "backgroundcolor": "#E5ECF6",
                                                "gridcolor": "white",
                                                "gridwidth": 2,
                                                "linecolor": "white",
                                                "showbackground": true,
                                                "ticks": "",
                                                "zerolinecolor": "white"
                                            }
                                        },
                                        "shapedefaults": {
                                            "line": {
                                                "color": "#2a3f5f"
                                            }
                                        },
                                        "ternary": {
                                            "aaxis": {
                                                "gridcolor": "white",
                                                "linecolor": "white",
                                                "ticks": ""
                                            },
                                            "baxis": {
                                                "gridcolor": "white",
                                                "linecolor": "white",
                                                "ticks": ""
                                            },
                                            "bgcolor": "#E5ECF6",
                                            "caxis": {
                                                "gridcolor": "white",
                                                "linecolor": "white",
                                                "ticks": ""
                                            }
                                        },
                                        "title": {
                                            "x": 0.05
                                        },
                                        "xaxis": {
                                            "automargin": true,
                                            "gridcolor": "white",
                                            "linecolor": "white",
                                            "ticks": "",
                                            "title": {
                                                "standoff": 15
                                            },
                                            "zerolinecolor": "white",
                                            "zerolinewidth": 2
                                        },
                                        "yaxis": {
                                            "automargin": true,
                                            "gridcolor": "white",
                                            "linecolor": "white",
                                            "ticks": "",
                                            "title": {
                                                "standoff": 15
                                            },
                                            "zerolinecolor": "white",
                                            "zerolinewidth": 2
                                        }
                                    }
                                },
                                "title": {
                                    "font": {
                                        "size": 16
                                    },
                                    "text": "Linear Regression SSE Surface",
                                    "x": 0.5
                                },
                                "width": 800
                            }
                        }
                    },
                    "metadata": {},
                    "output_type": "display_data"
                }
            ],
            "source": [
                "viz = LinearRegressionSSEVisualizer(\n",
                "    x_data=order_totals,\n",
                "    y_data=observed_tips,\n",
                "    true_bias=true_base_tip,\n",
                "    true_slope=true_tip_rate,\n",
                ")\n",
                "\n",
                "fig = viz.create_3d_surface_plot(resolution=40)\n",
                "fig.show()"
            ]
        },
        {
            "cell_type": "markdown",
            "id": "55d1f194",
            "metadata": {},
            "source": [
                ":::{important} Standaardisatie\n",
                "(target-standard-deviation)=\n",
                "De inspectie van het oppervlak is gevoelig aan de schaal van de variabelen. Het is algemeen (ook om wiskundige redenen) beter om onze variabelen te herschalen zodat hun gemiddelde $0$ is en hun **standaardafwijking** gelijk aan $1$. De **standaardafwijking is een belangrijke maat van spreiding rond het gemiddelde**. **Ze wordt berekend als de vierkantswortel van het gemiddelde van de gekwadrateerde verschillen ten opzicht van het gemiddelde**:\n",
                "\n",
                "$$\n",
                "STD(\\pmb{x}) = sd_x = \\sqrt{\\frac{\\sum_{i=1}^M(x_i-\\overline{\\pmb{x}})^2}{M}}\n",
                "$$\n",
                "\n",
                "(target-standardization)=\n",
                "Een een standaard-schaling of **_standaardisatie_ houdt in dat we een variabele of verzameling van metingen (1) _centreren_ zodat het gemiddelde** $0$ **wordt en (2) _schalen_ zodat de standaardafwijking** $1$ **wordt**:\n",
                "\n",
                "$$\n",
                "\\pmb{x}_s = \\frac{\\pmb{x}-\\overline{\\pmb{x}}}{sd_x}\n",
                "$$\n",
                ":::\n",
                "\n",
                ":::{note}\n",
                ":class: dropdown\n",
                "\n",
                "Ter illustratie kan je hier zien hoe we de parameterwaarden voor $b_1$ en $b_2$ die we hebben gebruikt bij de simulatie moeten omvormen wanneer we $\\pmb{y}$ en $\\pmb{x}$ standaardiseren.\n",
                "\n",
                "Als\n",
                "\n",
                "$$\n",
                "\\begin{align}\n",
                "\\pmb{y}_s &= \\frac{\\pmb{y} - \\pmb{\\overline{y}}}{sd_{\\pmb{y}}} \\cr\n",
                "\\pmb{x}_s &= \\frac{\\pmb{x}-\\overline{\\pmb{x}}}{sd_x}\n",
                "\\end{align}\n",
                "$$\n",
                "\n",
                "dan\n",
                "\n",
                "$$\n",
                "\\begin{align}\n",
                "\\pmb{y} &= \\pmb{y}_s sd_{\\pmb{y}} + \\pmb{\\overline{y}} \\cr\n",
                "\\pmb{x} &= \\pmb{x}_s sd_{\\pmb{x}} + \\pmb{\\overline{x}}\n",
                "\\end{align}\n",
                "$$\n",
                "\n",
                "Als we dit in de oorspronkelijke regressievergelijking $\\pmb{y} = b_1 + b_2\\pmb{x} + \\pmb{e}$ invoegen, krijgen we:\n",
                "\n",
                "$$\n",
                "\\begin{align}\n",
                "\\pmb{y}_s sd_{\\pmb{y}} + \\pmb{\\overline{y}} &= b_1 + b_2 \\pmb{x}_s sd_{\\pmb{x}} + \\pmb{\\overline{x}} + \\pmb{e} \\cr\n",
                "\\pmb{y}_s sd_{\\pmb{y}} &= b_1 + b_2 \\pmb{x}_s sd_{\\pmb{x}} + \\pmb{\\overline{x}} + \\pmb{e} - \\pmb{\\overline{y}} \\cr\n",
                "\\pmb{y}_s sd_{\\pmb{y}} &= (b_1 - \\pmb{\\overline{y}} + \\pmb{\\overline{x}}) + (b_2 sd_{\\pmb{x}})\\pmb{x}_s  + \\pmb{e} \\cr\n",
                "\\pmb{y}_s &= \\frac{(b_1 - \\pmb{\\overline{y}} + \\pmb{\\overline{x}})}{sd_{\\pmb{y}}} + \\frac{(b_2 sd_{\\pmb{x}})}{sd_{\\pmb{y}}}\\pmb{x}_s  + \\frac{\\pmb{e}}{sd_{\\pmb{y}}} \\cr\n",
                "\\pmb{y}_s &= {b_1}_s + {b_2}_s\\pmb{x}_s  + \\pmb{e}_s\n",
                "\\end{align}\n",
                "$$\n",
                "\n",
                "met\n",
                "\n",
                "$$\n",
                "\\begin{align}\n",
                "{b_1}_s &= \\frac{(b_1 - \\pmb{\\overline{y}} + \\pmb{\\overline{x}})}{sd_{\\pmb{y}}} \\cr\n",
                "{b_2}_s &= \\frac{(b_2 sd_{\\pmb{x}})}{sd_{\\pmb{y}}} \\cr\n",
                "\\pmb{e}_s &= \\frac{\\pmb{e}}{sd_{\\pmb{y}}}\n",
                "\\end{align}\n",
                "$$\n",
                "\n",
                ":::"
            ]
        },
        {
            "cell_type": "code",
            "execution_count": 7,
            "id": "87080aec",
            "metadata": {},
            "outputs": [],
            "source": [
                "# Standardize the data\n",
                "order_totals_mean = np.mean(order_totals)\n",
                "order_totals_std = np.std(order_totals)\n",
                "order_totals_scaled = (order_totals - order_totals_mean) / order_totals_std\n",
                "\n",
                "observed_tips_mean = np.mean(observed_tips)\n",
                "observed_tips_std = np.std(observed_tips)\n",
                "observed_tips_scaled = (observed_tips - observed_tips_mean) / observed_tips_std"
            ]
        },
        {
            "cell_type": "code",
            "execution_count": 8,
            "id": "e1818cd8",
            "metadata": {
                "tags": [
                    "hide-input"
                ]
            },
            "outputs": [
                {
                    "data": {
                        "application/vnd.plotly.v1+json": {
                            "config": {
                                "plotlyServerURL": "https://plot.ly"
                            },
                            "data": [
                                {
                                    "bingroup": "x",
                                    "hovertemplate": "Scaled=False<br>Order Total=%{x}<br>count=%{y}<extra></extra>",
                                    "legendgroup": "False",
                                    "marker": {
                                        "color": "#636efa",
                                        "pattern": {
                                            "shape": ""
                                        }
                                    },
                                    "name": "False",
                                    "nbinsx": 50,
                                    "orientation": "v",
                                    "showlegend": true,
                                    "type": "histogram",
                                    "x": {
                                        "bdata": "fJxHWp+1D0BfIlbWrJ0RQLS6SZagSRRA+Cm91yRGF0Aevegl324XQPgIKA1YTBhAHRnga9WTGUASBbYoaawcQALfoiDSIB1Apw41VtD3H0D0o3fiO/8fQA+Ep066ryJAKUcAc3++I0DQEx7KGFYkQLDSxmhhmSVA9NdTrttMJkD3A/o/q1AmQNAIQXSODCdAml9hRxQ8KUAXzcjYhk8pQLb/zxaegilA7PIwryXRKUAJAwQ4JYkqQO5b358TqSpAfTQuHVfuKkDSDYjR12YuQLYWZq2I5TBAyTFHlD8qMUBEa4J1ZLwxQDBFw47QAzJAsVoyhO4GMkAM5DWlk1cyQNXaN5/kZzJArUtIHoBiM0CSosXWjK0zQMIvGiK9vjNAqfafo+sGNEAK6lgZ2x80QNTIETodSzRAJJMB0G60NEBm2qYcyxk1QOXhsgA4NTVAf+QIhklPNUD/iPvCpFE1QL2GtZyf4zVAHM5D4w6mNkAeBMhYimM3QO4QysoDSThAhn5fpfhaOEAhlWmAtHY4QA==",
                                        "dtype": "f8"
                                    },
                                    "xaxis": "x",
                                    "yaxis": "y"
                                },
                                {
                                    "boxpoints": "all",
                                    "fillcolor": "rgba(255,255,255,0)",
                                    "hoveron": "points",
                                    "hovertemplate": "Scaled=False<br>Order Total=%{x}<extra></extra>",
                                    "jitter": 0,
                                    "legendgroup": "False",
                                    "line": {
                                        "color": "rgba(255,255,255,0)"
                                    },
                                    "marker": {
                                        "color": "#636efa",
                                        "symbol": "line-ns-open"
                                    },
                                    "name": "False",
                                    "showlegend": false,
                                    "type": "box",
                                    "x": {
                                        "bdata": "fJxHWp+1D0BfIlbWrJ0RQLS6SZagSRRA+Cm91yRGF0Aevegl324XQPgIKA1YTBhAHRnga9WTGUASBbYoaawcQALfoiDSIB1Apw41VtD3H0D0o3fiO/8fQA+Ep066ryJAKUcAc3++I0DQEx7KGFYkQLDSxmhhmSVA9NdTrttMJkD3A/o/q1AmQNAIQXSODCdAml9hRxQ8KUAXzcjYhk8pQLb/zxaegilA7PIwryXRKUAJAwQ4JYkqQO5b358TqSpAfTQuHVfuKkDSDYjR12YuQLYWZq2I5TBAyTFHlD8qMUBEa4J1ZLwxQDBFw47QAzJAsVoyhO4GMkAM5DWlk1cyQNXaN5/kZzJArUtIHoBiM0CSosXWjK0zQMIvGiK9vjNAqfafo+sGNEAK6lgZ2x80QNTIETodSzRAJJMB0G60NEBm2qYcyxk1QOXhsgA4NTVAf+QIhklPNUD/iPvCpFE1QL2GtZyf4zVAHM5D4w6mNkAeBMhYimM3QO4QysoDSThAhn5fpfhaOEAhlWmAtHY4QA==",
                                        "dtype": "f8"
                                    },
                                    "xaxis": "x2",
                                    "yaxis": "y2"
                                },
                                {
                                    "bingroup": "x",
                                    "hovertemplate": "Scaled=True<br>Order Total=%{x}<br>count=%{y}<extra></extra>",
                                    "legendgroup": "True",
                                    "marker": {
                                        "color": "#EF553B",
                                        "pattern": {
                                            "shape": ""
                                        }
                                    },
                                    "name": "True",
                                    "nbinsx": 50,
                                    "orientation": "v",
                                    "showlegend": true,
                                    "type": "histogram",
                                    "x": {
                                        "bdata": "kUWdWNZM/L/nUvhlyiX7vxqgXtc1Zvm/gh3+i+hx97/y7rmKQVf3v1xb2utSxva/jMPTfwPw9b/bMShQWenzv2extngrnfO/z6/0ZmzB8b9TYBpVkbzxvw/cCrDtb+y/2ojcUSir6b/96HyIVB7ov4fU/lsZ0OS/IQhm20v64r9dYT4yUvDiv68sAieBBOG/oyeiRMiX1r9b2gNa+DHWv99AEZh/JtW/tGlBx2CL07+emw59NpDPv2OXRc7gQc6/EUqnLqhsy7+lzQVxutSxP8m9nGKINtY/cXBZ/gAG2T9znAOTMgDfPyB+o6EC9uA/KSitH1QG4T+e5VP9haziP9/eWGXxAeM/jbJEw+0h6D/craGm1KrpP+4f1izRBOo/QwH8SLR+6z/kGeYfPwHsP/r03ai24+w/5CSxlhQL7z9FomHe3I7wPw+S0NWm1vA/xSGkheMa8T8G3KyQDiHxPweBovEsn/I/qS/CSiGc9D+FghT9Hoz2P4FyPsLL5Pg/DgSeicwT+T8Ykw00ZVz5Pw==",
                                        "dtype": "f8"
                                    },
                                    "xaxis": "x",
                                    "yaxis": "y"
                                },
                                {
                                    "boxpoints": "all",
                                    "fillcolor": "rgba(255,255,255,0)",
                                    "hoveron": "points",
                                    "hovertemplate": "Scaled=True<br>Order Total=%{x}<extra></extra>",
                                    "jitter": 0,
                                    "legendgroup": "True",
                                    "line": {
                                        "color": "rgba(255,255,255,0)"
                                    },
                                    "marker": {
                                        "color": "#EF553B",
                                        "symbol": "line-ns-open"
                                    },
                                    "name": "True",
                                    "showlegend": false,
                                    "type": "box",
                                    "x": {
                                        "bdata": "kUWdWNZM/L/nUvhlyiX7vxqgXtc1Zvm/gh3+i+hx97/y7rmKQVf3v1xb2utSxva/jMPTfwPw9b/bMShQWenzv2extngrnfO/z6/0ZmzB8b9TYBpVkbzxvw/cCrDtb+y/2ojcUSir6b/96HyIVB7ov4fU/lsZ0OS/IQhm20v64r9dYT4yUvDiv68sAieBBOG/oyeiRMiX1r9b2gNa+DHWv99AEZh/JtW/tGlBx2CL07+emw59NpDPv2OXRc7gQc6/EUqnLqhsy7+lzQVxutSxP8m9nGKINtY/cXBZ/gAG2T9znAOTMgDfPyB+o6EC9uA/KSitH1QG4T+e5VP9haziP9/eWGXxAeM/jbJEw+0h6D/craGm1KrpP+4f1izRBOo/QwH8SLR+6z/kGeYfPwHsP/r03ai24+w/5CSxlhQL7z9FomHe3I7wPw+S0NWm1vA/xSGkheMa8T8G3KyQDiHxPweBovEsn/I/qS/CSiGc9D+FghT9Hoz2P4FyPsLL5Pg/DgSeicwT+T8Ykw00ZVz5Pw==",
                                        "dtype": "f8"
                                    },
                                    "xaxis": "x2",
                                    "yaxis": "y2"
                                }
                            ],
                            "layout": {
                                "barmode": "relative",
                                "legend": {
                                    "title": {
                                        "text": "Scaled"
                                    },
                                    "tracegroupgap": 0
                                },
                                "template": {
                                    "data": {
                                        "bar": [
                                            {
                                                "error_x": {
                                                    "color": "#2a3f5f"
                                                },
                                                "error_y": {
                                                    "color": "#2a3f5f"
                                                },
                                                "marker": {
                                                    "line": {
                                                        "color": "#E5ECF6",
                                                        "width": 0.5
                                                    },
                                                    "pattern": {
                                                        "fillmode": "overlay",
                                                        "size": 10,
                                                        "solidity": 0.2
                                                    }
                                                },
                                                "type": "bar"
                                            }
                                        ],
                                        "barpolar": [
                                            {
                                                "marker": {
                                                    "line": {
                                                        "color": "#E5ECF6",
                                                        "width": 0.5
                                                    },
                                                    "pattern": {
                                                        "fillmode": "overlay",
                                                        "size": 10,
                                                        "solidity": 0.2
                                                    }
                                                },
                                                "type": "barpolar"
                                            }
                                        ],
                                        "carpet": [
                                            {
                                                "aaxis": {
                                                    "endlinecolor": "#2a3f5f",
                                                    "gridcolor": "white",
                                                    "linecolor": "white",
                                                    "minorgridcolor": "white",
                                                    "startlinecolor": "#2a3f5f"
                                                },
                                                "baxis": {
                                                    "endlinecolor": "#2a3f5f",
                                                    "gridcolor": "white",
                                                    "linecolor": "white",
                                                    "minorgridcolor": "white",
                                                    "startlinecolor": "#2a3f5f"
                                                },
                                                "type": "carpet"
                                            }
                                        ],
                                        "choropleth": [
                                            {
                                                "colorbar": {
                                                    "outlinewidth": 0,
                                                    "ticks": ""
                                                },
                                                "type": "choropleth"
                                            }
                                        ],
                                        "contour": [
                                            {
                                                "colorbar": {
                                                    "outlinewidth": 0,
                                                    "ticks": ""
                                                },
                                                "colorscale": [
                                                    [
                                                        0,
                                                        "#0d0887"
                                                    ],
                                                    [
                                                        0.1111111111111111,
                                                        "#46039f"
                                                    ],
                                                    [
                                                        0.2222222222222222,
                                                        "#7201a8"
                                                    ],
                                                    [
                                                        0.3333333333333333,
                                                        "#9c179e"
                                                    ],
                                                    [
                                                        0.4444444444444444,
                                                        "#bd3786"
                                                    ],
                                                    [
                                                        0.5555555555555556,
                                                        "#d8576b"
                                                    ],
                                                    [
                                                        0.6666666666666666,
                                                        "#ed7953"
                                                    ],
                                                    [
                                                        0.7777777777777778,
                                                        "#fb9f3a"
                                                    ],
                                                    [
                                                        0.8888888888888888,
                                                        "#fdca26"
                                                    ],
                                                    [
                                                        1,
                                                        "#f0f921"
                                                    ]
                                                ],
                                                "type": "contour"
                                            }
                                        ],
                                        "contourcarpet": [
                                            {
                                                "colorbar": {
                                                    "outlinewidth": 0,
                                                    "ticks": ""
                                                },
                                                "type": "contourcarpet"
                                            }
                                        ],
                                        "heatmap": [
                                            {
                                                "colorbar": {
                                                    "outlinewidth": 0,
                                                    "ticks": ""
                                                },
                                                "colorscale": [
                                                    [
                                                        0,
                                                        "#0d0887"
                                                    ],
                                                    [
                                                        0.1111111111111111,
                                                        "#46039f"
                                                    ],
                                                    [
                                                        0.2222222222222222,
                                                        "#7201a8"
                                                    ],
                                                    [
                                                        0.3333333333333333,
                                                        "#9c179e"
                                                    ],
                                                    [
                                                        0.4444444444444444,
                                                        "#bd3786"
                                                    ],
                                                    [
                                                        0.5555555555555556,
                                                        "#d8576b"
                                                    ],
                                                    [
                                                        0.6666666666666666,
                                                        "#ed7953"
                                                    ],
                                                    [
                                                        0.7777777777777778,
                                                        "#fb9f3a"
                                                    ],
                                                    [
                                                        0.8888888888888888,
                                                        "#fdca26"
                                                    ],
                                                    [
                                                        1,
                                                        "#f0f921"
                                                    ]
                                                ],
                                                "type": "heatmap"
                                            }
                                        ],
                                        "histogram": [
                                            {
                                                "marker": {
                                                    "pattern": {
                                                        "fillmode": "overlay",
                                                        "size": 10,
                                                        "solidity": 0.2
                                                    }
                                                },
                                                "type": "histogram"
                                            }
                                        ],
                                        "histogram2d": [
                                            {
                                                "colorbar": {
                                                    "outlinewidth": 0,
                                                    "ticks": ""
                                                },
                                                "colorscale": [
                                                    [
                                                        0,
                                                        "#0d0887"
                                                    ],
                                                    [
                                                        0.1111111111111111,
                                                        "#46039f"
                                                    ],
                                                    [
                                                        0.2222222222222222,
                                                        "#7201a8"
                                                    ],
                                                    [
                                                        0.3333333333333333,
                                                        "#9c179e"
                                                    ],
                                                    [
                                                        0.4444444444444444,
                                                        "#bd3786"
                                                    ],
                                                    [
                                                        0.5555555555555556,
                                                        "#d8576b"
                                                    ],
                                                    [
                                                        0.6666666666666666,
                                                        "#ed7953"
                                                    ],
                                                    [
                                                        0.7777777777777778,
                                                        "#fb9f3a"
                                                    ],
                                                    [
                                                        0.8888888888888888,
                                                        "#fdca26"
                                                    ],
                                                    [
                                                        1,
                                                        "#f0f921"
                                                    ]
                                                ],
                                                "type": "histogram2d"
                                            }
                                        ],
                                        "histogram2dcontour": [
                                            {
                                                "colorbar": {
                                                    "outlinewidth": 0,
                                                    "ticks": ""
                                                },
                                                "colorscale": [
                                                    [
                                                        0,
                                                        "#0d0887"
                                                    ],
                                                    [
                                                        0.1111111111111111,
                                                        "#46039f"
                                                    ],
                                                    [
                                                        0.2222222222222222,
                                                        "#7201a8"
                                                    ],
                                                    [
                                                        0.3333333333333333,
                                                        "#9c179e"
                                                    ],
                                                    [
                                                        0.4444444444444444,
                                                        "#bd3786"
                                                    ],
                                                    [
                                                        0.5555555555555556,
                                                        "#d8576b"
                                                    ],
                                                    [
                                                        0.6666666666666666,
                                                        "#ed7953"
                                                    ],
                                                    [
                                                        0.7777777777777778,
                                                        "#fb9f3a"
                                                    ],
                                                    [
                                                        0.8888888888888888,
                                                        "#fdca26"
                                                    ],
                                                    [
                                                        1,
                                                        "#f0f921"
                                                    ]
                                                ],
                                                "type": "histogram2dcontour"
                                            }
                                        ],
                                        "mesh3d": [
                                            {
                                                "colorbar": {
                                                    "outlinewidth": 0,
                                                    "ticks": ""
                                                },
                                                "type": "mesh3d"
                                            }
                                        ],
                                        "parcoords": [
                                            {
                                                "line": {
                                                    "colorbar": {
                                                        "outlinewidth": 0,
                                                        "ticks": ""
                                                    }
                                                },
                                                "type": "parcoords"
                                            }
                                        ],
                                        "pie": [
                                            {
                                                "automargin": true,
                                                "type": "pie"
                                            }
                                        ],
                                        "scatter": [
                                            {
                                                "fillpattern": {
                                                    "fillmode": "overlay",
                                                    "size": 10,
                                                    "solidity": 0.2
                                                },
                                                "type": "scatter"
                                            }
                                        ],
                                        "scatter3d": [
                                            {
                                                "line": {
                                                    "colorbar": {
                                                        "outlinewidth": 0,
                                                        "ticks": ""
                                                    }
                                                },
                                                "marker": {
                                                    "colorbar": {
                                                        "outlinewidth": 0,
                                                        "ticks": ""
                                                    }
                                                },
                                                "type": "scatter3d"
                                            }
                                        ],
                                        "scattercarpet": [
                                            {
                                                "marker": {
                                                    "colorbar": {
                                                        "outlinewidth": 0,
                                                        "ticks": ""
                                                    }
                                                },
                                                "type": "scattercarpet"
                                            }
                                        ],
                                        "scattergeo": [
                                            {
                                                "marker": {
                                                    "colorbar": {
                                                        "outlinewidth": 0,
                                                        "ticks": ""
                                                    }
                                                },
                                                "type": "scattergeo"
                                            }
                                        ],
                                        "scattergl": [
                                            {
                                                "marker": {
                                                    "colorbar": {
                                                        "outlinewidth": 0,
                                                        "ticks": ""
                                                    }
                                                },
                                                "type": "scattergl"
                                            }
                                        ],
                                        "scattermap": [
                                            {
                                                "marker": {
                                                    "colorbar": {
                                                        "outlinewidth": 0,
                                                        "ticks": ""
                                                    }
                                                },
                                                "type": "scattermap"
                                            }
                                        ],
                                        "scattermapbox": [
                                            {
                                                "marker": {
                                                    "colorbar": {
                                                        "outlinewidth": 0,
                                                        "ticks": ""
                                                    }
                                                },
                                                "type": "scattermapbox"
                                            }
                                        ],
                                        "scatterpolar": [
                                            {
                                                "marker": {
                                                    "colorbar": {
                                                        "outlinewidth": 0,
                                                        "ticks": ""
                                                    }
                                                },
                                                "type": "scatterpolar"
                                            }
                                        ],
                                        "scatterpolargl": [
                                            {
                                                "marker": {
                                                    "colorbar": {
                                                        "outlinewidth": 0,
                                                        "ticks": ""
                                                    }
                                                },
                                                "type": "scatterpolargl"
                                            }
                                        ],
                                        "scatterternary": [
                                            {
                                                "marker": {
                                                    "colorbar": {
                                                        "outlinewidth": 0,
                                                        "ticks": ""
                                                    }
                                                },
                                                "type": "scatterternary"
                                            }
                                        ],
                                        "surface": [
                                            {
                                                "colorbar": {
                                                    "outlinewidth": 0,
                                                    "ticks": ""
                                                },
                                                "colorscale": [
                                                    [
                                                        0,
                                                        "#0d0887"
                                                    ],
                                                    [
                                                        0.1111111111111111,
                                                        "#46039f"
                                                    ],
                                                    [
                                                        0.2222222222222222,
                                                        "#7201a8"
                                                    ],
                                                    [
                                                        0.3333333333333333,
                                                        "#9c179e"
                                                    ],
                                                    [
                                                        0.4444444444444444,
                                                        "#bd3786"
                                                    ],
                                                    [
                                                        0.5555555555555556,
                                                        "#d8576b"
                                                    ],
                                                    [
                                                        0.6666666666666666,
                                                        "#ed7953"
                                                    ],
                                                    [
                                                        0.7777777777777778,
                                                        "#fb9f3a"
                                                    ],
                                                    [
                                                        0.8888888888888888,
                                                        "#fdca26"
                                                    ],
                                                    [
                                                        1,
                                                        "#f0f921"
                                                    ]
                                                ],
                                                "type": "surface"
                                            }
                                        ],
                                        "table": [
                                            {
                                                "cells": {
                                                    "fill": {
                                                        "color": "#EBF0F8"
                                                    },
                                                    "line": {
                                                        "color": "white"
                                                    }
                                                },
                                                "header": {
                                                    "fill": {
                                                        "color": "#C8D4E3"
                                                    },
                                                    "line": {
                                                        "color": "white"
                                                    }
                                                },
                                                "type": "table"
                                            }
                                        ]
                                    },
                                    "layout": {
                                        "annotationdefaults": {
                                            "arrowcolor": "#2a3f5f",
                                            "arrowhead": 0,
                                            "arrowwidth": 1
                                        },
                                        "autotypenumbers": "strict",
                                        "coloraxis": {
                                            "colorbar": {
                                                "outlinewidth": 0,
                                                "ticks": ""
                                            }
                                        },
                                        "colorscale": {
                                            "diverging": [
                                                [
                                                    0,
                                                    "#8e0152"
                                                ],
                                                [
                                                    0.1,
                                                    "#c51b7d"
                                                ],
                                                [
                                                    0.2,
                                                    "#de77ae"
                                                ],
                                                [
                                                    0.3,
                                                    "#f1b6da"
                                                ],
                                                [
                                                    0.4,
                                                    "#fde0ef"
                                                ],
                                                [
                                                    0.5,
                                                    "#f7f7f7"
                                                ],
                                                [
                                                    0.6,
                                                    "#e6f5d0"
                                                ],
                                                [
                                                    0.7,
                                                    "#b8e186"
                                                ],
                                                [
                                                    0.8,
                                                    "#7fbc41"
                                                ],
                                                [
                                                    0.9,
                                                    "#4d9221"
                                                ],
                                                [
                                                    1,
                                                    "#276419"
                                                ]
                                            ],
                                            "sequential": [
                                                [
                                                    0,
                                                    "#0d0887"
                                                ],
                                                [
                                                    0.1111111111111111,
                                                    "#46039f"
                                                ],
                                                [
                                                    0.2222222222222222,
                                                    "#7201a8"
                                                ],
                                                [
                                                    0.3333333333333333,
                                                    "#9c179e"
                                                ],
                                                [
                                                    0.4444444444444444,
                                                    "#bd3786"
                                                ],
                                                [
                                                    0.5555555555555556,
                                                    "#d8576b"
                                                ],
                                                [
                                                    0.6666666666666666,
                                                    "#ed7953"
                                                ],
                                                [
                                                    0.7777777777777778,
                                                    "#fb9f3a"
                                                ],
                                                [
                                                    0.8888888888888888,
                                                    "#fdca26"
                                                ],
                                                [
                                                    1,
                                                    "#f0f921"
                                                ]
                                            ],
                                            "sequentialminus": [
                                                [
                                                    0,
                                                    "#0d0887"
                                                ],
                                                [
                                                    0.1111111111111111,
                                                    "#46039f"
                                                ],
                                                [
                                                    0.2222222222222222,
                                                    "#7201a8"
                                                ],
                                                [
                                                    0.3333333333333333,
                                                    "#9c179e"
                                                ],
                                                [
                                                    0.4444444444444444,
                                                    "#bd3786"
                                                ],
                                                [
                                                    0.5555555555555556,
                                                    "#d8576b"
                                                ],
                                                [
                                                    0.6666666666666666,
                                                    "#ed7953"
                                                ],
                                                [
                                                    0.7777777777777778,
                                                    "#fb9f3a"
                                                ],
                                                [
                                                    0.8888888888888888,
                                                    "#fdca26"
                                                ],
                                                [
                                                    1,
                                                    "#f0f921"
                                                ]
                                            ]
                                        },
                                        "colorway": [
                                            "#636efa",
                                            "#EF553B",
                                            "#00cc96",
                                            "#ab63fa",
                                            "#FFA15A",
                                            "#19d3f3",
                                            "#FF6692",
                                            "#B6E880",
                                            "#FF97FF",
                                            "#FECB52"
                                        ],
                                        "font": {
                                            "color": "#2a3f5f"
                                        },
                                        "geo": {
                                            "bgcolor": "white",
                                            "lakecolor": "white",
                                            "landcolor": "#E5ECF6",
                                            "showlakes": true,
                                            "showland": true,
                                            "subunitcolor": "white"
                                        },
                                        "hoverlabel": {
                                            "align": "left"
                                        },
                                        "hovermode": "closest",
                                        "mapbox": {
                                            "style": "light"
                                        },
                                        "paper_bgcolor": "white",
                                        "plot_bgcolor": "#E5ECF6",
                                        "polar": {
                                            "angularaxis": {
                                                "gridcolor": "white",
                                                "linecolor": "white",
                                                "ticks": ""
                                            },
                                            "bgcolor": "#E5ECF6",
                                            "radialaxis": {
                                                "gridcolor": "white",
                                                "linecolor": "white",
                                                "ticks": ""
                                            }
                                        },
                                        "scene": {
                                            "xaxis": {
                                                "backgroundcolor": "#E5ECF6",
                                                "gridcolor": "white",
                                                "gridwidth": 2,
                                                "linecolor": "white",
                                                "showbackground": true,
                                                "ticks": "",
                                                "zerolinecolor": "white"
                                            },
                                            "yaxis": {
                                                "backgroundcolor": "#E5ECF6",
                                                "gridcolor": "white",
                                                "gridwidth": 2,
                                                "linecolor": "white",
                                                "showbackground": true,
                                                "ticks": "",
                                                "zerolinecolor": "white"
                                            },
                                            "zaxis": {
                                                "backgroundcolor": "#E5ECF6",
                                                "gridcolor": "white",
                                                "gridwidth": 2,
                                                "linecolor": "white",
                                                "showbackground": true,
                                                "ticks": "",
                                                "zerolinecolor": "white"
                                            }
                                        },
                                        "shapedefaults": {
                                            "line": {
                                                "color": "#2a3f5f"
                                            }
                                        },
                                        "ternary": {
                                            "aaxis": {
                                                "gridcolor": "white",
                                                "linecolor": "white",
                                                "ticks": ""
                                            },
                                            "baxis": {
                                                "gridcolor": "white",
                                                "linecolor": "white",
                                                "ticks": ""
                                            },
                                            "bgcolor": "#E5ECF6",
                                            "caxis": {
                                                "gridcolor": "white",
                                                "linecolor": "white",
                                                "ticks": ""
                                            }
                                        },
                                        "title": {
                                            "x": 0.05
                                        },
                                        "xaxis": {
                                            "automargin": true,
                                            "gridcolor": "white",
                                            "linecolor": "white",
                                            "ticks": "",
                                            "title": {
                                                "standoff": 15
                                            },
                                            "zerolinecolor": "white",
                                            "zerolinewidth": 2
                                        },
                                        "yaxis": {
                                            "automargin": true,
                                            "gridcolor": "white",
                                            "linecolor": "white",
                                            "ticks": "",
                                            "title": {
                                                "standoff": 15
                                            },
                                            "zerolinecolor": "white",
                                            "zerolinewidth": 2
                                        }
                                    }
                                },
                                "title": {
                                    "text": "Distribution of Order Totals: Original vs Standardized"
                                },
                                "width": 800,
                                "xaxis": {
                                    "anchor": "y",
                                    "domain": [
                                        0,
                                        1
                                    ],
                                    "title": {
                                        "text": "Order Total"
                                    }
                                },
                                "xaxis2": {
                                    "anchor": "y2",
                                    "domain": [
                                        0,
                                        1
                                    ],
                                    "matches": "x",
                                    "showgrid": true,
                                    "showticklabels": false
                                },
                                "yaxis": {
                                    "anchor": "x",
                                    "domain": [
                                        0,
                                        0.7326
                                    ],
                                    "title": {
                                        "text": "count"
                                    }
                                },
                                "yaxis2": {
                                    "anchor": "x2",
                                    "domain": [
                                        0.7426,
                                        1
                                    ],
                                    "matches": "y2",
                                    "showgrid": false,
                                    "showline": false,
                                    "showticklabels": false,
                                    "ticks": ""
                                }
                            }
                        }
                    },
                    "metadata": {},
                    "output_type": "display_data"
                }
            ],
            "source": [
                "# Visualize standardization\n",
                "px.histogram(\n",
                "    pd.DataFrame(\n",
                "        {\n",
                "            \"Scaled\": np.concat(\n",
                "                (np.full(observed_tips.shape, False), np.full(observed_tips.shape, True))\n",
                "            ),\n",
                "            \"Order Total\": np.concatenate((order_totals, order_totals_scaled)),\n",
                "        }\n",
                "    ),\n",
                "    x=\"Order Total\",\n",
                "    color=\"Scaled\",\n",
                "    title=\"Distribution of Order Totals: Original vs Standardized\",\n",
                "    nbins=50,\n",
                "    marginal=\"rug\",\n",
                "    width=800,\n",
                ")"
            ]
        },
        {
            "cell_type": "code",
            "execution_count": 9,
            "id": "90e0202c",
            "metadata": {
                "tags": [
                    "hide-input"
                ]
            },
            "outputs": [
                {
                    "data": {
                        "application/vnd.plotly.v1+json": {
                            "config": {
                                "plotlyServerURL": "https://plot.ly"
                            },
                            "data": [
                                {
                                    "colorbar": {
                                        "title": {
                                            "text": "SSE"
                                        },
                                        "x": -0.2
                                    },
                                    "colorscale": [
                                        [
                                            0,
                                            "rgb(5,48,97)"
                                        ],
                                        [
                                            0.1,
                                            "rgb(33,102,172)"
                                        ],
                                        [
                                            0.2,
                                            "rgb(67,147,195)"
                                        ],
                                        [
                                            0.3,
                                            "rgb(146,197,222)"
                                        ],
                                        [
                                            0.4,
                                            "rgb(209,229,240)"
                                        ],
                                        [
                                            0.5,
                                            "rgb(247,247,247)"
                                        ],
                                        [
                                            0.6,
                                            "rgb(253,219,199)"
                                        ],
                                        [
                                            0.7,
                                            "rgb(244,165,130)"
                                        ],
                                        [
                                            0.8,
                                            "rgb(214,96,77)"
                                        ],
                                        [
                                            0.9,
                                            "rgb(178,24,43)"
                                        ],
                                        [
                                            1,
                                            "rgb(103,0,31)"
                                        ]
                                    ],
                                    "contours": {
                                        "z": {
                                            "highlightcolor": "limegreen",
                                            "project": {
                                                "z": true
                                            },
                                            "show": true,
                                            "usecolormap": true
                                        }
                                    },
                                    "hovertemplate": "<b>Parameters:</b><br>bias: %{x:.3f}<br>slope: %{y:.3f}<br>SSE: %{z:.3f}<br><extra></extra>",
                                    "name": "SSE Surface",
                                    "showscale": true,
                                    "type": "surface",
                                    "x": {
                                        "bdata": "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",
                                        "dtype": "f8",
                                        "shape": "40, 40"
                                    },
                                    "y": {
                                        "bdata": "9tQDC8hNAMD21AMLyE0AwPbUAwvITQDA9tQDC8hNAMD21AMLyE0AwPbUAwvITQDA9tQDC8hNAMD21AMLyE0AwPbUAwvITQDA9tQDC8hNAMD21AMLyE0AwPbUAwvITQDA9tQDC8hNAMD21AMLyE0AwPbUAwvITQDA9tQDC8hNAMD21AMLyE0AwPbUAwvITQDA9tQDC8hNAMD21AMLyE0AwPbUAwvITQDA9tQDC8hNAMD21AMLyE0AwPbUAwvITQDA9tQDC8hNAMD21AMLyE0AwPbUAwvITQDA9tQDC8hNAMD21AMLyE0AwPbUAwvITQDA9tQDC8hNAMD21AMLyE0AwPbUAwvITQDA9tQDC8hNAMD21AMLyE0AwPbUAwvITQDA9tQDC8hNAMD21AMLyE0AwPbUAwvITQDA9tQDC8hNAMAoiWlPcRn+vyiJaU9xGf6/KIlpT3EZ/r8oiWlPcRn+vyiJaU9xGf6/KIlpT3EZ/r8oiWlPcRn+vyiJaU9xGf6/KIlpT3EZ/r8oiWlPcRn+vyiJaU9xGf6/KIlpT3EZ/r8oiWlPcRn+vyiJaU9xGf6/KIlpT3EZ/r8oiWlPcRn+vyiJaU9xGf6/KIlpT3EZ/r8oiWlPcRn+vyiJaU9xGf6/KIlpT3EZ/r8oiWlPcRn+vyiJaU9xGf6/KIlpT3EZ/r8oiWlPcRn+vyiJaU9xGf6/KIlpT3EZ/r8oiWlPcRn+vyiJaU9xGf6/KIlpT3EZ/r8oiWlPcRn+vyiJaU9xGf6/KIlpT3EZ/r8oiWlPcRn+vyiJaU9xGf6/KIlpT3EZ/r8oiWlPcRn+vyiJaU9xGf6/KIlpT3EZ/r8oiWlPcRn+v2Voy4hSl/u/ZWjLiFKX+79laMuIUpf7v2Voy4hSl/u/ZWjLiFKX+79laMuIUpf7v2Voy4hSl/u/ZWjLiFKX+79laMuIUpf7v2Voy4hSl/u/ZWjLiFKX+79laMuIUpf7v2Voy4hSl/u/ZWjLiFKX+79laMuIUpf7v2Voy4hSl/u/ZWjLiFKX+79laMuIUpf7v2Voy4hSl/u/ZWjLiFKX+79laMuIUpf7v2Voy4hSl/u/ZWjLiFKX+79laMuIUpf7v2Voy4hSl/u/ZWjLiFKX+79laMuIUpf7v2Voy4hSl/u/ZWjLiFKX+79laMuIUpf7v2Voy4hSl/u/ZWjLiFKX+79laMuIUpf7v2Voy4hSl/u/ZWjLiFKX+79laMuIUpf7v2Voy4hSl/u/ZWjLiFKX+79laMuIUpf7v2Voy4hSl/u/okctwjMV+b+iRy3CMxX5v6JHLcIzFfm/okctwjMV+b+iRy3CMxX5v6JHLcIzFfm/okctwjMV+b+iRy3CMxX5v6JHLcIzFfm/okctwjMV+b+iRy3CMxX5v6JHLcIzFfm/okctwjMV+b+iRy3CMxX5v6JHLcIzFfm/okctwjMV+b+iRy3CMxX5v6JHLcIzFfm/okctwjMV+b+iRy3CMxX5v6JHLcIzFfm/okctwjMV+b+iRy3CMxX5v6JHLcIzFfm/okctwjMV+b+iRy3CMxX5v6JHLcIzFfm/okctwjMV+b+iRy3CMxX5v6JHLcIzFfm/okctwjMV+b+iRy3CMxX5v6JHLcIzFfm/okctwjMV+b+iRy3CMxX5v6JHLcIzFfm/okctwjMV+b+iRy3CMxX5v6JHLcIzFfm/okctwjMV+b/eJo/7FJP2v94mj/sUk/a/3iaP+xST9r/eJo/7FJP2v94mj/sUk/a/3iaP+xST9r/eJo/7FJP2v94mj/sUk/a/3iaP+xST9r/eJo/7FJP2v94mj/sUk/a/3iaP+xST9r/eJo/7FJP2v94mj/sUk/a/3iaP+xST9r/eJo/7FJP2v94mj/sUk/a/3iaP+xST9r/eJo/7FJP2v94mj/sUk/a/3iaP+xST9r/eJo/7FJP2v94mj/sUk/a/3iaP+xST9r/eJo/7FJP2v94mj/sUk/a/3iaP+xST9r/eJo/7FJP2v94mj/sUk/a/3iaP+xST9r/eJo/7FJP2v94mj/sUk/a/3iaP+xST9r/eJo/7FJP2v94mj/sUk/a/3iaP+xST9r/eJo/7FJP2v94mj/sUk/a/3iaP+xST9r/eJo/7FJP2vxoG8TT2EPS/GgbxNPYQ9L8aBvE09hD0vxoG8TT2EPS/GgbxNPYQ9L8aBvE09hD0vxoG8TT2EPS/GgbxNPYQ9L8aBvE09hD0vxoG8TT2EPS/GgbxNPYQ9L8aBvE09hD0vxoG8TT2EPS/GgbxNPYQ9L8aBvE09hD0vxoG8TT2EPS/GgbxNPYQ9L8aBvE09hD0vxoG8TT2EPS/GgbxNPYQ9L8aBvE09hD0vxoG8TT2EPS/GgbxNPYQ9L8aBvE09hD0vxoG8TT2EPS/GgbxNPYQ9L8aBvE09hD0vxoG8TT2EPS/GgbxNPYQ9L8aBvE09hD0vxoG8TT2EPS/GgbxNPYQ9L8aBvE09hD0vxoG8TT2EPS/GgbxNPYQ9L8aBvE09hD0vxoG8TT2EPS/GgbxNPYQ9L8aBvE09hD0vxoG8TT2EPS/V+VSbteO8b9X5VJu147xv1flUm7XjvG/V+VSbteO8b9X5VJu147xv1flUm7XjvG/V+VSbteO8b9X5VJu147xv1flUm7XjvG/V+VSbteO8b9X5VJu147xv1flUm7XjvG/V+VSbteO8b9X5VJu147xv1flUm7XjvG/V+VSbteO8b9X5VJu147xv1flUm7XjvG/V+VSbteO8b9X5VJu147xv1flUm7XjvG/V+VSbteO8b9X5VJu147xv1flUm7XjvG/V+VSbteO8b9X5VJu147xv1flUm7XjvG/V+VSbteO8b9X5VJu147xv1flUm7XjvG/V+VSbteO8b9X5VJu147xv1flUm7XjvG/V+VSbteO8b9X5VJu147xv1flUm7XjvG/V+VSbteO8b9X5VJu147xv1flUm7XjvG/V+VSbteO8b8oiWlPcRnuvyiJaU9xGe6/KIlpT3EZ7r8oiWlPcRnuvyiJaU9xGe6/KIlpT3EZ7r8oiWlPcRnuvyiJaU9xGe6/KIlpT3EZ7r8oiWlPcRnuvyiJaU9xGe6/KIlpT3EZ7r8oiWlPcRnuvyiJaU9xGe6/KIlpT3EZ7r8oiWlPcRnuvyiJaU9xGe6/KIlpT3EZ7r8oiWlPcRnuvyiJaU9xGe6/KIlpT3EZ7r8oiWlPcRnuvyiJaU9xGe6/KIlpT3EZ7r8oiWlPcRnuvyiJaU9xGe6/KIlpT3EZ7r8oiWlPcRnuvyiJaU9xGe6/KIlpT3EZ7r8oiWlPcRnuvyiJaU9xGe6/KIlpT3EZ7r8oiWlPcRnuvyiJaU9xGe6/KIlpT3EZ7r8oiWlPcRnuvyiJaU9xGe6/KIlpT3EZ7r8oiWlPcRnuv6BHLcIzFem/oEctwjMV6b+gRy3CMxXpv6BHLcIzFem/oEctwjMV6b+gRy3CMxXpv6BHLcIzFem/oEctwjMV6b+gRy3CMxXpv6BHLcIzFem/oEctwjMV6b+gRy3CMxXpv6BHLcIzFem/oEctwjMV6b+gRy3CMxXpv6BHLcIzFem/oEctwjMV6b+gRy3CMxXpv6BHLcIzFem/oEctwjMV6b+gRy3CMxXpv6BHLcIzFem/oEctwjMV6b+gRy3CMxXpv6BHLcIzFem/oEctwjMV6b+gRy3CMxXpv6BHLcIzFem/oEctwjMV6b+gRy3CMxXpv6BHLcIzFem/oEctwjMV6b+gRy3CMxXpv6BHLcIzFem/oEctwjMV6b+gRy3CMxXpv6BHLcIzFem/oEctwjMV6b+gRy3CMxXpv6BHLcIzFem/GAbxNPYQ5L8YBvE09hDkvxgG8TT2EOS/GAbxNPYQ5L8YBvE09hDkvxgG8TT2EOS/GAbxNPYQ5L8YBvE09hDkvxgG8TT2EOS/GAbxNPYQ5L8YBvE09hDkvxgG8TT2EOS/GAbxNPYQ5L8YBvE09hDkvxgG8TT2EOS/GAbxNPYQ5L8YBvE09hDkvxgG8TT2EOS/GAbxNPYQ5L8YBvE09hDkvxgG8TT2EOS/GAbxNPYQ5L8YBvE09hDkvxgG8TT2EOS/GAbxNPYQ5L8YBvE09hDkvxgG8TT2EOS/GAbxNPYQ5L8YBvE09hDkvxgG8TT2EOS/GAbxNPYQ5L8YBvE09hDkvxgG8TT2EOS/GAbxNPYQ5L8YBvE09hDkvxgG8TT2EOS/GAbxNPYQ5L8YBvE09hDkvxgG8TT2EOS/GAbxNPYQ5L8kiWlPcRnevySJaU9xGd6/JIlpT3EZ3r8kiWlPcRnevySJaU9xGd6/JIlpT3EZ3r8kiWlPcRnevySJaU9xGd6/JIlpT3EZ3r8kiWlPcRnevySJaU9xGd6/JIlpT3EZ3r8kiWlPcRnevySJaU9xGd6/JIlpT3EZ3r8kiWlPcRnevySJaU9xGd6/JIlpT3EZ3r8kiWlPcRnevySJaU9xGd6/JIlpT3EZ3r8kiWlPcRnevySJaU9xGd6/JIlpT3EZ3r8kiWlPcRnevySJaU9xGd6/JIlpT3EZ3r8kiWlPcRnevySJaU9xGd6/JIlpT3EZ3r8kiWlPcRnevySJaU9xGd6/JIlpT3EZ3r8kiWlPcRnevySJaU9xGd6/JIlpT3EZ3r8kiWlPcRnevySJaU9xGd6/JIlpT3EZ3r8kiWlPcRnevxgG8TT2ENS/GAbxNPYQ1L8YBvE09hDUvxgG8TT2ENS/GAbxNPYQ1L8YBvE09hDUvxgG8TT2ENS/GAbxNPYQ1L8YBvE09hDUvxgG8TT2ENS/GAbxNPYQ1L8YBvE09hDUvxgG8TT2ENS/GAbxNPYQ1L8YBvE09hDUvxgG8TT2ENS/GAbxNPYQ1L8YBvE09hDUvxgG8TT2ENS/GAbxNPYQ1L8YBvE09hDUvxgG8TT2ENS/GAbxNPYQ1L8YBvE09hDUvxgG8TT2ENS/GAbxNPYQ1L8YBvE09hDUvxgG8TT2ENS/GAbxNPYQ1L8YBvE09hDUvxgG8TT2ENS/GAbxNPYQ1L8YBvE09hDUvxgG8TT2ENS/GAbxNPYQ1L8YBvE09hDUvxgG8TT2ENS/GAbxNPYQ1L8YBvE09hDUvxgG8TT2ENS/EAbxNPYQxL8QBvE09hDEvxAG8TT2EMS/EAbxNPYQxL8QBvE09hDEvxAG8TT2EMS/EAbxNPYQxL8QBvE09hDEvxAG8TT2EMS/EAbxNPYQxL8QBvE09hDEvxAG8TT2EMS/EAbxNPYQxL8QBvE09hDEvxAG8TT2EMS/EAbxNPYQxL8QBvE09hDEvxAG8TT2EMS/EAbxNPYQxL8QBvE09hDEvxAG8TT2EMS/EAbxNPYQxL8QBvE09hDEvxAG8TT2EMS/EAbxNPYQxL8QBvE09hDEvxAG8TT2EMS/EAbxNPYQxL8QBvE09hDEvxAG8TT2EMS/EAbxNPYQxL8QBvE09hDEvxAG8TT2EMS/EAbxNPYQxL8QBvE09hDEvxAG8TT2EMS/EAbxNPYQxL8QBvE09hDEvxAG8TT2EMS/EAbxNPYQxL8AAAAAAADAPAAAAAAAAMA8AAAAAAAAwDwAAAAAAADAPAAAAAAAAMA8AAAAAAAAwDwAAAAAAADAPAAAAAAAAMA8AAAAAAAAwDwAAAAAAADAPAAAAAAAAMA8AAAAAAAAwDwAAAAAAADAPAAAAAAAAMA8AAAAAAAAwDwAAAAAAADAPAAAAAAAAMA8AAAAAAAAwDwAAAAAAADAPAAAAAAAAMA8AAAAAAAAwDwAAAAAAADAPAAAAAAAAMA8AAAAAAAAwDwAAAAAAADAPAAAAAAAAMA8AAAAAAAAwDwAAAAAAADAPAAAAAAAAMA8AAAAAAAAwDwAAAAAAADAPAAAAAAAAMA8AAAAAAAAwDwAAAAAAADAPAAAAAAAAMA8AAAAAAAAwDwAAAAAAADAPAAAAAAAAMA8AAAAAAAAwDwAAAAAAADAPCAG8TT2EMQ/IAbxNPYQxD8gBvE09hDEPyAG8TT2EMQ/IAbxNPYQxD8gBvE09hDEPyAG8TT2EMQ/IAbxNPYQxD8gBvE09hDEPyAG8TT2EMQ/IAbxNPYQxD8gBvE09hDEPyAG8TT2EMQ/IAbxNPYQxD8gBvE09hDEPyAG8TT2EMQ/IAbxNPYQxD8gBvE09hDEPyAG8TT2EMQ/IAbxNPYQxD8gBvE09hDEPyAG8TT2EMQ/IAbxNPYQxD8gBvE09hDEPyAG8TT2EMQ/IAbxNPYQxD8gBvE09hDEPyAG8TT2EMQ/IAbxNPYQxD8gBvE09hDEPyAG8TT2EMQ/IAbxNPYQxD8gBvE09hDEPyAG8TT2EMQ/IAbxNPYQxD8gBvE09hDEPyAG8TT2EMQ/IAbxNPYQxD8gBvE09hDEPyAG8TT2EMQ/IAbxNPYQ1D8gBvE09hDUPyAG8TT2ENQ/IAbxNPYQ1D8gBvE09hDUPyAG8TT2ENQ/IAbxNPYQ1D8gBvE09hDUPyAG8TT2ENQ/IAbxNPYQ1D8gBvE09hDUPyAG8TT2ENQ/IAbxNPYQ1D8gBvE09hDUPyAG8TT2ENQ/IAbxNPYQ1D8gBvE09hDUPyAG8TT2ENQ/IAbxNPYQ1D8gBvE09hDUPyAG8TT2ENQ/IAbxNPYQ1D8gBvE09hDUPyAG8TT2ENQ/IAbxNPYQ1D8gBvE09hDUPyAG8TT2ENQ/IAbxNPYQ1D8gBvE09hDUPyAG8TT2ENQ/IAbxNPYQ1D8gBvE09hDUPyAG8TT2ENQ/IAbxNPYQ1D8gBvE09hDUPyAG8TT2ENQ/IAbxNPYQ1D8gBvE09hDUPyAG8TT2ENQ/IAbxNPYQ1D8wiWlPcRnePzCJaU9xGd4/MIlpT3EZ3j8wiWlPcRnePzCJaU9xGd4/MIlpT3EZ3j8wiWlPcRnePzCJaU9xGd4/MIlpT3EZ3j8wiWlPcRnePzCJaU9xGd4/MIlpT3EZ3j8wiWlPcRnePzCJaU9xGd4/MIlpT3EZ3j8wiWlPcRnePzCJaU9xGd4/MIlpT3EZ3j8wiWlPcRnePzCJaU9xGd4/MIlpT3EZ3j8wiWlPcRnePzCJaU9xGd4/MIlpT3EZ3j8wiWlPcRnePzCJaU9xGd4/MIlpT3EZ3j8wiWlPcRnePzCJaU9xGd4/MIlpT3EZ3j8wiWlPcRnePzCJaU9xGd4/MIlpT3EZ3j8wiWlPcRnePzCJaU9xGd4/MIlpT3EZ3j8wiWlPcRnePzCJaU9xGd4/MIlpT3EZ3j8wiWlPcRnePyAG8TT2EOQ/IAbxNPYQ5D8gBvE09hDkPyAG8TT2EOQ/IAbxNPYQ5D8gBvE09hDkPyAG8TT2EOQ/IAbxNPYQ5D8gBvE09hDkPyAG8TT2EOQ/IAbxNPYQ5D8gBvE09hDkPyAG8TT2EOQ/IAbxNPYQ5D8gBvE09hDkPyAG8TT2EOQ/IAbxNPYQ5D8gBvE09hDkPyAG8TT2EOQ/IAbxNPYQ5D8gBvE09hDkPyAG8TT2EOQ/IAbxNPYQ5D8gBvE09hDkPyAG8TT2EOQ/IAbxNPYQ5D8gBvE09hDkPyAG8TT2EOQ/IAbxNPYQ5D8gBvE09hDkPyAG8TT2EOQ/IAbxNPYQ5D8gBvE09hDkPyAG8TT2EOQ/IAbxNPYQ5D8gBvE09hDkPyAG8TT2EOQ/IAbxNPYQ5D8gBvE09hDkPyAG8TT2EOQ/qEctwjMV6T+oRy3CMxXpP6hHLcIzFek/qEctwjMV6T+oRy3CMxXpP6hHLcIzFek/qEctwjMV6T+oRy3CMxXpP6hHLcIzFek/qEctwjMV6T+oRy3CMxXpP6hHLcIzFek/qEctwjMV6T+oRy3CMxXpP6hHLcIzFek/qEctwjMV6T+oRy3CMxXpP6hHLcIzFek/qEctwjMV6T+oRy3CMxXpP6hHLcIzFek/qEctwjMV6T+oRy3CMxXpP6hHLcIzFek/qEctwjMV6T+oRy3CMxXpP6hHLcIzFek/qEctwjMV6T+oRy3CMxXpP6hHLcIzFek/qEctwjMV6T+oRy3CMxXpP6hHLcIzFek/qEctwjMV6T+oRy3CMxXpP6hHLcIzFek/qEctwjMV6T+oRy3CMxXpP6hHLcIzFek/qEctwjMV6T8siWlPcRnuPyyJaU9xGe4/LIlpT3EZ7j8siWlPcRnuPyyJaU9xGe4/LIlpT3EZ7j8siWlPcRnuPyyJaU9xGe4/LIlpT3EZ7j8siWlPcRnuPyyJaU9xGe4/LIlpT3EZ7j8siWlPcRnuPyyJaU9xGe4/LIlpT3EZ7j8siWlPcRnuPyyJaU9xGe4/LIlpT3EZ7j8siWlPcRnuPyyJaU9xGe4/LIlpT3EZ7j8siWlPcRnuPyyJaU9xGe4/LIlpT3EZ7j8siWlPcRnuPyyJaU9xGe4/LIlpT3EZ7j8siWlPcRnuPyyJaU9xGe4/LIlpT3EZ7j8siWlPcRnuPyyJaU9xGe4/LIlpT3EZ7j8siWlPcRnuPyyJaU9xGe4/LIlpT3EZ7j8siWlPcRnuPyyJaU9xGe4/LIlpT3EZ7j8siWlPcRnuP1rlUm7XjvE/WuVSbteO8T9a5VJu147xP1rlUm7XjvE/WuVSbteO8T9a5VJu147xP1rlUm7XjvE/WuVSbteO8T9a5VJu147xP1rlUm7XjvE/WuVSbteO8T9a5VJu147xP1rlUm7XjvE/WuVSbteO8T9a5VJu147xP1rlUm7XjvE/WuVSbteO8T9a5VJu147xP1rlUm7XjvE/WuVSbteO8T9a5VJu147xP1rlUm7XjvE/WuVSbteO8T9a5VJu147xP1rlUm7XjvE/WuVSbteO8T9a5VJu147xP1rlUm7XjvE/WuVSbteO8T9a5VJu147xP1rlUm7XjvE/WuVSbteO8T9a5VJu147xP1rlUm7XjvE/WuVSbteO8T9a5VJu147xP1rlUm7XjvE/WuVSbteO8T9a5VJu147xP1rlUm7XjvE/HgbxNPYQ9D8eBvE09hD0Px4G8TT2EPQ/HgbxNPYQ9D8eBvE09hD0Px4G8TT2EPQ/HgbxNPYQ9D8eBvE09hD0Px4G8TT2EPQ/HgbxNPYQ9D8eBvE09hD0Px4G8TT2EPQ/HgbxNPYQ9D8eBvE09hD0Px4G8TT2EPQ/HgbxNPYQ9D8eBvE09hD0Px4G8TT2EPQ/HgbxNPYQ9D8eBvE09hD0Px4G8TT2EPQ/HgbxNPYQ9D8eBvE09hD0Px4G8TT2EPQ/HgbxNPYQ9D8eBvE09hD0Px4G8TT2EPQ/HgbxNPYQ9D8eBvE09hD0Px4G8TT2EPQ/HgbxNPYQ9D8eBvE09hD0Px4G8TT2EPQ/HgbxNPYQ9D8eBvE09hD0Px4G8TT2EPQ/HgbxNPYQ9D8eBvE09hD0Px4G8TT2EPQ/HgbxNPYQ9D/gJo/7FJP2P+Amj/sUk/Y/4CaP+xST9j/gJo/7FJP2P+Amj/sUk/Y/4CaP+xST9j/gJo/7FJP2P+Amj/sUk/Y/4CaP+xST9j/gJo/7FJP2P+Amj/sUk/Y/4CaP+xST9j/gJo/7FJP2P+Amj/sUk/Y/4CaP+xST9j/gJo/7FJP2P+Amj/sUk/Y/4CaP+xST9j/gJo/7FJP2P+Amj/sUk/Y/4CaP+xST9j/gJo/7FJP2P+Amj/sUk/Y/4CaP+xST9j/gJo/7FJP2P+Amj/sUk/Y/4CaP+xST9j/gJo/7FJP2P+Amj/sUk/Y/4CaP+xST9j/gJo/7FJP2P+Amj/sUk/Y/4CaP+xST9j/gJo/7FJP2P+Amj/sUk/Y/4CaP+xST9j/gJo/7FJP2P+Amj/sUk/Y/4CaP+xST9j/gJo/7FJP2P6RHLcIzFfk/pEctwjMV+T+kRy3CMxX5P6RHLcIzFfk/pEctwjMV+T+kRy3CMxX5P6RHLcIzFfk/pEctwjMV+T+kRy3CMxX5P6RHLcIzFfk/pEctwjMV+T+kRy3CMxX5P6RHLcIzFfk/pEctwjMV+T+kRy3CMxX5P6RHLcIzFfk/pEctwjMV+T+kRy3CMxX5P6RHLcIzFfk/pEctwjMV+T+kRy3CMxX5P6RHLcIzFfk/pEctwjMV+T+kRy3CMxX5P6RHLcIzFfk/pEctwjMV+T+kRy3CMxX5P6RHLcIzFfk/pEctwjMV+T+kRy3CMxX5P6RHLcIzFfk/pEctwjMV+T+kRy3CMxX5P6RHLcIzFfk/pEctwjMV+T+kRy3CMxX5P6RHLcIzFfk/pEctwjMV+T+kRy3CMxX5P6RHLcIzFfk/aGjLiFKX+z9oaMuIUpf7P2hoy4hSl/s/aGjLiFKX+z9oaMuIUpf7P2hoy4hSl/s/aGjLiFKX+z9oaMuIUpf7P2hoy4hSl/s/aGjLiFKX+z9oaMuIUpf7P2hoy4hSl/s/aGjLiFKX+z9oaMuIUpf7P2hoy4hSl/s/aGjLiFKX+z9oaMuIUpf7P2hoy4hSl/s/aGjLiFKX+z9oaMuIUpf7P2hoy4hSl/s/aGjLiFKX+z9oaMuIUpf7P2hoy4hSl/s/aGjLiFKX+z9oaMuIUpf7P2hoy4hSl/s/aGjLiFKX+z9oaMuIUpf7P2hoy4hSl/s/aGjLiFKX+z9oaMuIUpf7P2hoy4hSl/s/aGjLiFKX+z9oaMuIUpf7P2hoy4hSl/s/aGjLiFKX+z9oaMuIUpf7P2hoy4hSl/s/aGjLiFKX+z8siWlPcRn+PyyJaU9xGf4/LIlpT3EZ/j8siWlPcRn+PyyJaU9xGf4/LIlpT3EZ/j8siWlPcRn+PyyJaU9xGf4/LIlpT3EZ/j8siWlPcRn+PyyJaU9xGf4/LIlpT3EZ/j8siWlPcRn+PyyJaU9xGf4/LIlpT3EZ/j8siWlPcRn+PyyJaU9xGf4/LIlpT3EZ/j8siWlPcRn+PyyJaU9xGf4/LIlpT3EZ/j8siWlPcRn+PyyJaU9xGf4/LIlpT3EZ/j8siWlPcRn+PyyJaU9xGf4/LIlpT3EZ/j8siWlPcRn+PyyJaU9xGf4/LIlpT3EZ/j8siWlPcRn+PyyJaU9xGf4/LIlpT3EZ/j8siWlPcRn+PyyJaU9xGf4/LIlpT3EZ/j8siWlPcRn+PyyJaU9xGf4/LIlpT3EZ/j8siWlPcRn+P/jUAwvITQBA+NQDC8hNAED41AMLyE0AQPjUAwvITQBA+NQDC8hNAED41AMLyE0AQPjUAwvITQBA+NQDC8hNAED41AMLyE0AQPjUAwvITQBA+NQDC8hNAED41AMLyE0AQPjUAwvITQBA+NQDC8hNAED41AMLyE0AQPjUAwvITQBA+NQDC8hNAED41AMLyE0AQPjUAwvITQBA+NQDC8hNAED41AMLyE0AQPjUAwvITQBA+NQDC8hNAED41AMLyE0AQPjUAwvITQBA+NQDC8hNAED41AMLyE0AQPjUAwvITQBA+NQDC8hNAED41AMLyE0AQPjUAwvITQBA+NQDC8hNAED41AMLyE0AQPjUAwvITQBA+NQDC8hNAED41AMLyE0AQPjUAwvITQBA+NQDC8hNAED41AMLyE0AQPjUAwvITQBAWuVSbteOAUBa5VJu144BQFrlUm7XjgFAWuVSbteOAUBa5VJu144BQFrlUm7XjgFAWuVSbteOAUBa5VJu144BQFrlUm7XjgFAWuVSbteOAUBa5VJu144BQFrlUm7XjgFAWuVSbteOAUBa5VJu144BQFrlUm7XjgFAWuVSbteOAUBa5VJu144BQFrlUm7XjgFAWuVSbteOAUBa5VJu144BQFrlUm7XjgFAWuVSbteOAUBa5VJu144BQFrlUm7XjgFAWuVSbteOAUBa5VJu144BQFrlUm7XjgFAWuVSbteOAUBa5VJu144BQFrlUm7XjgFAWuVSbteOAUBa5VJu144BQFrlUm7XjgFAWuVSbteOAUBa5VJu144BQFrlUm7XjgFAWuVSbteOAUBa5VJu144BQFrlUm7XjgFAWuVSbteOAUC69aHR5s8CQLr1odHmzwJAuvWh0ebPAkC69aHR5s8CQLr1odHmzwJAuvWh0ebPAkC69aHR5s8CQLr1odHmzwJAuvWh0ebPAkC69aHR5s8CQLr1odHmzwJAuvWh0ebPAkC69aHR5s8CQLr1odHmzwJAuvWh0ebPAkC69aHR5s8CQLr1odHmzwJAuvWh0ebPAkC69aHR5s8CQLr1odHmzwJAuvWh0ebPAkC69aHR5s8CQLr1odHmzwJAuvWh0ebPAkC69aHR5s8CQLr1odHmzwJAuvWh0ebPAkC69aHR5s8CQLr1odHmzwJAuvWh0ebPAkC69aHR5s8CQLr1odHmzwJAuvWh0ebPAkC69aHR5s8CQLr1odHmzwJAuvWh0ebPAkC69aHR5s8CQLr1odHmzwJAuvWh0ebPAkC69aHR5s8CQBwG8TT2EARAHAbxNPYQBEAcBvE09hAEQBwG8TT2EARAHAbxNPYQBEAcBvE09hAEQBwG8TT2EARAHAbxNPYQBEAcBvE09hAEQBwG8TT2EARAHAbxNPYQBEAcBvE09hAEQBwG8TT2EARAHAbxNPYQBEAcBvE09hAEQBwG8TT2EARAHAbxNPYQBEAcBvE09hAEQBwG8TT2EARAHAbxNPYQBEAcBvE09hAEQBwG8TT2EARAHAbxNPYQBEAcBvE09hAEQBwG8TT2EARAHAbxNPYQBEAcBvE09hAEQBwG8TT2EARAHAbxNPYQBEAcBvE09hAEQBwG8TT2EARAHAbxNPYQBEAcBvE09hAEQBwG8TT2EARAHAbxNPYQBEAcBvE09hAEQBwG8TT2EARAHAbxNPYQBEAcBvE09hAEQBwG8TT2EARAfhZAmAVSBUB+FkCYBVIFQH4WQJgFUgVAfhZAmAVSBUB+FkCYBVIFQH4WQJgFUgVAfhZAmAVSBUB+FkCYBVIFQH4WQJgFUgVAfhZAmAVSBUB+FkCYBVIFQH4WQJgFUgVAfhZAmAVSBUB+FkCYBVIFQH4WQJgFUgVAfhZAmAVSBUB+FkCYBVIFQH4WQJgFUgVAfhZAmAVSBUB+FkCYBVIFQH4WQJgFUgVAfhZAmAVSBUB+FkCYBVIFQH4WQJgFUgVAfhZAmAVSBUB+FkCYBVIFQH4WQJgFUgVAfhZAmAVSBUB+FkCYBVIFQH4WQJgFUgVAfhZAmAVSBUB+FkCYBVIFQH4WQJgFUgVAfhZAmAVSBUB+FkCYBVIFQH4WQJgFUgVAfhZAmAVSBUB+FkCYBVIFQH4WQJgFUgVAfhZAmAVSBUDgJo/7FJMGQOAmj/sUkwZA4CaP+xSTBkDgJo/7FJMGQOAmj/sUkwZA4CaP+xSTBkDgJo/7FJMGQOAmj/sUkwZA4CaP+xSTBkDgJo/7FJMGQOAmj/sUkwZA4CaP+xSTBkDgJo/7FJMGQOAmj/sUkwZA4CaP+xSTBkDgJo/7FJMGQOAmj/sUkwZA4CaP+xSTBkDgJo/7FJMGQOAmj/sUkwZA4CaP+xSTBkDgJo/7FJMGQOAmj/sUkwZA4CaP+xSTBkDgJo/7FJMGQOAmj/sUkwZA4CaP+xSTBkDgJo/7FJMGQOAmj/sUkwZA4CaP+xSTBkDgJo/7FJMGQOAmj/sUkwZA4CaP+xSTBkDgJo/7FJMGQOAmj/sUkwZA4CaP+xSTBkDgJo/7FJMGQOAmj/sUkwZA4CaP+xSTBkDgJo/7FJMGQEI33l4k1AdAQjfeXiTUB0BCN95eJNQHQEI33l4k1AdAQjfeXiTUB0BCN95eJNQHQEI33l4k1AdAQjfeXiTUB0BCN95eJNQHQEI33l4k1AdAQjfeXiTUB0BCN95eJNQHQEI33l4k1AdAQjfeXiTUB0BCN95eJNQHQEI33l4k1AdAQjfeXiTUB0BCN95eJNQHQEI33l4k1AdAQjfeXiTUB0BCN95eJNQHQEI33l4k1AdAQjfeXiTUB0BCN95eJNQHQEI33l4k1AdAQjfeXiTUB0BCN95eJNQHQEI33l4k1AdAQjfeXiTUB0BCN95eJNQHQEI33l4k1AdAQjfeXiTUB0BCN95eJNQHQEI33l4k1AdAQjfeXiTUB0BCN95eJNQHQEI33l4k1AdAQjfeXiTUB0BCN95eJNQHQEI33l4k1AdApEctwjMVCUCkRy3CMxUJQKRHLcIzFQlApEctwjMVCUCkRy3CMxUJQKRHLcIzFQlApEctwjMVCUCkRy3CMxUJQKRHLcIzFQlApEctwjMVCUCkRy3CMxUJQKRHLcIzFQlApEctwjMVCUCkRy3CMxUJQKRHLcIzFQlApEctwjMVCUCkRy3CMxUJQKRHLcIzFQlApEctwjMVCUCkRy3CMxUJQKRHLcIzFQlApEctwjMVCUCkRy3CMxUJQKRHLcIzFQlApEctwjMVCUCkRy3CMxUJQKRHLcIzFQlApEctwjMVCUCkRy3CMxUJQKRHLcIzFQlApEctwjMVCUCkRy3CMxUJQKRHLcIzFQlApEctwjMVCUCkRy3CMxUJQKRHLcIzFQlApEctwjMVCUCkRy3CMxUJQKRHLcIzFQlApEctwjMVCUAGWHwlQ1YKQAZYfCVDVgpABlh8JUNWCkAGWHwlQ1YKQAZYfCVDVgpABlh8JUNWCkAGWHwlQ1YKQAZYfCVDVgpABlh8JUNWCkAGWHwlQ1YKQAZYfCVDVgpABlh8JUNWCkAGWHwlQ1YKQAZYfCVDVgpABlh8JUNWCkAGWHwlQ1YKQAZYfCVDVgpABlh8JUNWCkAGWHwlQ1YKQAZYfCVDVgpABlh8JUNWCkAGWHwlQ1YKQAZYfCVDVgpABlh8JUNWCkAGWHwlQ1YKQAZYfCVDVgpABlh8JUNWCkAGWHwlQ1YKQAZYfCVDVgpABlh8JUNWCkAGWHwlQ1YKQAZYfCVDVgpABlh8JUNWCkAGWHwlQ1YKQAZYfCVDVgpABlh8JUNWCkAGWHwlQ1YKQAZYfCVDVgpABlh8JUNWCkAGWHwlQ1YKQGhoy4hSlwtAaGjLiFKXC0BoaMuIUpcLQGhoy4hSlwtAaGjLiFKXC0BoaMuIUpcLQGhoy4hSlwtAaGjLiFKXC0BoaMuIUpcLQGhoy4hSlwtAaGjLiFKXC0BoaMuIUpcLQGhoy4hSlwtAaGjLiFKXC0BoaMuIUpcLQGhoy4hSlwtAaGjLiFKXC0BoaMuIUpcLQGhoy4hSlwtAaGjLiFKXC0BoaMuIUpcLQGhoy4hSlwtAaGjLiFKXC0BoaMuIUpcLQGhoy4hSlwtAaGjLiFKXC0BoaMuIUpcLQGhoy4hSlwtAaGjLiFKXC0BoaMuIUpcLQGhoy4hSlwtAaGjLiFKXC0BoaMuIUpcLQGhoy4hSlwtAaGjLiFKXC0BoaMuIUpcLQGhoy4hSlwtAaGjLiFKXC0BoaMuIUpcLQGhoy4hSlwtAynga7GHYDEDKeBrsYdgMQMp4Guxh2AxAynga7GHYDEDKeBrsYdgMQMp4Guxh2AxAynga7GHYDEDKeBrsYdgMQMp4Guxh2AxAynga7GHYDEDKeBrsYdgMQMp4Guxh2AxAynga7GHYDEDKeBrsYdgMQMp4Guxh2AxAynga7GHYDEDKeBrsYdgMQMp4Guxh2AxAynga7GHYDEDKeBrsYdgMQMp4Guxh2AxAynga7GHYDEDKeBrsYdgMQMp4Guxh2AxAynga7GHYDEDKeBrsYdgMQMp4Guxh2AxAynga7GHYDEDKeBrsYdgMQMp4Guxh2AxAynga7GHYDEDKeBrsYdgMQMp4Guxh2AxAynga7GHYDEDKeBrsYdgMQMp4Guxh2AxAynga7GHYDEDKeBrsYdgMQMp4Guxh2AxAynga7GHYDEAqiWlPcRkOQCqJaU9xGQ5AKolpT3EZDkAqiWlPcRkOQCqJaU9xGQ5AKolpT3EZDkAqiWlPcRkOQCqJaU9xGQ5AKolpT3EZDkAqiWlPcRkOQCqJaU9xGQ5AKolpT3EZDkAqiWlPcRkOQCqJaU9xGQ5AKolpT3EZDkAqiWlPcRkOQCqJaU9xGQ5AKolpT3EZDkAqiWlPcRkOQCqJaU9xGQ5AKolpT3EZDkAqiWlPcRkOQCqJaU9xGQ5AKolpT3EZDkAqiWlPcRkOQCqJaU9xGQ5AKolpT3EZDkAqiWlPcRkOQCqJaU9xGQ5AKolpT3EZDkAqiWlPcRkOQCqJaU9xGQ5AKolpT3EZDkAqiWlPcRkOQCqJaU9xGQ5AKolpT3EZDkAqiWlPcRkOQCqJaU9xGQ5AKolpT3EZDkAqiWlPcRkOQIyZuLKAWg9AjJm4soBaD0CMmbiygFoPQIyZuLKAWg9AjJm4soBaD0CMmbiygFoPQIyZuLKAWg9AjJm4soBaD0CMmbiygFoPQIyZuLKAWg9AjJm4soBaD0CMmbiygFoPQIyZuLKAWg9AjJm4soBaD0CMmbiygFoPQIyZuLKAWg9AjJm4soBaD0CMmbiygFoPQIyZuLKAWg9AjJm4soBaD0CMmbiygFoPQIyZuLKAWg9AjJm4soBaD0CMmbiygFoPQIyZuLKAWg9AjJm4soBaD0CMmbiygFoPQIyZuLKAWg9AjJm4soBaD0CMmbiygFoPQIyZuLKAWg9AjJm4soBaD0CMmbiygFoPQIyZuLKAWg9AjJm4soBaD0CMmbiygFoPQIyZuLKAWg9AjJm4soBaD0CMmbiygFoPQIyZuLKAWg9A99QDC8hNEED31AMLyE0QQPfUAwvITRBA99QDC8hNEED31AMLyE0QQPfUAwvITRBA99QDC8hNEED31AMLyE0QQPfUAwvITRBA99QDC8hNEED31AMLyE0QQPfUAwvITRBA99QDC8hNEED31AMLyE0QQPfUAwvITRBA99QDC8hNEED31AMLyE0QQPfUAwvITRBA99QDC8hNEED31AMLyE0QQPfUAwvITRBA99QDC8hNEED31AMLyE0QQPfUAwvITRBA99QDC8hNEED31AMLyE0QQPfUAwvITRBA99QDC8hNEED31AMLyE0QQPfUAwvITRBA99QDC8hNEED31AMLyE0QQPfUAwvITRBA99QDC8hNEED31AMLyE0QQPfUAwvITRBA99QDC8hNEED31AMLyE0QQPfUAwvITRBA99QDC8hNEEA=",
                                        "dtype": "f8",
                                        "shape": "40, 40"
                                    },
                                    "z": {
                                        "bdata": "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",
                                        "dtype": "f8",
                                        "shape": "40, 40"
                                    }
                                },
                                {
                                    "hovertemplate": "<b>True Minimum:</b><br>bias: %{x:.3f}<br>slope: %{y:.3f}<br>SSE: %{z:.3f}<br><extra></extra>",
                                    "marker": {
                                        "color": "gold",
                                        "line": {
                                            "color": "black",
                                            "width": 2
                                        },
                                        "size": 10,
                                        "symbol": "diamond"
                                    },
                                    "mode": "markers",
                                    "name": "True Minimum",
                                    "type": "scatter3d",
                                    "x": [
                                        0.055582365723876204
                                    ],
                                    "y": [
                                        1.018989604022236
                                    ],
                                    "z": [
                                        3.3482810615146605
                                    ]
                                },
                                {
                                    "hovertemplate": "<b>Surface Minimum:</b><br>bias: %{x:.3f}<br>slope: %{y:.3f}<br>SSE: %{z:.3f}<br><extra></extra>",
                                    "marker": {
                                        "color": "limegreen",
                                        "line": {
                                            "color": "black",
                                            "width": 2
                                        },
                                        "size": 10,
                                        "symbol": "diamond"
                                    },
                                    "mode": "markers",
                                    "name": "Surface Minimum",
                                    "type": "scatter3d",
                                    "x": [
                                        -0.022801449970141885
                                    ],
                                    "y": [
                                        0.940605788328218
                                    ],
                                    "z": [
                                        3.1338689307307828
                                    ]
                                }
                            ],
                            "layout": {
                                "height": 600,
                                "margin": {
                                    "b": 0,
                                    "l": 80,
                                    "r": 0,
                                    "t": 40
                                },
                                "scene": {
                                    "camera": {
                                        "eye": {
                                            "x": 1.5,
                                            "y": 1.5,
                                            "z": 1.5
                                        }
                                    },
                                    "xaxis": {
                                        "title": {
                                            "text": "bias"
                                        }
                                    },
                                    "yaxis": {
                                        "title": {
                                            "text": "slope"
                                        }
                                    },
                                    "zaxis": {
                                        "title": {
                                            "text": "SSE"
                                        }
                                    }
                                },
                                "template": {
                                    "data": {
                                        "bar": [
                                            {
                                                "error_x": {
                                                    "color": "#2a3f5f"
                                                },
                                                "error_y": {
                                                    "color": "#2a3f5f"
                                                },
                                                "marker": {
                                                    "line": {
                                                        "color": "#E5ECF6",
                                                        "width": 0.5
                                                    },
                                                    "pattern": {
                                                        "fillmode": "overlay",
                                                        "size": 10,
                                                        "solidity": 0.2
                                                    }
                                                },
                                                "type": "bar"
                                            }
                                        ],
                                        "barpolar": [
                                            {
                                                "marker": {
                                                    "line": {
                                                        "color": "#E5ECF6",
                                                        "width": 0.5
                                                    },
                                                    "pattern": {
                                                        "fillmode": "overlay",
                                                        "size": 10,
                                                        "solidity": 0.2
                                                    }
                                                },
                                                "type": "barpolar"
                                            }
                                        ],
                                        "carpet": [
                                            {
                                                "aaxis": {
                                                    "endlinecolor": "#2a3f5f",
                                                    "gridcolor": "white",
                                                    "linecolor": "white",
                                                    "minorgridcolor": "white",
                                                    "startlinecolor": "#2a3f5f"
                                                },
                                                "baxis": {
                                                    "endlinecolor": "#2a3f5f",
                                                    "gridcolor": "white",
                                                    "linecolor": "white",
                                                    "minorgridcolor": "white",
                                                    "startlinecolor": "#2a3f5f"
                                                },
                                                "type": "carpet"
                                            }
                                        ],
                                        "choropleth": [
                                            {
                                                "colorbar": {
                                                    "outlinewidth": 0,
                                                    "ticks": ""
                                                },
                                                "type": "choropleth"
                                            }
                                        ],
                                        "contour": [
                                            {
                                                "colorbar": {
                                                    "outlinewidth": 0,
                                                    "ticks": ""
                                                },
                                                "colorscale": [
                                                    [
                                                        0,
                                                        "#0d0887"
                                                    ],
                                                    [
                                                        0.1111111111111111,
                                                        "#46039f"
                                                    ],
                                                    [
                                                        0.2222222222222222,
                                                        "#7201a8"
                                                    ],
                                                    [
                                                        0.3333333333333333,
                                                        "#9c179e"
                                                    ],
                                                    [
                                                        0.4444444444444444,
                                                        "#bd3786"
                                                    ],
                                                    [
                                                        0.5555555555555556,
                                                        "#d8576b"
                                                    ],
                                                    [
                                                        0.6666666666666666,
                                                        "#ed7953"
                                                    ],
                                                    [
                                                        0.7777777777777778,
                                                        "#fb9f3a"
                                                    ],
                                                    [
                                                        0.8888888888888888,
                                                        "#fdca26"
                                                    ],
                                                    [
                                                        1,
                                                        "#f0f921"
                                                    ]
                                                ],
                                                "type": "contour"
                                            }
                                        ],
                                        "contourcarpet": [
                                            {
                                                "colorbar": {
                                                    "outlinewidth": 0,
                                                    "ticks": ""
                                                },
                                                "type": "contourcarpet"
                                            }
                                        ],
                                        "heatmap": [
                                            {
                                                "colorbar": {
                                                    "outlinewidth": 0,
                                                    "ticks": ""
                                                },
                                                "colorscale": [
                                                    [
                                                        0,
                                                        "#0d0887"
                                                    ],
                                                    [
                                                        0.1111111111111111,
                                                        "#46039f"
                                                    ],
                                                    [
                                                        0.2222222222222222,
                                                        "#7201a8"
                                                    ],
                                                    [
                                                        0.3333333333333333,
                                                        "#9c179e"
                                                    ],
                                                    [
                                                        0.4444444444444444,
                                                        "#bd3786"
                                                    ],
                                                    [
                                                        0.5555555555555556,
                                                        "#d8576b"
                                                    ],
                                                    [
                                                        0.6666666666666666,
                                                        "#ed7953"
                                                    ],
                                                    [
                                                        0.7777777777777778,
                                                        "#fb9f3a"
                                                    ],
                                                    [
                                                        0.8888888888888888,
                                                        "#fdca26"
                                                    ],
                                                    [
                                                        1,
                                                        "#f0f921"
                                                    ]
                                                ],
                                                "type": "heatmap"
                                            }
                                        ],
                                        "histogram": [
                                            {
                                                "marker": {
                                                    "pattern": {
                                                        "fillmode": "overlay",
                                                        "size": 10,
                                                        "solidity": 0.2
                                                    }
                                                },
                                                "type": "histogram"
                                            }
                                        ],
                                        "histogram2d": [
                                            {
                                                "colorbar": {
                                                    "outlinewidth": 0,
                                                    "ticks": ""
                                                },
                                                "colorscale": [
                                                    [
                                                        0,
                                                        "#0d0887"
                                                    ],
                                                    [
                                                        0.1111111111111111,
                                                        "#46039f"
                                                    ],
                                                    [
                                                        0.2222222222222222,
                                                        "#7201a8"
                                                    ],
                                                    [
                                                        0.3333333333333333,
                                                        "#9c179e"
                                                    ],
                                                    [
                                                        0.4444444444444444,
                                                        "#bd3786"
                                                    ],
                                                    [
                                                        0.5555555555555556,
                                                        "#d8576b"
                                                    ],
                                                    [
                                                        0.6666666666666666,
                                                        "#ed7953"
                                                    ],
                                                    [
                                                        0.7777777777777778,
                                                        "#fb9f3a"
                                                    ],
                                                    [
                                                        0.8888888888888888,
                                                        "#fdca26"
                                                    ],
                                                    [
                                                        1,
                                                        "#f0f921"
                                                    ]
                                                ],
                                                "type": "histogram2d"
                                            }
                                        ],
                                        "histogram2dcontour": [
                                            {
                                                "colorbar": {
                                                    "outlinewidth": 0,
                                                    "ticks": ""
                                                },
                                                "colorscale": [
                                                    [
                                                        0,
                                                        "#0d0887"
                                                    ],
                                                    [
                                                        0.1111111111111111,
                                                        "#46039f"
                                                    ],
                                                    [
                                                        0.2222222222222222,
                                                        "#7201a8"
                                                    ],
                                                    [
                                                        0.3333333333333333,
                                                        "#9c179e"
                                                    ],
                                                    [
                                                        0.4444444444444444,
                                                        "#bd3786"
                                                    ],
                                                    [
                                                        0.5555555555555556,
                                                        "#d8576b"
                                                    ],
                                                    [
                                                        0.6666666666666666,
                                                        "#ed7953"
                                                    ],
                                                    [
                                                        0.7777777777777778,
                                                        "#fb9f3a"
                                                    ],
                                                    [
                                                        0.8888888888888888,
                                                        "#fdca26"
                                                    ],
                                                    [
                                                        1,
                                                        "#f0f921"
                                                    ]
                                                ],
                                                "type": "histogram2dcontour"
                                            }
                                        ],
                                        "mesh3d": [
                                            {
                                                "colorbar": {
                                                    "outlinewidth": 0,
                                                    "ticks": ""
                                                },
                                                "type": "mesh3d"
                                            }
                                        ],
                                        "parcoords": [
                                            {
                                                "line": {
                                                    "colorbar": {
                                                        "outlinewidth": 0,
                                                        "ticks": ""
                                                    }
                                                },
                                                "type": "parcoords"
                                            }
                                        ],
                                        "pie": [
                                            {
                                                "automargin": true,
                                                "type": "pie"
                                            }
                                        ],
                                        "scatter": [
                                            {
                                                "fillpattern": {
                                                    "fillmode": "overlay",
                                                    "size": 10,
                                                    "solidity": 0.2
                                                },
                                                "type": "scatter"
                                            }
                                        ],
                                        "scatter3d": [
                                            {
                                                "line": {
                                                    "colorbar": {
                                                        "outlinewidth": 0,
                                                        "ticks": ""
                                                    }
                                                },
                                                "marker": {
                                                    "colorbar": {
                                                        "outlinewidth": 0,
                                                        "ticks": ""
                                                    }
                                                },
                                                "type": "scatter3d"
                                            }
                                        ],
                                        "scattercarpet": [
                                            {
                                                "marker": {
                                                    "colorbar": {
                                                        "outlinewidth": 0,
                                                        "ticks": ""
                                                    }
                                                },
                                                "type": "scattercarpet"
                                            }
                                        ],
                                        "scattergeo": [
                                            {
                                                "marker": {
                                                    "colorbar": {
                                                        "outlinewidth": 0,
                                                        "ticks": ""
                                                    }
                                                },
                                                "type": "scattergeo"
                                            }
                                        ],
                                        "scattergl": [
                                            {
                                                "marker": {
                                                    "colorbar": {
                                                        "outlinewidth": 0,
                                                        "ticks": ""
                                                    }
                                                },
                                                "type": "scattergl"
                                            }
                                        ],
                                        "scattermap": [
                                            {
                                                "marker": {
                                                    "colorbar": {
                                                        "outlinewidth": 0,
                                                        "ticks": ""
                                                    }
                                                },
                                                "type": "scattermap"
                                            }
                                        ],
                                        "scattermapbox": [
                                            {
                                                "marker": {
                                                    "colorbar": {
                                                        "outlinewidth": 0,
                                                        "ticks": ""
                                                    }
                                                },
                                                "type": "scattermapbox"
                                            }
                                        ],
                                        "scatterpolar": [
                                            {
                                                "marker": {
                                                    "colorbar": {
                                                        "outlinewidth": 0,
                                                        "ticks": ""
                                                    }
                                                },
                                                "type": "scatterpolar"
                                            }
                                        ],
                                        "scatterpolargl": [
                                            {
                                                "marker": {
                                                    "colorbar": {
                                                        "outlinewidth": 0,
                                                        "ticks": ""
                                                    }
                                                },
                                                "type": "scatterpolargl"
                                            }
                                        ],
                                        "scatterternary": [
                                            {
                                                "marker": {
                                                    "colorbar": {
                                                        "outlinewidth": 0,
                                                        "ticks": ""
                                                    }
                                                },
                                                "type": "scatterternary"
                                            }
                                        ],
                                        "surface": [
                                            {
                                                "colorbar": {
                                                    "outlinewidth": 0,
                                                    "ticks": ""
                                                },
                                                "colorscale": [
                                                    [
                                                        0,
                                                        "#0d0887"
                                                    ],
                                                    [
                                                        0.1111111111111111,
                                                        "#46039f"
                                                    ],
                                                    [
                                                        0.2222222222222222,
                                                        "#7201a8"
                                                    ],
                                                    [
                                                        0.3333333333333333,
                                                        "#9c179e"
                                                    ],
                                                    [
                                                        0.4444444444444444,
                                                        "#bd3786"
                                                    ],
                                                    [
                                                        0.5555555555555556,
                                                        "#d8576b"
                                                    ],
                                                    [
                                                        0.6666666666666666,
                                                        "#ed7953"
                                                    ],
                                                    [
                                                        0.7777777777777778,
                                                        "#fb9f3a"
                                                    ],
                                                    [
                                                        0.8888888888888888,
                                                        "#fdca26"
                                                    ],
                                                    [
                                                        1,
                                                        "#f0f921"
                                                    ]
                                                ],
                                                "type": "surface"
                                            }
                                        ],
                                        "table": [
                                            {
                                                "cells": {
                                                    "fill": {
                                                        "color": "#EBF0F8"
                                                    },
                                                    "line": {
                                                        "color": "white"
                                                    }
                                                },
                                                "header": {
                                                    "fill": {
                                                        "color": "#C8D4E3"
                                                    },
                                                    "line": {
                                                        "color": "white"
                                                    }
                                                },
                                                "type": "table"
                                            }
                                        ]
                                    },
                                    "layout": {
                                        "annotationdefaults": {
                                            "arrowcolor": "#2a3f5f",
                                            "arrowhead": 0,
                                            "arrowwidth": 1
                                        },
                                        "autotypenumbers": "strict",
                                        "coloraxis": {
                                            "colorbar": {
                                                "outlinewidth": 0,
                                                "ticks": ""
                                            }
                                        },
                                        "colorscale": {
                                            "diverging": [
                                                [
                                                    0,
                                                    "#8e0152"
                                                ],
                                                [
                                                    0.1,
                                                    "#c51b7d"
                                                ],
                                                [
                                                    0.2,
                                                    "#de77ae"
                                                ],
                                                [
                                                    0.3,
                                                    "#f1b6da"
                                                ],
                                                [
                                                    0.4,
                                                    "#fde0ef"
                                                ],
                                                [
                                                    0.5,
                                                    "#f7f7f7"
                                                ],
                                                [
                                                    0.6,
                                                    "#e6f5d0"
                                                ],
                                                [
                                                    0.7,
                                                    "#b8e186"
                                                ],
                                                [
                                                    0.8,
                                                    "#7fbc41"
                                                ],
                                                [
                                                    0.9,
                                                    "#4d9221"
                                                ],
                                                [
                                                    1,
                                                    "#276419"
                                                ]
                                            ],
                                            "sequential": [
                                                [
                                                    0,
                                                    "#0d0887"
                                                ],
                                                [
                                                    0.1111111111111111,
                                                    "#46039f"
                                                ],
                                                [
                                                    0.2222222222222222,
                                                    "#7201a8"
                                                ],
                                                [
                                                    0.3333333333333333,
                                                    "#9c179e"
                                                ],
                                                [
                                                    0.4444444444444444,
                                                    "#bd3786"
                                                ],
                                                [
                                                    0.5555555555555556,
                                                    "#d8576b"
                                                ],
                                                [
                                                    0.6666666666666666,
                                                    "#ed7953"
                                                ],
                                                [
                                                    0.7777777777777778,
                                                    "#fb9f3a"
                                                ],
                                                [
                                                    0.8888888888888888,
                                                    "#fdca26"
                                                ],
                                                [
                                                    1,
                                                    "#f0f921"
                                                ]
                                            ],
                                            "sequentialminus": [
                                                [
                                                    0,
                                                    "#0d0887"
                                                ],
                                                [
                                                    0.1111111111111111,
                                                    "#46039f"
                                                ],
                                                [
                                                    0.2222222222222222,
                                                    "#7201a8"
                                                ],
                                                [
                                                    0.3333333333333333,
                                                    "#9c179e"
                                                ],
                                                [
                                                    0.4444444444444444,
                                                    "#bd3786"
                                                ],
                                                [
                                                    0.5555555555555556,
                                                    "#d8576b"
                                                ],
                                                [
                                                    0.6666666666666666,
                                                    "#ed7953"
                                                ],
                                                [
                                                    0.7777777777777778,
                                                    "#fb9f3a"
                                                ],
                                                [
                                                    0.8888888888888888,
                                                    "#fdca26"
                                                ],
                                                [
                                                    1,
                                                    "#f0f921"
                                                ]
                                            ]
                                        },
                                        "colorway": [
                                            "#636efa",
                                            "#EF553B",
                                            "#00cc96",
                                            "#ab63fa",
                                            "#FFA15A",
                                            "#19d3f3",
                                            "#FF6692",
                                            "#B6E880",
                                            "#FF97FF",
                                            "#FECB52"
                                        ],
                                        "font": {
                                            "color": "#2a3f5f"
                                        },
                                        "geo": {
                                            "bgcolor": "white",
                                            "lakecolor": "white",
                                            "landcolor": "#E5ECF6",
                                            "showlakes": true,
                                            "showland": true,
                                            "subunitcolor": "white"
                                        },
                                        "hoverlabel": {
                                            "align": "left"
                                        },
                                        "hovermode": "closest",
                                        "mapbox": {
                                            "style": "light"
                                        },
                                        "paper_bgcolor": "white",
                                        "plot_bgcolor": "#E5ECF6",
                                        "polar": {
                                            "angularaxis": {
                                                "gridcolor": "white",
                                                "linecolor": "white",
                                                "ticks": ""
                                            },
                                            "bgcolor": "#E5ECF6",
                                            "radialaxis": {
                                                "gridcolor": "white",
                                                "linecolor": "white",
                                                "ticks": ""
                                            }
                                        },
                                        "scene": {
                                            "xaxis": {
                                                "backgroundcolor": "#E5ECF6",
                                                "gridcolor": "white",
                                                "gridwidth": 2,
                                                "linecolor": "white",
                                                "showbackground": true,
                                                "ticks": "",
                                                "zerolinecolor": "white"
                                            },
                                            "yaxis": {
                                                "backgroundcolor": "#E5ECF6",
                                                "gridcolor": "white",
                                                "gridwidth": 2,
                                                "linecolor": "white",
                                                "showbackground": true,
                                                "ticks": "",
                                                "zerolinecolor": "white"
                                            },
                                            "zaxis": {
                                                "backgroundcolor": "#E5ECF6",
                                                "gridcolor": "white",
                                                "gridwidth": 2,
                                                "linecolor": "white",
                                                "showbackground": true,
                                                "ticks": "",
                                                "zerolinecolor": "white"
                                            }
                                        },
                                        "shapedefaults": {
                                            "line": {
                                                "color": "#2a3f5f"
                                            }
                                        },
                                        "ternary": {
                                            "aaxis": {
                                                "gridcolor": "white",
                                                "linecolor": "white",
                                                "ticks": ""
                                            },
                                            "baxis": {
                                                "gridcolor": "white",
                                                "linecolor": "white",
                                                "ticks": ""
                                            },
                                            "bgcolor": "#E5ECF6",
                                            "caxis": {
                                                "gridcolor": "white",
                                                "linecolor": "white",
                                                "ticks": ""
                                            }
                                        },
                                        "title": {
                                            "x": 0.05
                                        },
                                        "xaxis": {
                                            "automargin": true,
                                            "gridcolor": "white",
                                            "linecolor": "white",
                                            "ticks": "",
                                            "title": {
                                                "standoff": 15
                                            },
                                            "zerolinecolor": "white",
                                            "zerolinewidth": 2
                                        },
                                        "yaxis": {
                                            "automargin": true,
                                            "gridcolor": "white",
                                            "linecolor": "white",
                                            "ticks": "",
                                            "title": {
                                                "standoff": 15
                                            },
                                            "zerolinecolor": "white",
                                            "zerolinewidth": 2
                                        }
                                    }
                                },
                                "title": {
                                    "font": {
                                        "size": 16
                                    },
                                    "text": "Linear Regression SSE Surface",
                                    "x": 0.5
                                },
                                "width": 800
                            }
                        }
                    },
                    "metadata": {},
                    "output_type": "display_data"
                }
            ],
            "source": [
                "viz = LinearRegressionSSEVisualizer(\n",
                "    x_data=order_totals,\n",
                "    y_data=observed_tips,\n",
                "    true_bias=true_base_tip,\n",
                "    true_slope=true_tip_rate,\n",
                "    standardize=True,\n",
                ")\n",
                "\n",
                "fig = viz.create_3d_surface_plot(resolution=40)\n",
                "fig.show()"
            ]
        },
        {
            "cell_type": "markdown",
            "id": "1184e34c",
            "metadata": {},
            "source": [
                "## _Grid parameter search_\n",
                "(target-grid-search)=\n",
                "In de visualisatie is het coördinaat waar de $SSE$ het kleinst is in het groen aangeduid. Zeker in de geschaalde versie kan je zien dat de $SSE$ langs alle zijden van dit punt oploopt. Er is één absoluut minimum en geen _lokale minima_. Een oppervlak met dergelijke eigenschappen wordt een _convexe_ oppervlakte genoemd. Het minimum komt hier overeen met $b_1 = 0.615$ en $b_2 = 0.138$. Dit ligt in de buurt van onze simulatie parameters ($b_1 = 0.50$, $b_2 = 0.15$). De enige afwijking is te wijten aan onze keuze van _spacing_ in het _grid_. Deze _brute force_ **methode om aan de hand van een $N$-D _parameter grid_ het minimum van de _loss_ functie te zoeken** is op zich een leeralgoritme en wordt **grid search** genoemd.  \n",
                "### Voordeel\n",
                "Geen complexe wiskunde nodig.\n",
                "### Nadeel\n",
                "We weten normaal niet op voorhand in welke _range_ we moeten werken voor een bepaalde parameter. Zeker wanneer het aantal parameters stijgt, wordt het snel een onmogelijke opdracht om grid search toe te passen - ook vanuit computationeel perspectief. Je komt de techniek het vaakst tegen bij _hyper parameter tuning_ als het aantal hyper parameters en mogelijke hyper parameter waarden beperkt is."
            ]
        },
        {
            "cell_type": "markdown",
            "id": "da514baf",
            "metadata": {},
            "source": [
                "(target-r2)=\n",
                ":::{note} R² als maat voor _goodness of fit_\n",
                "\n",
                "Een veelgebruikte maat om te evalueren hoe goed een bepaalde oplossing van een lineair regressiemodel de data beschrijft, is de **R-squared of $R^2$** waarde (ook wel **determinatiecoëfficiënt** genoemd).\n",
                "\n",
                "**De $R^2$ waarde geeft aan welk percentage van de variantie in de target $\\pmb{y}$ verklaard wordt door het lineaire model**. De formule is:\n",
                "\n",
                "$$\n",
                "R^2 = 1 - \\frac{SS_{res}}{SS_{tot}}\n",
                "$$\n",
                "\n",
                "waarbij:\n",
                "- $SS_{res} = \\sum_{i=1}^n(y_i - \\hat{y}_i)^2$ de som van gekwadrateerde residuen is (onze $SSE$)\n",
                "- $SS_{tot} = \\sum_{i=1}^n(y_i - \\bar{y})^2$ de totale som van kwadraten is (dit komt overeen met de $SSE$ ten opzichte van een model waarbij $\\hat{b_1} = \\overline{\\pmb{y}} =  \\frac{\\sum_{i=1}^My_i}{M}$ en $\\hat{b_1}, \\hat{b_2}, \\ldots = 0$)\n",
                "\n",
                "### Interpretatie\n",
                "- $R^2 = 1$: Het model verklaart 100% van de variantie (perfecte fit)\n",
                "- $R^2 = 0$: Het model doet het niet beter dan simpelweg het gemiddelde te voorspellen\n",
                "- $0 < R^2 < 1$: Het model verklaart een deel van de variantie\n",
                "\n",
                "Een hoge $R^2$ waarde betekent niet automatisch dat het model goed is. Zo zal $R^2$ automatisch groeien als er meer features worden opgenomen in het model (zelfs irrelevante). Hoewel daar correcties voor bestaan[^adjusted], is het belangrijk om ook andere diagnostische hulpmiddelen te gebruiken, zoals residuele plots en het valideren op nieuwe data.\n",
                ":::\n",
                "\n",
                "[^adjusted]: Zogenoemde _adjusted_ $R^2$."
            ]
        }
    ],
    "metadata": {
        "kernelspec": {
            "display_name": "ml-courses",
            "language": "python",
            "name": "python3"
        },
        "language_info": {
            "codemirror_mode": {
                "name": "ipython",
                "version": 3
            },
            "file_extension": ".py",
            "mimetype": "text/x-python",
            "name": "python",
            "nbconvert_exporter": "python",
            "pygments_lexer": "ipython3",
            "version": "3.10.19"
        }
    },
    "nbformat": 4,
    "nbformat_minor": 5
}
