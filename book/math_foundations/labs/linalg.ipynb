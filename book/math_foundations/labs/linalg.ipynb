{
 "cells": [
  {
   "cell_type": "markdown",
   "id": "144406aa",
   "metadata": {},
   "source": [
    "# Lineare algebra"
   ]
  },
  {
   "cell_type": "code",
   "execution_count": 1,
   "id": "7fd1f68f",
   "metadata": {},
   "outputs": [],
   "source": [
    "import numpy as np"
   ]
  },
  {
   "cell_type": "markdown",
   "id": "0289942d",
   "metadata": {},
   "source": [
    "## Numerieke primitieven\n",
    "### Scalairen\n",
    "$$a = 5$$"
   ]
  },
  {
   "cell_type": "code",
   "execution_count": 2,
   "id": "1f917836",
   "metadata": {},
   "outputs": [
    {
     "name": "stdout",
     "output_type": "stream",
     "text": [
      "5\n",
      "int64\n",
      "()\n",
      "ndarray\n"
     ]
    }
   ],
   "source": [
    "a = np.array(5)\n",
    "print(a)\n",
    "print(a.dtype)\n",
    "print(a.shape)\n",
    "print(a.__class__.__name__)"
   ]
  },
  {
   "cell_type": "markdown",
   "id": "5bcd82b9",
   "metadata": {},
   "source": [
    "$$a = 3.0$$"
   ]
  },
  {
   "cell_type": "code",
   "execution_count": 3,
   "id": "fac6d770",
   "metadata": {},
   "outputs": [
    {
     "name": "stdout",
     "output_type": "stream",
     "text": [
      "3.0\n",
      "float64\n"
     ]
    }
   ],
   "source": [
    "a = np.array(3.0)\n",
    "print(a)\n",
    "print(a.dtype)"
   ]
  },
  {
   "cell_type": "markdown",
   "id": "cca3883f",
   "metadata": {},
   "source": [
    "### Vectoren\n",
    "\n",
    "$$\n",
    "\\pmb{a} = \\begin{bmatrix}\n",
    "5 \\cr\n",
    "8 \\cr\n",
    "12\n",
    "\\end{bmatrix}\n",
    "$$"
   ]
  },
  {
   "cell_type": "code",
   "execution_count": 4,
   "id": "d03e579a",
   "metadata": {},
   "outputs": [
    {
     "name": "stdout",
     "output_type": "stream",
     "text": [
      "[ 5  8 12]\n",
      "(3,)\n"
     ]
    }
   ],
   "source": [
    "a = np.array([5, 8, 12])\n",
    "print(a)\n",
    "print(a.shape)"
   ]
  },
  {
   "cell_type": "markdown",
   "id": "3f5850a5",
   "metadata": {},
   "source": [
    "Representatie als een kolom-vector (een matrix met 1 kolom):"
   ]
  },
  {
   "cell_type": "code",
   "execution_count": 5,
   "id": "c85e7161",
   "metadata": {},
   "outputs": [
    {
     "data": {
      "text/plain": [
       "array([[ 5],\n",
       "       [ 8],\n",
       "       [12]])"
      ]
     },
     "execution_count": 5,
     "metadata": {},
     "output_type": "execute_result"
    }
   ],
   "source": [
    "a.reshape(3, 1)"
   ]
  },
  {
   "cell_type": "markdown",
   "id": "d9263125",
   "metadata": {},
   "source": [
    "Representatie als een rij-vector (een matrix met 1 _rij_):\n",
    "\n",
    "$$\n",
    "\\pmb{a}^T = \\begin{bmatrix}\n",
    "5 & 8 & 12\n",
    "\\end{bmatrix}\n",
    "$$"
   ]
  },
  {
   "cell_type": "code",
   "execution_count": 6,
   "id": "b3768b70",
   "metadata": {},
   "outputs": [
    {
     "data": {
      "text/plain": [
       "array([[ 5,  8, 12]])"
      ]
     },
     "execution_count": 6,
     "metadata": {},
     "output_type": "execute_result"
    }
   ],
   "source": [
    "a.reshape(1, 3)"
   ]
  },
  {
   "cell_type": "markdown",
   "id": "1c01f2c8",
   "metadata": {},
   "source": [
    "Transpositie terug naar kolom-vector:"
   ]
  },
  {
   "cell_type": "code",
   "execution_count": 7,
   "id": "46dea143",
   "metadata": {},
   "outputs": [
    {
     "data": {
      "text/plain": [
       "array([[ 5],\n",
       "       [ 8],\n",
       "       [12]])"
      ]
     },
     "execution_count": 7,
     "metadata": {},
     "output_type": "execute_result"
    }
   ],
   "source": [
    "a.reshape(1, 3).T"
   ]
  },
  {
   "cell_type": "markdown",
   "id": "11c659b7",
   "metadata": {},
   "source": [
    "### Matrices\n",
    "\n",
    "$$\n",
    "\\pmb{B} = \\begin{bmatrix}\n",
    "1.0 & 2.0 & 3.0 \\cr\n",
    "7.0 & 1.0 & 2.0\n",
    "\\end{bmatrix}\n",
    "$$"
   ]
  },
  {
   "cell_type": "code",
   "execution_count": 8,
   "id": "8dd7785f",
   "metadata": {},
   "outputs": [
    {
     "name": "stdout",
     "output_type": "stream",
     "text": [
      "b: [[1. 2. 3.]\n",
      " [7. 1. 2.]]\n",
      "b shape: (2, 3)\n"
     ]
    }
   ],
   "source": [
    "b = np.array([[1.0, 2.0, 3.0], [7.0, 1.0, 2.0]])\n",
    "print(f\"b: {b}\")\n",
    "print(f\"b shape: {b.shape}\")"
   ]
  },
  {
   "cell_type": "markdown",
   "id": "d4884f2f",
   "metadata": {},
   "source": [
    "$$\n",
    "\\pmb{B}^T\n",
    "$$"
   ]
  },
  {
   "cell_type": "code",
   "execution_count": 9,
   "id": "daa45463",
   "metadata": {},
   "outputs": [
    {
     "name": "stdout",
     "output_type": "stream",
     "text": [
      "[[1. 7.]\n",
      " [2. 1.]\n",
      " [3. 2.]]\n"
     ]
    }
   ],
   "source": [
    "print(b.T)"
   ]
  },
  {
   "cell_type": "markdown",
   "id": "e8497f64",
   "metadata": {},
   "source": [
    "### Tensors\n",
    "\n",
    "$$\n",
    "\\pmb{C} = \\begin{bmatrix}\n",
    "\\begin{bmatrix}\n",
    "1.0 & 2.0 & 3.0 \\cr\n",
    "7.0 & 1.0 & 2.0\n",
    "\\end{bmatrix}, \\cr\n",
    "\\begin{bmatrix}\n",
    "5.0 & 1.0 & 3.0 \\cr\n",
    "2.0 & 9.0 & 6.0\n",
    "\\end{bmatrix}\n",
    "\\end{bmatrix}\n",
    "$$"
   ]
  },
  {
   "cell_type": "code",
   "execution_count": 10,
   "id": "123d8a58",
   "metadata": {},
   "outputs": [
    {
     "name": "stdout",
     "output_type": "stream",
     "text": [
      "c: [[[1. 2. 3.]\n",
      "  [7. 1. 2.]]\n",
      "\n",
      " [[5. 1. 3.]\n",
      "  [2. 9. 6.]]]\n",
      "c shape: (2, 2, 3)\n"
     ]
    }
   ],
   "source": [
    "c = np.array([[[1.0, 2.0, 3.0], [7.0, 1.0, 2.0]], [[5.0, 1.0, 3.0], [2.0, 9.0, 6.0]]])\n",
    "print(f\"c: {c}\")\n",
    "print(f\"c shape: {c.shape}\")"
   ]
  },
  {
   "cell_type": "code",
   "execution_count": 11,
   "id": "58cbd16b",
   "metadata": {},
   "outputs": [
    {
     "data": {
      "text/plain": [
       "array([[[1., 2.],\n",
       "        [3., 7.]],\n",
       "\n",
       "       [[1., 2.],\n",
       "        [5., 1.]],\n",
       "\n",
       "       [[3., 2.],\n",
       "        [9., 6.]]])"
      ]
     },
     "execution_count": 11,
     "metadata": {},
     "output_type": "execute_result"
    }
   ],
   "source": [
    "# Reshape the 3D array\n",
    "c.reshape(3, 2, 2)"
   ]
  },
  {
   "cell_type": "code",
   "execution_count": 12,
   "id": "846ed02b",
   "metadata": {},
   "outputs": [
    {
     "name": "stdout",
     "output_type": "stream",
     "text": [
      "[[[[0.22733602 0.31675834 0.79736546]\n",
      "   [0.67625467 0.39110955 0.33281393]]\n",
      "\n",
      "  [[0.59830875 0.18673419 0.67275604]\n",
      "   [0.94180287 0.24824571 0.94888115]]\n",
      "\n",
      "  [[0.66723745 0.09589794 0.44183967]\n",
      "   [0.88647992 0.6974535  0.32647286]]]\n",
      "\n",
      "\n",
      " [[[0.73392816 0.22013496 0.08159457]\n",
      "   [0.1598956  0.34010018 0.46519315]]\n",
      "\n",
      "  [[0.26642103 0.8157764  0.19329439]\n",
      "   [0.12946908 0.09166475 0.59856801]]\n",
      "\n",
      "  [[0.8547419  0.60162124 0.93198836]\n",
      "   [0.72478136 0.86055132 0.9293378 ]]]\n",
      "\n",
      "\n",
      " [[[0.54618601 0.93767296 0.49498794]\n",
      "   [0.27377318 0.45177871 0.66503892]]\n",
      "\n",
      "  [[0.33089093 0.90345401 0.25707418]\n",
      "   [0.33982834 0.2588534  0.35544648]]\n",
      "\n",
      "  [[0.00502233 0.62860454 0.28238271]\n",
      "   [0.06808769 0.61682898 0.17632632]]]\n",
      "\n",
      "\n",
      " [[[0.30438839 0.44088681 0.15020234]\n",
      "   [0.21792886 0.47433312 0.47636886]]\n",
      "\n",
      "  [[0.25523235 0.29756527 0.27906712]\n",
      "   [0.26057921 0.48276159 0.21197904]]\n",
      "\n",
      "  [[0.4956306  0.24626133 0.83848265]\n",
      "   [0.18013059 0.86215629 0.17829944]]]\n",
      "\n",
      "\n",
      " [[[0.75053133 0.6111204  0.20915503]\n",
      "   [0.75987242 0.24926057 0.08557173]]\n",
      "\n",
      "  [[0.61805672 0.53696833 0.63452671]\n",
      "   [0.17437411 0.24816449 0.68482298]]\n",
      "\n",
      "  [[0.08087165 0.8750736  0.42869438]\n",
      "   [0.6183942  0.3131055  0.17896286]]]]\n"
     ]
    }
   ],
   "source": [
    "# 4D tensor with random values\n",
    "rng = np.random.default_rng(12345)\n",
    "d = rng.random((5, 3, 2, 3))\n",
    "print(d)"
   ]
  },
  {
   "cell_type": "markdown",
   "id": "b7b5d61b",
   "metadata": {},
   "source": [
    "## Element-gewijse operaties  \n",
    "$$\n",
    "\\pmb{a} = \\begin{bmatrix}\n",
    "5 \\cr\n",
    "8 \\cr\n",
    "12\n",
    "\\end{bmatrix}\n",
    "$$\n",
    "$$\n",
    "\\pmb{a} + 5\n",
    "$$"
   ]
  },
  {
   "cell_type": "code",
   "execution_count": 13,
   "id": "089bb8eb",
   "metadata": {},
   "outputs": [
    {
     "name": "stdout",
     "output_type": "stream",
     "text": [
      "a: [ 5  8 12]\n",
      "a+5: [10 13 17]\n"
     ]
    }
   ],
   "source": [
    "print(f\"a: {a}\")\n",
    "print(f\"a+5: {a + 5}\")"
   ]
  },
  {
   "cell_type": "markdown",
   "id": "812e9bec",
   "metadata": {},
   "source": [
    "$$\n",
    "\\pmb{a} \\times 5\n",
    "$$"
   ]
  },
  {
   "cell_type": "code",
   "execution_count": 14,
   "id": "b7e972c1",
   "metadata": {},
   "outputs": [
    {
     "name": "stdout",
     "output_type": "stream",
     "text": [
      "a x 5: [25 40 60]\n"
     ]
    }
   ],
   "source": [
    "print(f\"a x 5: {a * 5}\")"
   ]
  },
  {
   "cell_type": "markdown",
   "id": "5b1a2313",
   "metadata": {},
   "source": [
    "$$\n",
    "\\pmb{b} = \\begin{bmatrix}\n",
    "1 \\cr\n",
    "2 \\cr\n",
    "3\n",
    "\\end{bmatrix}\n",
    "$$\n",
    "\n",
    "$$\n",
    "\\pmb{a} + \\pmb{b}\n",
    "$$"
   ]
  },
  {
   "cell_type": "code",
   "execution_count": 15,
   "id": "7a97d1b3",
   "metadata": {},
   "outputs": [
    {
     "name": "stdout",
     "output_type": "stream",
     "text": [
      "a + b: [ 6 10 15]\n"
     ]
    }
   ],
   "source": [
    "b = np.array([1, 2, 3])\n",
    "print(f\"a + b: {a + b}\")"
   ]
  },
  {
   "cell_type": "markdown",
   "id": "e5ddb10b",
   "metadata": {},
   "source": [
    "Let op voor dimensies!"
   ]
  },
  {
   "cell_type": "code",
   "execution_count": 16,
   "id": "ad3071ec",
   "metadata": {},
   "outputs": [
    {
     "ename": "ValueError",
     "evalue": "operands could not be broadcast together with shapes (3,) (4,) ",
     "output_type": "error",
     "traceback": [
      "\u001b[0;31m---------------------------------------------------------------------------\u001b[0m",
      "\u001b[0;31mValueError\u001b[0m                                Traceback (most recent call last)",
      "Cell \u001b[0;32mIn[16], line 2\u001b[0m\n\u001b[1;32m      1\u001b[0m b \u001b[38;5;241m=\u001b[39m np\u001b[38;5;241m.\u001b[39marray([\u001b[38;5;241m1\u001b[39m, \u001b[38;5;241m2\u001b[39m, \u001b[38;5;241m3\u001b[39m, \u001b[38;5;241m4\u001b[39m])\n\u001b[0;32m----> 2\u001b[0m \u001b[38;5;28mprint\u001b[39m(\u001b[38;5;124mf\u001b[39m\u001b[38;5;124m\"\u001b[39m\u001b[38;5;124ma + b: \u001b[39m\u001b[38;5;132;01m{\u001b[39;00m\u001b[43ma\u001b[49m\u001b[38;5;250;43m \u001b[39;49m\u001b[38;5;241;43m+\u001b[39;49m\u001b[38;5;250;43m \u001b[39;49m\u001b[43mb\u001b[49m\u001b[38;5;132;01m}\u001b[39;00m\u001b[38;5;124m\"\u001b[39m)\n",
      "\u001b[0;31mValueError\u001b[0m: operands could not be broadcast together with shapes (3,) (4,) "
     ]
    }
   ],
   "source": [
    "b = np.array([1, 2, 3, 4])\n",
    "print(f\"a + b: {a + b}\")"
   ]
  },
  {
   "cell_type": "markdown",
   "id": "8bf7761e",
   "metadata": {},
   "source": [
    "$$\n",
    "\\pmb{a} \\odot \\pmb{b}\n",
    "$$"
   ]
  },
  {
   "cell_type": "code",
   "execution_count": 17,
   "id": "f4fecb88",
   "metadata": {},
   "outputs": [
    {
     "name": "stdout",
     "output_type": "stream",
     "text": [
      "a * b: [ 5 16 36]\n"
     ]
    }
   ],
   "source": [
    "b = np.array([1, 2, 3])\n",
    "print(f\"a * b: {a * b}\")"
   ]
  },
  {
   "cell_type": "markdown",
   "id": "b641ae62",
   "metadata": {},
   "source": [
    "$$\n",
    "\\pmb{A} = \\begin{bmatrix}\n",
    "1 & 2 \\cr\n",
    "3 & 4 \\cr\n",
    "5 & 6\n",
    "\\end{bmatrix}\n",
    "$$\n",
    "\n",
    "$$\n",
    "\\pmb{A}+5\n",
    "$$"
   ]
  },
  {
   "cell_type": "code",
   "execution_count": 18,
   "id": "31b562a2",
   "metadata": {},
   "outputs": [
    {
     "name": "stdout",
     "output_type": "stream",
     "text": [
      "A: [[1 2]\n",
      " [3 4]\n",
      " [5 6]]\n",
      "A + 5: [[ 6  7]\n",
      " [ 8  9]\n",
      " [10 11]]\n"
     ]
    }
   ],
   "source": [
    "A = np.array([[1, 2], [3, 4], [5, 6]])\n",
    "print(f\"A: {A}\")\n",
    "print(f\"A + 5: {A + 5}\")"
   ]
  },
  {
   "cell_type": "markdown",
   "id": "b81db84c",
   "metadata": {},
   "source": [
    "$$\n",
    "\\pmb{A} \\times 5\n",
    "$$"
   ]
  },
  {
   "cell_type": "code",
   "execution_count": 19,
   "id": "547ab5d0",
   "metadata": {},
   "outputs": [
    {
     "name": "stdout",
     "output_type": "stream",
     "text": [
      "A x 5: [[ 5 10]\n",
      " [15 20]\n",
      " [25 30]]\n"
     ]
    }
   ],
   "source": [
    "print(f\"A x 5: {A * 5}\")"
   ]
  },
  {
   "cell_type": "markdown",
   "id": "6148e3b0",
   "metadata": {},
   "source": [
    "$$\n",
    "\\pmb{B} = \\begin{bmatrix}\n",
    "5 & 3 \\cr\n",
    "3 & 1 \\cr\n",
    "9 & 0\n",
    "\\end{bmatrix}\n",
    "$$\n",
    "\n",
    "$$\n",
    "\\pmb{A}+\\pmb{B}\n",
    "$$"
   ]
  },
  {
   "cell_type": "code",
   "execution_count": 20,
   "id": "1099148f",
   "metadata": {},
   "outputs": [
    {
     "name": "stdout",
     "output_type": "stream",
     "text": [
      "A: [[1 2]\n",
      " [3 4]\n",
      " [5 6]]\n",
      "B: [[5 3]\n",
      " [3 1]\n",
      " [9 0]]\n",
      "A + B: [[ 6  5]\n",
      " [ 6  5]\n",
      " [14  6]]\n"
     ]
    }
   ],
   "source": [
    "B = np.array([[5, 3], [3, 1], [9, 0]])\n",
    "print(f\"A: {A}\")\n",
    "print(f\"B: {B}\")\n",
    "print(f\"A + B: {A + B}\")"
   ]
  },
  {
   "cell_type": "markdown",
   "id": "395010dc",
   "metadata": {},
   "source": [
    "$$\n",
    "\\pmb{A} \\odot \\pmb{B}\n",
    "$$"
   ]
  },
  {
   "cell_type": "code",
   "execution_count": 21,
   "id": "d7043fd9",
   "metadata": {},
   "outputs": [
    {
     "name": "stdout",
     "output_type": "stream",
     "text": [
      "A * B: [[ 5  6]\n",
      " [ 9  4]\n",
      " [45  0]]\n"
     ]
    }
   ],
   "source": [
    "print(f\"A * B: {A * B}\")"
   ]
  },
  {
   "cell_type": "markdown",
   "id": "f85e2c7d",
   "metadata": {},
   "source": [
    "$$\n",
    "\\pmb{A}^T + \\pmb{b}\n",
    "$$"
   ]
  },
  {
   "cell_type": "code",
   "execution_count": 22,
   "id": "f6667cf0",
   "metadata": {},
   "outputs": [
    {
     "name": "stdout",
     "output_type": "stream",
     "text": [
      "A: [[1 2]\n",
      " [3 4]\n",
      " [5 6]]\n",
      "b: [1 2 3]\n"
     ]
    }
   ],
   "source": [
    "print(f\"A: {A}\")\n",
    "print(f\"b: {b}\")"
   ]
  },
  {
   "cell_type": "code",
   "execution_count": 23,
   "id": "37668c35",
   "metadata": {},
   "outputs": [
    {
     "ename": "ValueError",
     "evalue": "operands could not be broadcast together with shapes (3,2) (3,) ",
     "output_type": "error",
     "traceback": [
      "\u001b[0;31m---------------------------------------------------------------------------\u001b[0m",
      "\u001b[0;31mValueError\u001b[0m                                Traceback (most recent call last)",
      "Cell \u001b[0;32mIn[23], line 1\u001b[0m\n\u001b[0;32m----> 1\u001b[0m \u001b[38;5;28mprint\u001b[39m(\u001b[43mA\u001b[49m\u001b[43m \u001b[49m\u001b[38;5;241;43m+\u001b[39;49m\u001b[43m \u001b[49m\u001b[43mb\u001b[49m)\n",
      "\u001b[0;31mValueError\u001b[0m: operands could not be broadcast together with shapes (3,2) (3,) "
     ]
    }
   ],
   "source": [
    "print(A + b)"
   ]
  },
  {
   "cell_type": "code",
   "execution_count": 24,
   "id": "a758c9f1",
   "metadata": {},
   "outputs": [
    {
     "name": "stdout",
     "output_type": "stream",
     "text": [
      "[[2 5 8]\n",
      " [3 6 9]]\n"
     ]
    }
   ],
   "source": [
    "print(A.T + b)"
   ]
  },
  {
   "cell_type": "markdown",
   "id": "be1c74cf",
   "metadata": {},
   "source": [
    "$$\n",
    "\\pmb{A}^T \\odot \\pmb{b}\n",
    "$$"
   ]
  },
  {
   "cell_type": "code",
   "execution_count": 25,
   "id": "c1592ee2",
   "metadata": {},
   "outputs": [
    {
     "name": "stdout",
     "output_type": "stream",
     "text": [
      "[[ 1  6 15]\n",
      " [ 2  8 18]]\n"
     ]
    }
   ],
   "source": [
    "print(A.T * b)"
   ]
  },
  {
   "cell_type": "code",
   "execution_count": 26,
   "id": "7892f427",
   "metadata": {},
   "outputs": [
    {
     "name": "stdout",
     "output_type": "stream",
     "text": [
      "(d - g).shape: (5, 3, 2, 3)\n"
     ]
    }
   ],
   "source": [
    "# Subtract two 4D tensors\n",
    "d = rng.random((5, 3, 2, 3))\n",
    "g = rng.random((5, 3, 2, 3))\n",
    "print(f\"(d - g).shape: {(d - g).shape}\")"
   ]
  },
  {
   "cell_type": "code",
   "execution_count": 27,
   "id": "e722a0df",
   "metadata": {},
   "outputs": [],
   "source": [
    "h = g.reshape((3, 3, 2, 5))\n",
    "j = g.reshape((3, 3 * 2 * 5))"
   ]
  },
  {
   "cell_type": "code",
   "execution_count": 28,
   "id": "7395028d",
   "metadata": {},
   "outputs": [
    {
     "ename": "ValueError",
     "evalue": "operands could not be broadcast together with shapes (5,3,2,3) (3,3,2,5) ",
     "output_type": "error",
     "traceback": [
      "\u001b[0;31m---------------------------------------------------------------------------\u001b[0m",
      "\u001b[0;31mValueError\u001b[0m                                Traceback (most recent call last)",
      "Cell \u001b[0;32mIn[28], line 1\u001b[0m\n\u001b[0;32m----> 1\u001b[0m \u001b[38;5;28mprint\u001b[39m((\u001b[43md\u001b[49m\u001b[43m \u001b[49m\u001b[38;5;241;43m-\u001b[39;49m\u001b[43m \u001b[49m\u001b[43mh\u001b[49m)\u001b[38;5;241m.\u001b[39mshape)\n",
      "\u001b[0;31mValueError\u001b[0m: operands could not be broadcast together with shapes (5,3,2,3) (3,3,2,5) "
     ]
    }
   ],
   "source": [
    "print((d - h).shape)"
   ]
  },
  {
   "cell_type": "code",
   "execution_count": 29,
   "id": "ff6fa4b9",
   "metadata": {},
   "outputs": [
    {
     "ename": "ValueError",
     "evalue": "operands could not be broadcast together with shapes (5,3,2,3) (3,30) ",
     "output_type": "error",
     "traceback": [
      "\u001b[0;31m---------------------------------------------------------------------------\u001b[0m",
      "\u001b[0;31mValueError\u001b[0m                                Traceback (most recent call last)",
      "Cell \u001b[0;32mIn[29], line 1\u001b[0m\n\u001b[0;32m----> 1\u001b[0m \u001b[38;5;28mprint\u001b[39m((\u001b[43md\u001b[49m\u001b[43m \u001b[49m\u001b[38;5;241;43m-\u001b[39;49m\u001b[43m \u001b[49m\u001b[43mj\u001b[49m)\u001b[38;5;241m.\u001b[39mshape)\n",
      "\u001b[0;31mValueError\u001b[0m: operands could not be broadcast together with shapes (5,3,2,3) (3,30) "
     ]
    }
   ],
   "source": [
    "print((d - j).shape)"
   ]
  },
  {
   "cell_type": "markdown",
   "id": "bed4e479",
   "metadata": {},
   "source": [
    "## _Dot_ product\n",
    "\n",
    "$$\n",
    "\\begin{aligned}\n",
    "\\pmb{a} &= \\begin{bmatrix}7 & 3 & 2\\end{bmatrix}^T \\cr\n",
    "\\pmb{b} &= \\begin{bmatrix}2 & 8 & 1\\end{bmatrix}^T \\cr\n",
    "\\pmb{a}^T\\pmb{b} &= \\ldots\n",
    "\\end{aligned}\n",
    "$$"
   ]
  },
  {
   "cell_type": "code",
   "execution_count": 30,
   "id": "1f1ac936",
   "metadata": {},
   "outputs": [
    {
     "name": "stdout",
     "output_type": "stream",
     "text": [
      "a: [7 3 2]\n",
      "b: [2 8 1]\n",
      "a'b: 40\n"
     ]
    }
   ],
   "source": [
    "a = np.array([7, 3, 2])\n",
    "b = np.array([2, 8, 1])\n",
    "print(f\"a: {a}\")\n",
    "print(f\"b: {b}\")\n",
    "print(f\"a'b: {np.dot(a, b)}\")"
   ]
  },
  {
   "cell_type": "code",
   "execution_count": 31,
   "id": "fde15f79",
   "metadata": {},
   "outputs": [
    {
     "name": "stdout",
     "output_type": "stream",
     "text": [
      "a'b: 40\n"
     ]
    }
   ],
   "source": [
    "print(f\"a'b: {7 * 2 + 3 * 8 + 2 * 1}\")"
   ]
  },
  {
   "cell_type": "markdown",
   "id": "a4f3ff69",
   "metadata": {},
   "source": [
    "$$\n",
    "\\begin{aligned}\n",
    "\\pmb{a} &= \\begin{bmatrix}4.6 & 1.1 & 5.3 & 8.2 & 10.1\\end{bmatrix}^T \\cr\n",
    "\\pmb{b} &= \\begin{bmatrix}6.1 & 1.5 & 3.5 & 7.9 & 2.8\\end{bmatrix}^T \\cr\n",
    "\\pmb{a}^T\\pmb{b} &= \\ldots\n",
    "\\end{aligned}\n",
    "$$"
   ]
  },
  {
   "cell_type": "code",
   "execution_count": 32,
   "id": "0693e144",
   "metadata": {},
   "outputs": [
    {
     "name": "stdout",
     "output_type": "stream",
     "text": [
      "a: [ 4.6  1.1  5.3  8.2 10.1]\n",
      "b: [6.1 1.5 3.5 7.9 2.8]\n",
      "a'b: 141.32\n"
     ]
    }
   ],
   "source": [
    "a = np.array([4.6, 1.1, 5.3, 8.2, 10.1])\n",
    "b = np.array([6.1, 1.5, 3.5, 7.9, 2.8])\n",
    "print(f\"a: {a}\")\n",
    "print(f\"b: {b}\")\n",
    "print(f\"a'b: {np.dot(a, b)}\")"
   ]
  },
  {
   "cell_type": "markdown",
   "id": "150ebc7e",
   "metadata": {},
   "source": [
    "$$\n",
    "\\begin{aligned}\n",
    "\\pmb{a} &= \\begin{bmatrix}6 & 1 & 2 & 7\\end{bmatrix}^T \\cr\n",
    "\\pmb{b} &= \\begin{bmatrix}2 & 2 & 1\\end{bmatrix}^T \\cr\n",
    "\\pmb{a}^T\\pmb{b} &= \\ldots\n",
    "\\end{aligned}\n",
    "$$"
   ]
  },
  {
   "cell_type": "code",
   "execution_count": 33,
   "id": "468983ec",
   "metadata": {},
   "outputs": [
    {
     "name": "stdout",
     "output_type": "stream",
     "text": [
      "a: [6 1 2 7]\n",
      "b: [2 2 1]\n"
     ]
    },
    {
     "ename": "ValueError",
     "evalue": "shapes (4,) and (3,) not aligned: 4 (dim 0) != 3 (dim 0)",
     "output_type": "error",
     "traceback": [
      "\u001b[0;31m---------------------------------------------------------------------------\u001b[0m",
      "\u001b[0;31mValueError\u001b[0m                                Traceback (most recent call last)",
      "Cell \u001b[0;32mIn[33], line 5\u001b[0m\n\u001b[1;32m      3\u001b[0m \u001b[38;5;28mprint\u001b[39m(\u001b[38;5;124mf\u001b[39m\u001b[38;5;124m\"\u001b[39m\u001b[38;5;124ma: \u001b[39m\u001b[38;5;132;01m{\u001b[39;00ma\u001b[38;5;132;01m}\u001b[39;00m\u001b[38;5;124m\"\u001b[39m)\n\u001b[1;32m      4\u001b[0m \u001b[38;5;28mprint\u001b[39m(\u001b[38;5;124mf\u001b[39m\u001b[38;5;124m\"\u001b[39m\u001b[38;5;124mb: \u001b[39m\u001b[38;5;132;01m{\u001b[39;00mb\u001b[38;5;132;01m}\u001b[39;00m\u001b[38;5;124m\"\u001b[39m)\n\u001b[0;32m----> 5\u001b[0m \u001b[38;5;28mprint\u001b[39m(\u001b[38;5;124mf\u001b[39m\u001b[38;5;124m\"\u001b[39m\u001b[38;5;124ma\u001b[39m\u001b[38;5;124m'\u001b[39m\u001b[38;5;124mb: \u001b[39m\u001b[38;5;132;01m{\u001b[39;00m\u001b[43mnp\u001b[49m\u001b[38;5;241;43m.\u001b[39;49m\u001b[43mdot\u001b[49m\u001b[43m(\u001b[49m\u001b[43ma\u001b[49m\u001b[43m,\u001b[49m\u001b[38;5;250;43m \u001b[39;49m\u001b[43mb\u001b[49m\u001b[43m)\u001b[49m\u001b[38;5;132;01m}\u001b[39;00m\u001b[38;5;124m\"\u001b[39m)\n",
      "\u001b[0;31mValueError\u001b[0m: shapes (4,) and (3,) not aligned: 4 (dim 0) != 3 (dim 0)"
     ]
    }
   ],
   "source": [
    "a = np.array([6, 1, 2, 7])\n",
    "b = np.array([2, 2, 1])\n",
    "print(f\"a: {a}\")\n",
    "print(f\"b: {b}\")\n",
    "print(f\"a'b: {np.dot(a, b)}\")"
   ]
  },
  {
   "cell_type": "markdown",
   "id": "a4c901fe",
   "metadata": {},
   "source": [
    "$$\n",
    "\\begin{aligned}\n",
    "\\pmb{A} &=\n",
    "\\begin{bmatrix}\n",
    "3 & 3 & 2 & 7 \\cr\n",
    "1 & 4 & 7 & 5 \\cr\n",
    "9 & 2 & 8 & 3\n",
    "\\end{bmatrix} \\cr\n",
    "\\pmb{b} &= \\begin{bmatrix}4 & 2 & 8 & 1\\end{bmatrix}^T \\cr\n",
    "\\pmb{A}\\pmb{b} &= \\ldots\n",
    "\\end{aligned}\n",
    "$$"
   ]
  },
  {
   "cell_type": "code",
   "execution_count": 34,
   "id": "06df8dfc",
   "metadata": {},
   "outputs": [
    {
     "name": "stdout",
     "output_type": "stream",
     "text": [
      "A: [[3 3 2 7]\n",
      " [1 4 7 5]\n",
      " [9 2 8 3]]\n",
      "b: [4 2 8 1]\n",
      "Ab: [ 41  73 107]\n"
     ]
    }
   ],
   "source": [
    "A = np.array([[3, 3, 2, 7], [1, 4, 7, 5], [9, 2, 8, 3]])\n",
    "b = np.array([4, 2, 8, 1])\n",
    "print(f\"A: {A}\")\n",
    "print(f\"b: {b}\")\n",
    "print(f\"Ab: {np.dot(A, b)}\")"
   ]
  },
  {
   "cell_type": "code",
   "execution_count": 35,
   "id": "764d0d73",
   "metadata": {},
   "outputs": [
    {
     "ename": "ValueError",
     "evalue": "shapes (4,) and (3,4) not aligned: 4 (dim 0) != 3 (dim 0)",
     "output_type": "error",
     "traceback": [
      "\u001b[0;31m---------------------------------------------------------------------------\u001b[0m",
      "\u001b[0;31mValueError\u001b[0m                                Traceback (most recent call last)",
      "Cell \u001b[0;32mIn[35], line 2\u001b[0m\n\u001b[1;32m      1\u001b[0m \u001b[38;5;66;03m# Mind the order!\u001b[39;00m\n\u001b[0;32m----> 2\u001b[0m \u001b[38;5;28mprint\u001b[39m(\u001b[38;5;124mf\u001b[39m\u001b[38;5;124m\"\u001b[39m\u001b[38;5;124mbA: \u001b[39m\u001b[38;5;132;01m{\u001b[39;00m\u001b[43mnp\u001b[49m\u001b[38;5;241;43m.\u001b[39;49m\u001b[43mdot\u001b[49m\u001b[43m(\u001b[49m\u001b[43mb\u001b[49m\u001b[43m,\u001b[49m\u001b[38;5;250;43m \u001b[39;49m\u001b[43mA\u001b[49m\u001b[43m)\u001b[49m\u001b[38;5;132;01m}\u001b[39;00m\u001b[38;5;124m\"\u001b[39m)\n",
      "\u001b[0;31mValueError\u001b[0m: shapes (4,) and (3,4) not aligned: 4 (dim 0) != 3 (dim 0)"
     ]
    }
   ],
   "source": [
    "# Mind the order!\n",
    "print(f\"bA: {np.dot(b, A)}\")"
   ]
  },
  {
   "cell_type": "markdown",
   "id": "46f00f4a",
   "metadata": {},
   "source": [
    "$$\n",
    "\\begin{aligned}\n",
    "\\pmb{A} &=\n",
    "\\begin{bmatrix}\n",
    "6.1 & 3.7 \\cr\n",
    "1.0 & 4.3 \\cr\n",
    "5.1 & 3.3 \\cr\n",
    "3.9 & 3.7 \\cr\n",
    "7.9 & 8.2 \\cr\n",
    "\\end{bmatrix} \\cr\n",
    "\\pmb{b} &= \\begin{bmatrix}3.0 & 2.2\\end{bmatrix}^T \\cr\n",
    "\\pmb{A}\\pmb{b} &= \\ldots\n",
    "\\end{aligned}\n",
    "$$"
   ]
  },
  {
   "cell_type": "code",
   "execution_count": 36,
   "id": "16a856bd",
   "metadata": {},
   "outputs": [
    {
     "name": "stdout",
     "output_type": "stream",
     "text": [
      "A: [[6.1 3.7]\n",
      " [1.  4.3]\n",
      " [5.1 3.3]\n",
      " [3.9 3.7]\n",
      " [7.9 8.2]]\n",
      "b: [3.  2.2]\n",
      "Ab: [26.44 12.46 22.56 19.84 41.74]\n"
     ]
    }
   ],
   "source": [
    "A = np.array([[6.1, 3.7], [1.0, 4.3], [5.1, 3.3], [3.9, 3.7], [7.9, 8.2]])\n",
    "b = np.array([3.0, 2.2])\n",
    "print(f\"A: {A}\")\n",
    "print(f\"b: {b}\")\n",
    "print(f\"Ab: {np.dot(A, b)}\")"
   ]
  },
  {
   "cell_type": "markdown",
   "id": "7739b531",
   "metadata": {},
   "source": [
    "$$\n",
    "\\begin{aligned}\n",
    "\\pmb{A} &=\n",
    "\\begin{bmatrix}\n",
    "3 & 3 & 2 & 7 \\cr\n",
    "1 & 4 & 7 & 5 \\cr\n",
    "9 & 2 & 8 & 3\n",
    "\\end{bmatrix} \\cr\n",
    "\\pmb{B} &=\n",
    "\\begin{bmatrix}\n",
    "6 & 2 \\cr\n",
    "1 & 7 \\cr\n",
    "2 & 2 \\cr\n",
    "7 & 5\n",
    "\\end{bmatrix} \\cr\n",
    "\\pmb{A}\\pmb{B} &= \\ldots\n",
    "\\end{aligned}\n",
    "$$"
   ]
  },
  {
   "cell_type": "code",
   "execution_count": 37,
   "id": "03711eaf",
   "metadata": {},
   "outputs": [
    {
     "name": "stdout",
     "output_type": "stream",
     "text": [
      "A: [[3 3 2 7]\n",
      " [1 4 7 5]\n",
      " [9 2 8 3]]\n",
      "B: [[6 2]\n",
      " [1 7]\n",
      " [2 2]\n",
      " [7 5]]\n",
      "AB: [[74 66]\n",
      " [59 69]\n",
      " [93 63]]\n"
     ]
    }
   ],
   "source": [
    "A = np.array([[3, 3, 2, 7], [1, 4, 7, 5], [9, 2, 8, 3]])\n",
    "B = np.array(\n",
    "    [\n",
    "        [6, 2],\n",
    "        [1, 7],\n",
    "        [2, 2],\n",
    "        [7, 5],\n",
    "    ]\n",
    ")\n",
    "print(f\"A: {A}\")\n",
    "print(f\"B: {B}\")\n",
    "print(f\"AB: {np.dot(A, B)}\")"
   ]
  },
  {
   "cell_type": "code",
   "execution_count": 38,
   "id": "61b62306",
   "metadata": {},
   "outputs": [
    {
     "ename": "ValueError",
     "evalue": "shapes (4,2) and (3,4) not aligned: 2 (dim 1) != 3 (dim 0)",
     "output_type": "error",
     "traceback": [
      "\u001b[0;31m---------------------------------------------------------------------------\u001b[0m",
      "\u001b[0;31mValueError\u001b[0m                                Traceback (most recent call last)",
      "Cell \u001b[0;32mIn[38], line 2\u001b[0m\n\u001b[1;32m      1\u001b[0m \u001b[38;5;66;03m# Mind the order!\u001b[39;00m\n\u001b[0;32m----> 2\u001b[0m \u001b[38;5;28mprint\u001b[39m(\u001b[38;5;124mf\u001b[39m\u001b[38;5;124m\"\u001b[39m\u001b[38;5;124mBA: \u001b[39m\u001b[38;5;132;01m{\u001b[39;00m\u001b[43mnp\u001b[49m\u001b[38;5;241;43m.\u001b[39;49m\u001b[43mdot\u001b[49m\u001b[43m(\u001b[49m\u001b[43mB\u001b[49m\u001b[43m,\u001b[49m\u001b[38;5;250;43m \u001b[39;49m\u001b[43mA\u001b[49m\u001b[43m)\u001b[49m\u001b[38;5;132;01m}\u001b[39;00m\u001b[38;5;124m\"\u001b[39m)\n",
      "\u001b[0;31mValueError\u001b[0m: shapes (4,2) and (3,4) not aligned: 2 (dim 1) != 3 (dim 0)"
     ]
    }
   ],
   "source": [
    "# Mind the order!\n",
    "print(f\"BA: {np.dot(B, A)}\")"
   ]
  },
  {
   "cell_type": "markdown",
   "id": "2b6e37a3",
   "metadata": {},
   "source": [
    "Bereken het gemiddelde van de reeks $0$ tot en met $113$ aan de hand van een _dot_ product."
   ]
  },
  {
   "cell_type": "code",
   "execution_count": 39,
   "id": "0f7482ee",
   "metadata": {},
   "outputs": [
    {
     "name": "stdout",
     "output_type": "stream",
     "text": [
      "a: [0 1 2 3 4 5 6 7 8 9] ...\n",
      "w: [0.00877193 0.00877193 0.00877193 0.00877193 0.00877193 0.00877193\n",
      " 0.00877193 0.00877193 0.00877193 0.00877193] ...\n",
      "a'w: 56.5\n"
     ]
    }
   ],
   "source": [
    "n = 114\n",
    "a = np.arange(n)\n",
    "print(f\"a: {a[:10]} ...\")\n",
    "w = np.ones((n,))\n",
    "w /= n\n",
    "print(f\"w: {w[:10]} ...\")\n",
    "print(f\"a'w: {np.dot(a, w)}\")"
   ]
  },
  {
   "cell_type": "markdown",
   "id": "8bd652dd",
   "metadata": {},
   "source": [
    "$$\n",
    "\\begin{aligned}\n",
    "\\pmb{a} &= \\begin{bmatrix}5 & 3 & 2 & 9 & 2\\end{bmatrix}^T \\cr\n",
    "||\\pmb{a}||_2 &= \\ldots\n",
    "\\end{aligned} \n",
    "$$"
   ]
  },
  {
   "cell_type": "code",
   "execution_count": 40,
   "id": "37ff8ba9",
   "metadata": {},
   "outputs": [
    {
     "name": "stdout",
     "output_type": "stream",
     "text": [
      "||a||: 11.090536506409418\n"
     ]
    }
   ],
   "source": [
    "a = np.array([5, 3, 2, 9, 2])\n",
    "print(f\"||a||: {np.sqrt(np.dot(a, a))}\")"
   ]
  },
  {
   "cell_type": "code",
   "execution_count": 41,
   "id": "fe3cd56c",
   "metadata": {},
   "outputs": [
    {
     "name": "stdout",
     "output_type": "stream",
     "text": [
      "||a||: 11.090536506409418\n"
     ]
    }
   ],
   "source": [
    "# Built-in L2 norm function\n",
    "print(f\"||a||: {np.linalg.norm(a)}\")"
   ]
  },
  {
   "cell_type": "markdown",
   "id": "2a58f249",
   "metadata": {},
   "source": [
    "Hoe groot is de cosine similarity tussen:\n",
    "\n",
    "$$\n",
    "\\begin{aligned}\n",
    "\\pmb{a} &= \\begin{bmatrix}4.6 & 1.1 & 5.3 & 8.2 & 10.1\\end{bmatrix}^T \\cr\n",
    "\\pmb{b} &= \\begin{bmatrix}6.1 & 1.5 & 3.5 & 7.9 & 2.8\\end{bmatrix}^T \\cr\n",
    "\\end{aligned}\n",
    "$$"
   ]
  },
  {
   "cell_type": "code",
   "execution_count": 42,
   "id": "eeb23a00",
   "metadata": {},
   "outputs": [
    {
     "name": "stdout",
     "output_type": "stream",
     "text": [
      "cos(theta): 0.8633164353920106\n"
     ]
    }
   ],
   "source": [
    "a = np.array([4.6, 1.1, 5.3, 8.2, 10.1])\n",
    "b = np.array([6.1, 1.5, 3.5, 7.9, 2.8])\n",
    "a_norm = np.linalg.norm(a)\n",
    "b_norm = np.linalg.norm(b)\n",
    "print(f\"cos(theta): {np.dot(a, b) / (a_norm * b_norm)}\")"
   ]
  },
  {
   "cell_type": "markdown",
   "id": "0015c05b",
   "metadata": {},
   "source": [
    "## Speciale matrices\n",
    "\n",
    "Maak een diagonale matrix:\n",
    "\n",
    "$$\n",
    "diag(3.3, 6.0, 7.1, 5.4)\n",
    "$$"
   ]
  },
  {
   "cell_type": "code",
   "execution_count": 43,
   "id": "e5443957",
   "metadata": {},
   "outputs": [
    {
     "data": {
      "text/plain": [
       "array([[3.3, 0. , 0. , 0. ],\n",
       "       [0. , 6. , 0. , 0. ],\n",
       "       [0. , 0. , 7.1, 0. ],\n",
       "       [0. , 0. , 0. , 5.4]])"
      ]
     },
     "execution_count": 43,
     "metadata": {},
     "output_type": "execute_result"
    }
   ],
   "source": [
    "np.diag([3.3, 6.0, 7.1, 5.4])"
   ]
  },
  {
   "cell_type": "markdown",
   "id": "9c9e741a",
   "metadata": {},
   "source": [
    "Maak een idenditeitsmatrix:\n",
    "\n",
    "$$\n",
    "\\pmb{I}_{67}\n",
    "$$"
   ]
  },
  {
   "cell_type": "code",
   "execution_count": 44,
   "id": "d3bafe2c",
   "metadata": {},
   "outputs": [
    {
     "data": {
      "text/plain": [
       "array([[1., 0., 0., ..., 0., 0., 0.],\n",
       "       [0., 1., 0., ..., 0., 0., 0.],\n",
       "       [0., 0., 1., ..., 0., 0., 0.],\n",
       "       ...,\n",
       "       [0., 0., 0., ..., 1., 0., 0.],\n",
       "       [0., 0., 0., ..., 0., 1., 0.],\n",
       "       [0., 0., 0., ..., 0., 0., 1.]], shape=(67, 67))"
      ]
     },
     "execution_count": 44,
     "metadata": {},
     "output_type": "execute_result"
    }
   ],
   "source": [
    "np.identity(67)"
   ]
  },
  {
   "cell_type": "markdown",
   "id": "b589344a",
   "metadata": {},
   "source": [
    "Transformeer de volgende matrix in (a) een _upper triangular matrix_ en (b) een _lower triangular matrix_:\n",
    "\n",
    "$$\n",
    "\\begin{bmatrix}\n",
    "3 & 3 & 2 & 7 \\cr\n",
    "1 & 4 & 7 & 5 \\cr\n",
    "8 & 5 & 5 & 2 \\cr\n",
    "9 & 2 & 8 & 3\n",
    "\\end{bmatrix}\n",
    "$$"
   ]
  },
  {
   "cell_type": "code",
   "execution_count": 45,
   "id": "0ad3f6e9",
   "metadata": {},
   "outputs": [
    {
     "data": {
      "text/plain": [
       "array([[3, 3, 2, 7],\n",
       "       [0, 4, 7, 5],\n",
       "       [0, 0, 5, 2],\n",
       "       [0, 0, 0, 3]])"
      ]
     },
     "execution_count": 45,
     "metadata": {},
     "output_type": "execute_result"
    }
   ],
   "source": [
    "X = np.array([[3, 3, 2, 7], [1, 4, 7, 5], [8, 5, 5, 2], [9, 2, 8, 3]])\n",
    "\n",
    "np.triu(X)"
   ]
  },
  {
   "cell_type": "code",
   "execution_count": 46,
   "id": "bf9edacf",
   "metadata": {},
   "outputs": [
    {
     "data": {
      "text/plain": [
       "array([[3, 0, 0, 0],\n",
       "       [1, 4, 0, 0],\n",
       "       [8, 5, 5, 0],\n",
       "       [9, 2, 8, 3]])"
      ]
     },
     "execution_count": 46,
     "metadata": {},
     "output_type": "execute_result"
    }
   ],
   "source": [
    "np.tril(X)"
   ]
  },
  {
   "cell_type": "markdown",
   "id": "2c03cbc7",
   "metadata": {},
   "source": [
    "Ga na of deze matrix (a) een orthogonale matrix is en (b) een rotatiematrix is.\n",
    "$$\n",
    "\\pmb{A} =\n",
    "\\begin{bmatrix}\n",
    "0.70710678 & -0.70710678 & 0.0 & 0.0 \\cr\n",
    "0.70710678 & 0.70710678 & 0.0 & 0.0 \\cr\n",
    "0.0 & 0.0 & 1.0 & 0.0 \\cr\n",
    "0.0 & 0.0 & 0.0 & 1.0\n",
    "\\end{bmatrix}\n",
    "$$"
   ]
  },
  {
   "cell_type": "code",
   "execution_count": 47,
   "id": "e365ea0f",
   "metadata": {},
   "outputs": [
    {
     "name": "stdout",
     "output_type": "stream",
     "text": [
      "Orthogonality: True\n",
      "Rotation matrix: True\n"
     ]
    }
   ],
   "source": [
    "X = np.array(\n",
    "    [\n",
    "        [0.70710678, -0.70710678, 0.0, 0.0],\n",
    "        [0.70710678, 0.70710678, 0.0, 0.0],\n",
    "        [0.0, 0.0, 1.0, 0.0],\n",
    "        [0.0, 0.0, 0.0, 1.0],\n",
    "    ]\n",
    ")\n",
    "\n",
    "# a) Check orthogonality\n",
    "XTX = X.T @ X\n",
    "ortho = np.all(np.round(XTX) == np.identity(X.shape[0]))\n",
    "print(f\"Orthogonality: {ortho}\")\n",
    "\n",
    "# b) Check rotation matrix\n",
    "rot = np.linalg.det(X).round() == 1.0\n",
    "print(f\"Rotation matrix: {ortho and rot}\")"
   ]
  },
  {
   "cell_type": "markdown",
   "id": "1417d8ab",
   "metadata": {},
   "source": [
    "## Systeem van lineaire vergelijkingen\n",
    "\n",
    "Gegeven het volgende stelsel:\n",
    "\n",
    "$$\n",
    "\\begin{align}\n",
    "14 &= 2\\beta_1 + \\beta_2 + 3\\beta_3 \\cr\n",
    "18 &= \\beta_1 + 4\\beta_2 + 2\\beta_3 \\cr\n",
    "12 &= 3\\beta_1 + 2\\beta_2 + \\beta_3 \\cr\n",
    "\\end{align}\n",
    "$$\n",
    "\n",
    "wat is de oplossing voor $\\beta_1$, $\\beta_2$ en $\\beta_3$?\n",
    "\n",
    "\n",
    "1. Matrix notatie\n",
    "\n",
    "$$\\mathbf{y} = \\begin{bmatrix} 14 \\\\ 18 \\\\ 12 \\end{bmatrix}, \\quad \\mathbf{X} = \\begin{bmatrix} 2 & 1 & 3 \\\\ 1 & 4 & 2 \\\\ 3 & 2 & 1 \\end{bmatrix}, \\quad \\mathbf{b} = \\begin{bmatrix} x_1 \\\\ x_2 \\\\ x_3 \\end{bmatrix}$$"
   ]
  },
  {
   "cell_type": "code",
   "execution_count": 48,
   "id": "4a8bfd71",
   "metadata": {},
   "outputs": [],
   "source": [
    "y = np.array([14, 18, 12])\n",
    "X = np.array([[2, 1, 3], [1, 4, 2], [3, 2, 1]])"
   ]
  },
  {
   "cell_type": "markdown",
   "id": "cce8893e",
   "metadata": {},
   "source": [
    "2. Inverse van $\\pmb{X}$\n",
    "\n",
    "$$\n",
    "\\mathbf{X}^{-1} = \\frac{1}{det(\\pmb{X})}\n",
    "\\begin{bmatrix}\n",
    "(x_{22}x_{33} - x_{23}x_{32}) & -(x_{12}x_{33} - x_{13}x_{32}) & (x_{12}x_{23} - x_{13}x_{22}) \\cr\n",
    "-(x_{21}x_{33} - x_{23}x_{31}) & (x_{11}x_{33} - x_{13}x_{31}) & -(x_{11}x_{23} - x_{13}x_{21}) \\cr\n",
    "(x_{21}x_{32} - x_{22}x_{31}) & -(x_{11}x_{32} - x_{12}x_{31}) & (x_{11}x_{22} - x_{12}x_{21})\n",
    "\\end{bmatrix}\n",
    "$$\n",
    "\n",
    "\n",
    "$$\n",
    "\\begin{align}\n",
    "\\det(\\mathbf{X}) &= 2(4 \\cdot 1 - 2 \\cdot 2) - 1(1 \\cdot 1 - 2 \\cdot 3) + 3(1 \\cdot 2 - 4 \\cdot 3) \\cr\n",
    "&= 2(4 - 4) - 1(1 - 6) + 3(2 - 12) = 0 + 5 - 30 = -25\n",
    "\\end{align}\n",
    "$$\n",
    "  \n",
    "$$\n",
    "\\begin{align}\n",
    "\\mathbf{X}^{-1} &= \\frac{1}{-25} \\begin{bmatrix} 0 & 5 & -10 \\\\ 5 & -7 & -1 \\\\ -10 & -1 & 7 \\end{bmatrix} \\cr\n",
    "&= \\begin{bmatrix} 0 & -0.2 & 0.4 \\\\ -0.2 & 0.28 & 0.04 \\\\ 0.4 & 0.04 & -0.28 \\end{bmatrix}\n",
    "\\end{align}\n",
    "$$"
   ]
  },
  {
   "cell_type": "code",
   "execution_count": 49,
   "id": "7459ac0e",
   "metadata": {},
   "outputs": [
    {
     "name": "stdout",
     "output_type": "stream",
     "text": [
      "det(X) = -25.0\n",
      "X-1 = [[ 0.   -0.2   0.4 ]\n",
      " [-0.2   0.28  0.04]\n",
      " [ 0.4   0.04 -0.28]]\n"
     ]
    }
   ],
   "source": [
    "# Determinant of X\n",
    "det = np.linalg.det(X)\n",
    "print(f\"det(X) = {det.round()}\")\n",
    "\n",
    "# Inverse of X\n",
    "inv = np.linalg.inv(X)\n",
    "print(f\"X-1 = {inv}\")"
   ]
  },
  {
   "cell_type": "markdown",
   "id": "321605b1",
   "metadata": {},
   "source": [
    "3. Oplossing\n",
    "\n",
    "$$\n",
    "\\pmb{b} = \\pmb{X}^{-1}\\pmb{y}\n",
    "$$"
   ]
  },
  {
   "cell_type": "code",
   "execution_count": 50,
   "id": "448d1e41",
   "metadata": {},
   "outputs": [
    {
     "name": "stdout",
     "output_type": "stream",
     "text": [
      "b: [1.2  2.72 2.96]\n",
      "y: [14 18 12]\n",
      "Xb: [14. 18. 12.]\n"
     ]
    }
   ],
   "source": [
    "b = np.dot(inv, y)\n",
    "print(f\"b: {b}\")\n",
    "\n",
    "# Verification\n",
    "print(f\"y: {y}\")\n",
    "print(f\"Xb: {np.dot(X, b)}\")"
   ]
  }
 ],
 "metadata": {
  "kernelspec": {
   "display_name": "ml-courses",
   "language": "python",
   "name": "python3"
  },
  "language_info": {
   "codemirror_mode": {
    "name": "ipython",
    "version": 3
   },
   "file_extension": ".py",
   "mimetype": "text/x-python",
   "name": "python",
   "nbconvert_exporter": "python",
   "pygments_lexer": "ipython3",
   "version": "3.10.19"
  }
 },
 "nbformat": 4,
 "nbformat_minor": 5
}
