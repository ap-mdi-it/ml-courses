{
 "cells": [
  {
   "cell_type": "markdown",
   "id": "5e883457",
   "metadata": {},
   "source": [
    "# Feedforward neuraal netwerk met _back propagation_\n",
    "\n",
    "## Leerdoelen\n",
    "- Feedforward neural network implementeren met PyTorch\n",
    "- PyTorch nn.Module gebruiken voor model definitie\n",
    "- ReLU activatie en Softmax output voor multi-class classificatie\n",
    "- Cross-entropy loss gebruiken met PyTorch\n",
    "- Model trainen met PyTorch optimizer (SGD)\n",
    "- Model performance evalueren op 3-class classificatie\n",
    "- PyTorch's ingebouwde tools gebruiken voor visualisatie en debugging"
   ]
  },
  {
   "cell_type": "code",
   "execution_count": null,
   "id": "c34ae8a5",
   "metadata": {},
   "outputs": [],
   "source": [
    "from sklearn.datasets import load_iris"
   ]
  },
  {
   "cell_type": "markdown",
   "id": "300d686b",
   "metadata": {},
   "source": [
    "## 1. Data Loading en Exploratie\n",
    "\n",
    "## ✍️\n",
    "\n",
    "We gebruiken de volledige Iris dataset met **alle 3 klassen**:\n",
    "- **Setosa** (klasse 0)\n",
    "- **Versicolor** (klasse 1)\n",
    "- **Virginica** (klasse 2)"
   ]
  },
  {
   "cell_type": "code",
   "execution_count": null,
   "id": "c1b2f0be",
   "metadata": {},
   "outputs": [],
   "source": [
    "# Load the complete Iris dataset\n",
    "iris = load_iris()"
   ]
  },
  {
   "cell_type": "markdown",
   "id": "388c716d",
   "metadata": {},
   "source": [
    "## 2. Data Voorbereiding\n",
    "\n",
    "## ✍️\n",
    "\n",
    "We bereiden de data voor door:\n",
    "1. **Train/test split** (80/20)\n",
    "2. **Feature standardization** (mean=0, std=1)\n",
    "3. **One-hot encoding** van de target labels voor multi-class classificatie"
   ]
  },
  {
   "cell_type": "code",
   "execution_count": null,
   "id": "8eab3a51",
   "metadata": {},
   "outputs": [],
   "source": []
  },
  {
   "cell_type": "markdown",
   "id": "47462b09",
   "metadata": {},
   "source": [
    "## 3. Neural Network Architectuur met PyTorch\n",
    "\n",
    "## ✍️\n",
    "\n",
    "We bouwen een feedforward neural network met PyTorch's `nn.Module`:\n",
    "\n",
    "**Input Layer → Hidden Layer → Output Layer**\n",
    "\n",
    "- **Input**: 4 features (sepal length, sepal width, petal length, petal width)\n",
    "- **Hidden Layer**: 8 neurons met ReLU activatie\n",
    "- **Output Layer**: 3 neurons (voor 3 klassen)\n",
    "\n",
    "### Loss Functie\n",
    "\n",
    "**CrossEntropyLoss** in PyTorch (incl. _Softmax_):\n",
    "$$\n",
    "\\mathcal{L}_{CE} = -\\frac{1}{n} \\sum_{i=1}^{n} \\log\\left(\\frac{e^{z_{y_i}}}{\\sum_{j=1}^{K} e^{z_j}}\\right)\n",
    "$$"
   ]
  },
  {
   "cell_type": "code",
   "execution_count": null,
   "id": "cf0aa5ac",
   "metadata": {},
   "outputs": [],
   "source": []
  },
  {
   "cell_type": "markdown",
   "id": "6e931004",
   "metadata": {},
   "source": [
    "## 4. Loss Functie en Optimizer\n",
    "\n",
    "## ✍️\n",
    "\n",
    "PyTorch maakt training veel eenvoudiger:\n",
    "- **Loss functie**: `nn.CrossEntropyLoss()` combineert Softmax + Cross-Entropy\n",
    "- **Optimizer**: `optim.SGD()` implementeert gradient descent met momentum optie\n",
    "- **Backpropagation**: Gebeurt automatisch met `loss.backward()`"
   ]
  },
  {
   "cell_type": "code",
   "execution_count": null,
   "id": "fb533106",
   "metadata": {},
   "outputs": [],
   "source": []
  },
  {
   "cell_type": "markdown",
   "id": "f4eb88d7",
   "metadata": {},
   "source": [
    "## 5. Training het Neural Network met PyTorch\n",
    "\n",
    "## ✍️\n",
    "\n",
    "De training loop is veel eenvoudiger met PyTorch:\n",
    "1. **Forward pass**: `outputs = model(inputs)`\n",
    "2. **Compute loss**: `loss = criterion(outputs, targets)`\n",
    "3. **Backward pass**: `loss.backward()` (automatische backpropagation!)\n",
    "4. **Update weights**: `optimizer.step()`"
   ]
  },
  {
   "cell_type": "code",
   "execution_count": null,
   "id": "bc538a48",
   "metadata": {},
   "outputs": [],
   "source": []
  },
  {
   "cell_type": "markdown",
   "id": "2bd8d305",
   "metadata": {},
   "source": [
    "## 6. Visualisatie van Training Proces\n",
    "\n",
    "## ✍️\n",
    "\n",
    "We visualiseren hoe de loss en accuracy evolueren tijdens training."
   ]
  },
  {
   "cell_type": "code",
   "execution_count": null,
   "id": "7d4a27c5",
   "metadata": {},
   "outputs": [],
   "source": []
  },
  {
   "cell_type": "markdown",
   "id": "4a2bd0b3",
   "metadata": {},
   "source": [
    "## 7. Model Evaluatie\n",
    "\n",
    "## 🎯\n",
    "\n",
    "Laten we de voorspellingen analyseren en een confusion matrix maken om te zien hoe goed het model elke klasse herkent."
   ]
  },
  {
   "cell_type": "code",
   "execution_count": null,
   "id": "e2db2938",
   "metadata": {},
   "outputs": [],
   "source": []
  },
  {
   "cell_type": "markdown",
   "id": "d175ea8b",
   "metadata": {},
   "source": [
    "## 8. Decision Boundaries Visualisatie\n",
    "\n",
    "## 🎯\n",
    "\n",
    "We visualiseren de decision boundaries van het neural network in 2D (gebruikmakend van de twee belangrijkste features)."
   ]
  },
  {
   "cell_type": "code",
   "execution_count": null,
   "id": "f2d36003",
   "metadata": {},
   "outputs": [],
   "source": []
  },
  {
   "cell_type": "markdown",
   "id": "89b044f9",
   "metadata": {},
   "source": [
    "## 9. Model Inspectie met PyTorch\n",
    "\n",
    "## 🎯\n",
    "\n",
    "PyTorch biedt handige tools om het model te inspecteren."
   ]
  },
  {
   "cell_type": "code",
   "execution_count": null,
   "id": "7a4014bf",
   "metadata": {},
   "outputs": [],
   "source": []
  }
 ],
 "metadata": {
  "kernelspec": {
   "display_name": "ml-courses",
   "language": "python",
   "name": "python3"
  },
  "language_info": {
   "codemirror_mode": {
    "name": "ipython",
    "version": 3
   },
   "file_extension": ".py",
   "mimetype": "text/x-python",
   "name": "python",
   "nbconvert_exporter": "python",
   "pygments_lexer": "ipython3",
   "version": "3.10.19"
  }
 },
 "nbformat": 4,
 "nbformat_minor": 5
}
