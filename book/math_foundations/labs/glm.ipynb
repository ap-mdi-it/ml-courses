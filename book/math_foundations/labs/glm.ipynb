{
 "cells": [
  {
   "cell_type": "markdown",
   "id": "9ec38e0d",
   "metadata": {},
   "source": [
    "# Logistische regressie met _gradient descent_\n",
    "\n",
    "In deze lab-sessie passen we logistische regressie met gradient descent toe op de **Iris dataset**. We bouwen een binaire classifier die onderscheid maakt tussen twee soorten irissen op basis van hun bloemeigenschappen.\n",
    "\n",
    "## Leerdoelen\n",
    "- Logistische regressie implementeren met gradient descent\n",
    "- Binary cross-entropy loss berekenen en minimaliseren\n",
    "\n",
    "## Extras\n",
    "- Model performance evalueren\n",
    "- Decision boundaries visualiseren"
   ]
  },
  {
   "cell_type": "code",
   "execution_count": 55,
   "id": "bfa6ae13",
   "metadata": {},
   "outputs": [],
   "source": [
    "from sklearn.datasets import load_iris\n"
   ]
  },
  {
   "cell_type": "markdown",
   "id": "7e43c42b",
   "metadata": {},
   "source": [
    "## 1. Data Loading en Exploratie\n",
    "\n",
    "## ✍️\n",
    "\n",
    "De Iris dataset bevat metingen van 150 iris bloemen van 3 verschillende soorten:\n",
    "- **Setosa**\n",
    "- **Versicolor** \n",
    "- **Virginica**\n",
    "\n",
    "Voor elk bloem zijn er 4 features gemeten (in cm):\n",
    "- Sepal length (kelkblad lengte)\n",
    "- Sepal width (kelkblad breedte)\n",
    "- Petal length (bloemblad lengte)\n",
    "- Petal width (bloemblad breedte)\n",
    "\n",
    "⚠️ Voor deze oefening maken we een **binaire classificatie**: we onderscheiden alleen tussen **Versicolor** (klasse 0) en **Virginica** (klasse 1)."
   ]
  },
  {
   "cell_type": "code",
   "execution_count": 56,
   "id": "29d2184b",
   "metadata": {},
   "outputs": [],
   "source": [
    "# Load the Iris dataset\n",
    "iris = load_iris()"
   ]
  },
  {
   "cell_type": "markdown",
   "id": "e0f49f97",
   "metadata": {},
   "source": [
    "## 2. Data Voorbereiding\n",
    "\n",
    "## ✍️\n",
    "\n",
    "We splitsen de data in:\n",
    "- **Training set** (80%): gebruikt om het model te trainen\n",
    "- **Test set** (20%): gebruikt om het model te evalueren\n",
    "\n",
    "We gebruiken **feature scaling** (standaardisatie) om ervoor te zorgen dat alle features dezelfde schaal hebben. Dit helpt gradient descent sneller convergeren."
   ]
  },
  {
   "cell_type": "code",
   "execution_count": null,
   "id": "56361899",
   "metadata": {},
   "outputs": [],
   "source": []
  },
  {
   "cell_type": "markdown",
   "id": "dcbf46e9",
   "metadata": {},
   "source": [
    "## 3. Logistische Regressie Implementatie\n",
    "\n",
    "## ✍️\n",
    "\n",
    "We implementeren logistische regressie met gradient descent zoals gezien in de cursus:\n",
    "\n",
    "### Model\n",
    "$$\n",
    "\\pmb{\\hat{y}} = \\sigma(\\pmb{X}\\pmb{b}) = \\frac{1}{1 + e^{-\\pmb{X}\\pmb{b}}}\n",
    "$$\n",
    "\n",
    "### Binary Cross-Entropy Loss\n",
    "$$\n",
    "\\mathcal{L}_{BCE}(\\pmb{b}) = -\\frac{1}{n} \\sum_{i=1}^{n} \\left[ y_i \\log(\\hat{y}_i) + (1 - y_i) \\log(1 - \\hat{y}_i) \\right]\n",
    "$$\n",
    "\n",
    "### Gradiënt\n",
    "$$\n",
    "\\nabla \\mathcal{L}_{BCE} = \\frac{1}{n} \\pmb{X}^T(\\pmb{\\hat{y}} - \\pmb{y})\n",
    "$$\n",
    "\n",
    "### Gradient Descent Update\n",
    "$$\n",
    "\\pmb{b}^{k+1} = \\pmb{b}^k - \\lambda \\nabla \\mathcal{L}_{BCE}(\\pmb{b}^k)\n",
    "$$"
   ]
  },
  {
   "cell_type": "code",
   "execution_count": null,
   "id": "582ace19",
   "metadata": {},
   "outputs": [],
   "source": []
  },
  {
   "cell_type": "markdown",
   "id": "cd1f9389",
   "metadata": {},
   "source": [
    "## 4. Training met Gradient Descent\n",
    "\n",
    "## ✍️\n",
    "\n",
    "Nu trainen we het model met gradient descent. We houden de loss en accuracy bij voor zowel de training als test set."
   ]
  },
  {
   "cell_type": "code",
   "execution_count": null,
   "id": "82ef88fb",
   "metadata": {},
   "outputs": [],
   "source": []
  },
  {
   "cell_type": "markdown",
   "id": "3b57a9e4",
   "metadata": {},
   "source": [
    "## 5. Visualisatie van Training Proces\n",
    "\n",
    "## ✍️\n",
    "\n",
    "We visualiseren hoe de loss en accuracy evolueren tijdens het training proces."
   ]
  },
  {
   "cell_type": "code",
   "execution_count": null,
   "id": "292fa8ee",
   "metadata": {},
   "outputs": [],
   "source": []
  },
  {
   "cell_type": "markdown",
   "id": "a9c3cff9",
   "metadata": {},
   "source": [
    "## 6. Model Evaluatie en Predictions\n",
    "\n",
    "## 🎯\n",
    "\n",
    "Laten we kijken naar de voorspellingen van ons model en hoe goed het presteert."
   ]
  },
  {
   "cell_type": "code",
   "execution_count": null,
   "id": "a15a0eba",
   "metadata": {},
   "outputs": [],
   "source": []
  },
  {
   "cell_type": "markdown",
   "id": "f4d7bda9",
   "metadata": {},
   "source": [
    "## 7. Decision Boundary Visualisatie\n",
    "\n",
    "## 🎯\n",
    "\n",
    "We visualiseren de decision boundary van ons model voor twee features tegelijk. We gebruiken petal length en petal width omdat deze features het best discrimineren tussen de twee soorten."
   ]
  },
  {
   "cell_type": "code",
   "execution_count": null,
   "id": "7ac510f9",
   "metadata": {},
   "outputs": [],
   "source": []
  },
  {
   "cell_type": "markdown",
   "id": "f63fbf82",
   "metadata": {},
   "source": [
    "## 8. Interactieve Visualisatie met Plotly\n",
    "\n",
    "## 🎯\n",
    "\n",
    "Laten we een interactieve 3D visualisatie maken om te zien hoe de voorspelde waarschijnlijkheid varieert in de feature space."
   ]
  },
  {
   "cell_type": "code",
   "execution_count": null,
   "id": "24665ff5",
   "metadata": {},
   "outputs": [],
   "source": []
  }
 ],
 "metadata": {
  "kernelspec": {
   "display_name": "ml-courses",
   "language": "python",
   "name": "python3"
  },
  "language_info": {
   "codemirror_mode": {
    "name": "ipython",
    "version": 3
   },
   "file_extension": ".py",
   "mimetype": "text/x-python",
   "name": "python",
   "nbconvert_exporter": "python",
   "pygments_lexer": "ipython3",
   "version": "3.10.19"
  }
 },
 "nbformat": 4,
 "nbformat_minor": 5
}
